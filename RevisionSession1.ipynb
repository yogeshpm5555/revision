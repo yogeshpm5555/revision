{
 "cells": [
  {
   "cell_type": "code",
   "execution_count": 1,
   "id": "aad5a0d5",
   "metadata": {},
   "outputs": [
    {
     "ename": "NameError",
     "evalue": "name 'fkdjgfgfgnfdkg' is not defined",
     "output_type": "error",
     "traceback": [
      "\u001b[1;31m---------------------------------------------------------------------------\u001b[0m",
      "\u001b[1;31mNameError\u001b[0m                                 Traceback (most recent call last)",
      "\u001b[1;32m~\\AppData\\Local\\Temp/ipykernel_19464/791635614.py\u001b[0m in \u001b[0;36m<module>\u001b[1;34m\u001b[0m\n\u001b[1;32m----> 1\u001b[1;33m \u001b[0mfkdjgfgfgnfdkg\u001b[0m\u001b[1;33m\u001b[0m\u001b[1;33m\u001b[0m\u001b[0m\n\u001b[0m",
      "\u001b[1;31mNameError\u001b[0m: name 'fkdjgfgfgnfdkg' is not defined"
     ]
    }
   ],
   "source": [
    "fkdjgfgfgnfdkg"
   ]
  },
  {
   "cell_type": "code",
   "execution_count": 2,
   "id": "551f667f",
   "metadata": {},
   "outputs": [],
   "source": [
    "#fgjkfngfdngfngkfdngfdngfdngksfdn"
   ]
  },
  {
   "cell_type": "markdown",
   "id": "cf2ee8f3",
   "metadata": {},
   "source": [
    "## Basic Python"
   ]
  },
  {
   "cell_type": "code",
   "execution_count": 3,
   "id": "661c474c",
   "metadata": {},
   "outputs": [],
   "source": [
    "a=56"
   ]
  },
  {
   "cell_type": "code",
   "execution_count": 4,
   "id": "b475cd9e",
   "metadata": {},
   "outputs": [
    {
     "data": {
      "text/plain": [
       "56"
      ]
     },
     "execution_count": 4,
     "metadata": {},
     "output_type": "execute_result"
    }
   ],
   "source": [
    "a"
   ]
  },
  {
   "cell_type": "code",
   "execution_count": 5,
   "id": "24e8c9f2",
   "metadata": {},
   "outputs": [
    {
     "data": {
      "text/plain": [
       "int"
      ]
     },
     "execution_count": 5,
     "metadata": {},
     "output_type": "execute_result"
    }
   ],
   "source": [
    "type(a)"
   ]
  },
  {
   "cell_type": "code",
   "execution_count": 6,
   "id": "cf6d5de2",
   "metadata": {},
   "outputs": [
    {
     "ename": "SyntaxError",
     "evalue": "invalid syntax (Temp/ipykernel_19464/2573077915.py, line 1)",
     "output_type": "error",
     "traceback": [
      "\u001b[1;36m  File \u001b[1;32m\"C:\\Users\\Admin\\AppData\\Local\\Temp/ipykernel_19464/2573077915.py\"\u001b[1;36m, line \u001b[1;32m1\u001b[0m\n\u001b[1;33m    2b=89\u001b[0m\n\u001b[1;37m     ^\u001b[0m\n\u001b[1;31mSyntaxError\u001b[0m\u001b[1;31m:\u001b[0m invalid syntax\n"
     ]
    }
   ],
   "source": [
    "2b=89"
   ]
  },
  {
   "cell_type": "code",
   "execution_count": 7,
   "id": "529e5a78",
   "metadata": {},
   "outputs": [
    {
     "ename": "SyntaxError",
     "evalue": "invalid syntax (Temp/ipykernel_19464/3545519428.py, line 1)",
     "output_type": "error",
     "traceback": [
      "\u001b[1;36m  File \u001b[1;32m\"C:\\Users\\Admin\\AppData\\Local\\Temp/ipykernel_19464/3545519428.py\"\u001b[1;36m, line \u001b[1;32m1\u001b[0m\n\u001b[1;33m    @b=78\u001b[0m\n\u001b[1;37m      ^\u001b[0m\n\u001b[1;31mSyntaxError\u001b[0m\u001b[1;31m:\u001b[0m invalid syntax\n"
     ]
    }
   ],
   "source": [
    "@b=78"
   ]
  },
  {
   "cell_type": "code",
   "execution_count": 8,
   "id": "d4980373",
   "metadata": {},
   "outputs": [],
   "source": [
    "name_of_var=45"
   ]
  },
  {
   "cell_type": "code",
   "execution_count": 9,
   "id": "f11f090d",
   "metadata": {},
   "outputs": [
    {
     "data": {
      "text/plain": [
       "45"
      ]
     },
     "execution_count": 9,
     "metadata": {},
     "output_type": "execute_result"
    }
   ],
   "source": [
    "name_of_var"
   ]
  },
  {
   "cell_type": "code",
   "execution_count": 10,
   "id": "5097a95e",
   "metadata": {},
   "outputs": [],
   "source": [
    "x=44"
   ]
  },
  {
   "cell_type": "code",
   "execution_count": 16,
   "id": "4630b9db",
   "metadata": {},
   "outputs": [],
   "source": [
    "y=90"
   ]
  },
  {
   "cell_type": "code",
   "execution_count": 12,
   "id": "98ff8b0a",
   "metadata": {},
   "outputs": [
    {
     "data": {
      "text/plain": [
       "44"
      ]
     },
     "execution_count": 12,
     "metadata": {},
     "output_type": "execute_result"
    }
   ],
   "source": [
    "x"
   ]
  },
  {
   "cell_type": "code",
   "execution_count": 13,
   "id": "304b157f",
   "metadata": {},
   "outputs": [
    {
     "data": {
      "text/plain": [
       "33"
      ]
     },
     "execution_count": 13,
     "metadata": {},
     "output_type": "execute_result"
    }
   ],
   "source": [
    "y"
   ]
  },
  {
   "cell_type": "code",
   "execution_count": 14,
   "id": "ca6aa452",
   "metadata": {},
   "outputs": [],
   "source": [
    "z=x+y"
   ]
  },
  {
   "cell_type": "code",
   "execution_count": 15,
   "id": "ec3f7c07",
   "metadata": {},
   "outputs": [
    {
     "data": {
      "text/plain": [
       "77"
      ]
     },
     "execution_count": 15,
     "metadata": {},
     "output_type": "execute_result"
    }
   ],
   "source": [
    "z"
   ]
  },
  {
   "cell_type": "code",
   "execution_count": 17,
   "id": "145997ab",
   "metadata": {},
   "outputs": [],
   "source": [
    "z=x+y"
   ]
  },
  {
   "cell_type": "code",
   "execution_count": 18,
   "id": "02352833",
   "metadata": {},
   "outputs": [
    {
     "data": {
      "text/plain": [
       "134"
      ]
     },
     "execution_count": 18,
     "metadata": {},
     "output_type": "execute_result"
    }
   ],
   "source": [
    "z"
   ]
  },
  {
   "cell_type": "markdown",
   "id": "c4335028",
   "metadata": {},
   "source": [
    "## data types"
   ]
  },
  {
   "cell_type": "code",
   "execution_count": 19,
   "id": "c0945dab",
   "metadata": {},
   "outputs": [],
   "source": [
    "a=56"
   ]
  },
  {
   "cell_type": "code",
   "execution_count": 20,
   "id": "a83a6c60",
   "metadata": {},
   "outputs": [
    {
     "data": {
      "text/plain": [
       "int"
      ]
     },
     "execution_count": 20,
     "metadata": {},
     "output_type": "execute_result"
    }
   ],
   "source": [
    "type(a)"
   ]
  },
  {
   "cell_type": "code",
   "execution_count": 21,
   "id": "60a8f1a0",
   "metadata": {},
   "outputs": [],
   "source": [
    "b=78.90"
   ]
  },
  {
   "cell_type": "code",
   "execution_count": 22,
   "id": "4d0fe96a",
   "metadata": {},
   "outputs": [
    {
     "data": {
      "text/plain": [
       "float"
      ]
     },
     "execution_count": 22,
     "metadata": {},
     "output_type": "execute_result"
    }
   ],
   "source": [
    "type(b)"
   ]
  },
  {
   "cell_type": "code",
   "execution_count": 23,
   "id": "c7061c18",
   "metadata": {},
   "outputs": [],
   "source": [
    "s='hello'"
   ]
  },
  {
   "cell_type": "code",
   "execution_count": 24,
   "id": "c794b1d0",
   "metadata": {},
   "outputs": [
    {
     "data": {
      "text/plain": [
       "'hello'"
      ]
     },
     "execution_count": 24,
     "metadata": {},
     "output_type": "execute_result"
    }
   ],
   "source": [
    "s"
   ]
  },
  {
   "cell_type": "code",
   "execution_count": 25,
   "id": "4ff4f3b1",
   "metadata": {},
   "outputs": [
    {
     "data": {
      "text/plain": [
       "str"
      ]
     },
     "execution_count": 25,
     "metadata": {},
     "output_type": "execute_result"
    }
   ],
   "source": [
    "type(s)"
   ]
  },
  {
   "cell_type": "code",
   "execution_count": 26,
   "id": "4cb16b37",
   "metadata": {},
   "outputs": [],
   "source": [
    "name=\"Rohit\""
   ]
  },
  {
   "cell_type": "code",
   "execution_count": 27,
   "id": "622d6ced",
   "metadata": {},
   "outputs": [
    {
     "data": {
      "text/plain": [
       "str"
      ]
     },
     "execution_count": 27,
     "metadata": {},
     "output_type": "execute_result"
    }
   ],
   "source": [
    "type(name)"
   ]
  },
  {
   "cell_type": "code",
   "execution_count": 28,
   "id": "316f9964",
   "metadata": {},
   "outputs": [
    {
     "data": {
      "text/plain": [
       "'Rohit'"
      ]
     },
     "execution_count": 28,
     "metadata": {},
     "output_type": "execute_result"
    }
   ],
   "source": [
    "name"
   ]
  },
  {
   "cell_type": "code",
   "execution_count": 29,
   "id": "77b7f115",
   "metadata": {},
   "outputs": [],
   "source": [
    "d=True"
   ]
  },
  {
   "cell_type": "code",
   "execution_count": 30,
   "id": "df55d9a9",
   "metadata": {},
   "outputs": [
    {
     "data": {
      "text/plain": [
       "bool"
      ]
     },
     "execution_count": 30,
     "metadata": {},
     "output_type": "execute_result"
    }
   ],
   "source": [
    "type(d)"
   ]
  },
  {
   "cell_type": "code",
   "execution_count": 31,
   "id": "26e033b4",
   "metadata": {},
   "outputs": [],
   "source": [
    "e=False"
   ]
  },
  {
   "cell_type": "code",
   "execution_count": 32,
   "id": "296d0053",
   "metadata": {},
   "outputs": [
    {
     "data": {
      "text/plain": [
       "False"
      ]
     },
     "execution_count": 32,
     "metadata": {},
     "output_type": "execute_result"
    }
   ],
   "source": [
    "e"
   ]
  },
  {
   "cell_type": "code",
   "execution_count": 33,
   "id": "38b4a4e8",
   "metadata": {},
   "outputs": [
    {
     "data": {
      "text/plain": [
       "bool"
      ]
     },
     "execution_count": 33,
     "metadata": {},
     "output_type": "execute_result"
    }
   ],
   "source": [
    "type(e)"
   ]
  },
  {
   "cell_type": "code",
   "execution_count": 34,
   "id": "bad90d60",
   "metadata": {},
   "outputs": [
    {
     "data": {
      "text/plain": [
       "1"
      ]
     },
     "execution_count": 34,
     "metadata": {},
     "output_type": "execute_result"
    }
   ],
   "source": [
    "True+False"
   ]
  },
  {
   "cell_type": "code",
   "execution_count": 35,
   "id": "605c4ead",
   "metadata": {},
   "outputs": [
    {
     "data": {
      "text/plain": [
       "4"
      ]
     },
     "execution_count": 35,
     "metadata": {},
     "output_type": "execute_result"
    }
   ],
   "source": [
    "True+False+True+True+True+False"
   ]
  },
  {
   "cell_type": "code",
   "execution_count": 36,
   "id": "51b38db4",
   "metadata": {},
   "outputs": [
    {
     "data": {
      "text/plain": [
       "9"
      ]
     },
     "execution_count": 36,
     "metadata": {},
     "output_type": "execute_result"
    }
   ],
   "source": [
    "True+False+True+True+True+False+5"
   ]
  },
  {
   "cell_type": "code",
   "execution_count": 37,
   "id": "8b780a26",
   "metadata": {},
   "outputs": [],
   "source": [
    "c=5j+8"
   ]
  },
  {
   "cell_type": "code",
   "execution_count": 38,
   "id": "bf415761",
   "metadata": {},
   "outputs": [
    {
     "data": {
      "text/plain": [
       "(8+5j)"
      ]
     },
     "execution_count": 38,
     "metadata": {},
     "output_type": "execute_result"
    }
   ],
   "source": [
    "c"
   ]
  },
  {
   "cell_type": "code",
   "execution_count": 39,
   "id": "f402ecb7",
   "metadata": {},
   "outputs": [
    {
     "data": {
      "text/plain": [
       "complex"
      ]
     },
     "execution_count": 39,
     "metadata": {},
     "output_type": "execute_result"
    }
   ],
   "source": [
    "type(c)"
   ]
  },
  {
   "cell_type": "markdown",
   "id": "0217087e",
   "metadata": {},
   "source": [
    "### String Indexing"
   ]
  },
  {
   "cell_type": "code",
   "execution_count": 41,
   "id": "ca0d65ad",
   "metadata": {},
   "outputs": [],
   "source": [
    "s='hello'"
   ]
  },
  {
   "cell_type": "code",
   "execution_count": 42,
   "id": "0f7dc574",
   "metadata": {},
   "outputs": [
    {
     "data": {
      "text/plain": [
       "str"
      ]
     },
     "execution_count": 42,
     "metadata": {},
     "output_type": "execute_result"
    }
   ],
   "source": [
    "type(s)"
   ]
  },
  {
   "cell_type": "code",
   "execution_count": 43,
   "id": "7aae4034",
   "metadata": {},
   "outputs": [
    {
     "data": {
      "text/plain": [
       "'hello'"
      ]
     },
     "execution_count": 43,
     "metadata": {},
     "output_type": "execute_result"
    }
   ],
   "source": [
    "s"
   ]
  },
  {
   "cell_type": "code",
   "execution_count": 44,
   "id": "4fad165c",
   "metadata": {},
   "outputs": [
    {
     "data": {
      "text/plain": [
       "'e'"
      ]
     },
     "execution_count": 44,
     "metadata": {},
     "output_type": "execute_result"
    }
   ],
   "source": [
    "s[1]"
   ]
  },
  {
   "cell_type": "code",
   "execution_count": 45,
   "id": "4d02d59f",
   "metadata": {},
   "outputs": [
    {
     "data": {
      "text/plain": [
       "'h'"
      ]
     },
     "execution_count": 45,
     "metadata": {},
     "output_type": "execute_result"
    }
   ],
   "source": [
    "s[0]"
   ]
  },
  {
   "cell_type": "code",
   "execution_count": 46,
   "id": "bc099a53",
   "metadata": {},
   "outputs": [],
   "source": [
    "s='abcdefghijk'"
   ]
  },
  {
   "cell_type": "code",
   "execution_count": 47,
   "id": "591e4cae",
   "metadata": {},
   "outputs": [
    {
     "data": {
      "text/plain": [
       "str"
      ]
     },
     "execution_count": 47,
     "metadata": {},
     "output_type": "execute_result"
    }
   ],
   "source": [
    "type(s)"
   ]
  },
  {
   "cell_type": "code",
   "execution_count": 48,
   "id": "0e981eb1",
   "metadata": {},
   "outputs": [
    {
     "data": {
      "text/plain": [
       "'abcdefghijk'"
      ]
     },
     "execution_count": 48,
     "metadata": {},
     "output_type": "execute_result"
    }
   ],
   "source": [
    "s"
   ]
  },
  {
   "cell_type": "code",
   "execution_count": 49,
   "id": "52114fbc",
   "metadata": {},
   "outputs": [
    {
     "data": {
      "text/plain": [
       "'d'"
      ]
     },
     "execution_count": 49,
     "metadata": {},
     "output_type": "execute_result"
    }
   ],
   "source": [
    "s[3]"
   ]
  },
  {
   "cell_type": "code",
   "execution_count": 50,
   "id": "638d7ad0",
   "metadata": {},
   "outputs": [
    {
     "ename": "IndexError",
     "evalue": "string index out of range",
     "output_type": "error",
     "traceback": [
      "\u001b[1;31m---------------------------------------------------------------------------\u001b[0m",
      "\u001b[1;31mIndexError\u001b[0m                                Traceback (most recent call last)",
      "\u001b[1;32m~\\AppData\\Local\\Temp/ipykernel_19464/2330255050.py\u001b[0m in \u001b[0;36m<module>\u001b[1;34m\u001b[0m\n\u001b[1;32m----> 1\u001b[1;33m \u001b[0ms\u001b[0m\u001b[1;33m[\u001b[0m\u001b[1;36m12\u001b[0m\u001b[1;33m]\u001b[0m\u001b[1;33m\u001b[0m\u001b[1;33m\u001b[0m\u001b[0m\n\u001b[0m",
      "\u001b[1;31mIndexError\u001b[0m: string index out of range"
     ]
    }
   ],
   "source": [
    "s[12]"
   ]
  },
  {
   "cell_type": "code",
   "execution_count": 51,
   "id": "e5c1ca5e",
   "metadata": {},
   "outputs": [
    {
     "data": {
      "text/plain": [
       "'abcdefghijk'"
      ]
     },
     "execution_count": 51,
     "metadata": {},
     "output_type": "execute_result"
    }
   ],
   "source": [
    "s[:]"
   ]
  },
  {
   "cell_type": "code",
   "execution_count": 52,
   "id": "e20fdd85",
   "metadata": {},
   "outputs": [
    {
     "data": {
      "text/plain": [
       "'abcdefghijk'"
      ]
     },
     "execution_count": 52,
     "metadata": {},
     "output_type": "execute_result"
    }
   ],
   "source": [
    "s[0:]"
   ]
  },
  {
   "cell_type": "code",
   "execution_count": 53,
   "id": "4e5b5633",
   "metadata": {},
   "outputs": [
    {
     "data": {
      "text/plain": [
       "'abcdefghijk'"
      ]
     },
     "execution_count": 53,
     "metadata": {},
     "output_type": "execute_result"
    }
   ],
   "source": [
    "s[0:11]"
   ]
  },
  {
   "cell_type": "code",
   "execution_count": 54,
   "id": "dcb6bf37",
   "metadata": {},
   "outputs": [
    {
     "data": {
      "text/plain": [
       "'abcdef'"
      ]
     },
     "execution_count": 54,
     "metadata": {},
     "output_type": "execute_result"
    }
   ],
   "source": [
    "s[0:6]"
   ]
  },
  {
   "cell_type": "code",
   "execution_count": 55,
   "id": "c05f71b9",
   "metadata": {},
   "outputs": [
    {
     "data": {
      "text/plain": [
       "'fgh'"
      ]
     },
     "execution_count": 55,
     "metadata": {},
     "output_type": "execute_result"
    }
   ],
   "source": [
    "s[5:8]"
   ]
  },
  {
   "cell_type": "code",
   "execution_count": 56,
   "id": "d2dcf042",
   "metadata": {},
   "outputs": [
    {
     "data": {
      "text/plain": [
       "'ijk'"
      ]
     },
     "execution_count": 56,
     "metadata": {},
     "output_type": "execute_result"
    }
   ],
   "source": [
    "s[8:11]"
   ]
  },
  {
   "cell_type": "code",
   "execution_count": 57,
   "id": "528fab43",
   "metadata": {},
   "outputs": [
    {
     "ename": "IndexError",
     "evalue": "string index out of range",
     "output_type": "error",
     "traceback": [
      "\u001b[1;31m---------------------------------------------------------------------------\u001b[0m",
      "\u001b[1;31mIndexError\u001b[0m                                Traceback (most recent call last)",
      "\u001b[1;32m~\\AppData\\Local\\Temp/ipykernel_19464/2390001549.py\u001b[0m in \u001b[0;36m<module>\u001b[1;34m\u001b[0m\n\u001b[1;32m----> 1\u001b[1;33m \u001b[0ms\u001b[0m\u001b[1;33m[\u001b[0m\u001b[1;36m100\u001b[0m\u001b[1;33m]\u001b[0m\u001b[1;33m\u001b[0m\u001b[1;33m\u001b[0m\u001b[0m\n\u001b[0m",
      "\u001b[1;31mIndexError\u001b[0m: string index out of range"
     ]
    }
   ],
   "source": [
    "s[100]"
   ]
  },
  {
   "cell_type": "code",
   "execution_count": 58,
   "id": "024018d3",
   "metadata": {},
   "outputs": [
    {
     "data": {
      "text/plain": [
       "''"
      ]
     },
     "execution_count": 58,
     "metadata": {},
     "output_type": "execute_result"
    }
   ],
   "source": [
    "s[100:]"
   ]
  },
  {
   "cell_type": "code",
   "execution_count": 59,
   "id": "e6982ef0",
   "metadata": {},
   "outputs": [
    {
     "data": {
      "text/plain": [
       "'abcdefghijk'"
      ]
     },
     "execution_count": 59,
     "metadata": {},
     "output_type": "execute_result"
    }
   ],
   "source": [
    "s[:12]"
   ]
  },
  {
   "cell_type": "code",
   "execution_count": 60,
   "id": "15f07b76",
   "metadata": {},
   "outputs": [
    {
     "data": {
      "text/plain": [
       "'abcdef'"
      ]
     },
     "execution_count": 60,
     "metadata": {},
     "output_type": "execute_result"
    }
   ],
   "source": [
    "s[:6]"
   ]
  },
  {
   "cell_type": "code",
   "execution_count": 61,
   "id": "052af6de",
   "metadata": {},
   "outputs": [
    {
     "data": {
      "text/plain": [
       "''"
      ]
     },
     "execution_count": 61,
     "metadata": {},
     "output_type": "execute_result"
    }
   ],
   "source": [
    "s[45:90]"
   ]
  },
  {
   "cell_type": "code",
   "execution_count": 62,
   "id": "7cbbf3a1",
   "metadata": {},
   "outputs": [
    {
     "data": {
      "text/plain": [
       "'cegik'"
      ]
     },
     "execution_count": 62,
     "metadata": {},
     "output_type": "execute_result"
    }
   ],
   "source": [
    "s[2:12:2]"
   ]
  },
  {
   "cell_type": "code",
   "execution_count": 63,
   "id": "bcb68673",
   "metadata": {},
   "outputs": [
    {
     "data": {
      "text/plain": [
       "'ceg'"
      ]
     },
     "execution_count": 63,
     "metadata": {},
     "output_type": "execute_result"
    }
   ],
   "source": [
    "s[2:8:2]"
   ]
  },
  {
   "cell_type": "code",
   "execution_count": 64,
   "id": "12f1bdb6",
   "metadata": {},
   "outputs": [
    {
     "data": {
      "text/plain": [
       "'dg'"
      ]
     },
     "execution_count": 64,
     "metadata": {},
     "output_type": "execute_result"
    }
   ],
   "source": [
    "s[3:9:3]"
   ]
  },
  {
   "cell_type": "code",
   "execution_count": 65,
   "id": "5f4a5801",
   "metadata": {},
   "outputs": [
    {
     "data": {
      "text/plain": [
       "'abcdefghijk'"
      ]
     },
     "execution_count": 65,
     "metadata": {},
     "output_type": "execute_result"
    }
   ],
   "source": [
    "s"
   ]
  },
  {
   "cell_type": "code",
   "execution_count": 66,
   "id": "11cd300b",
   "metadata": {},
   "outputs": [
    {
     "data": {
      "text/plain": [
       "'j'"
      ]
     },
     "execution_count": 66,
     "metadata": {},
     "output_type": "execute_result"
    }
   ],
   "source": [
    "s[-2]"
   ]
  },
  {
   "cell_type": "code",
   "execution_count": 67,
   "id": "506baa72",
   "metadata": {},
   "outputs": [
    {
     "data": {
      "text/plain": [
       "'d'"
      ]
     },
     "execution_count": 67,
     "metadata": {},
     "output_type": "execute_result"
    }
   ],
   "source": [
    "s[-8]"
   ]
  },
  {
   "cell_type": "code",
   "execution_count": 68,
   "id": "1880ec28",
   "metadata": {},
   "outputs": [
    {
     "data": {
      "text/plain": [
       "''"
      ]
     },
     "execution_count": 68,
     "metadata": {},
     "output_type": "execute_result"
    }
   ],
   "source": [
    "s[-2:-8]"
   ]
  },
  {
   "cell_type": "code",
   "execution_count": 69,
   "id": "cbeab687",
   "metadata": {},
   "outputs": [
    {
     "data": {
      "text/plain": [
       "'gec'"
      ]
     },
     "execution_count": 69,
     "metadata": {},
     "output_type": "execute_result"
    }
   ],
   "source": [
    "s[-5:-11:-2]"
   ]
  },
  {
   "cell_type": "code",
   "execution_count": 70,
   "id": "069bf86a",
   "metadata": {},
   "outputs": [
    {
     "data": {
      "text/plain": [
       "'abcdefghijk'"
      ]
     },
     "execution_count": 70,
     "metadata": {},
     "output_type": "execute_result"
    }
   ],
   "source": [
    "s"
   ]
  },
  {
   "cell_type": "code",
   "execution_count": 71,
   "id": "bc8410af",
   "metadata": {},
   "outputs": [
    {
     "data": {
      "text/plain": [
       "'kjihgfedcba'"
      ]
     },
     "execution_count": 71,
     "metadata": {},
     "output_type": "execute_result"
    }
   ],
   "source": [
    "s[::-1]"
   ]
  },
  {
   "cell_type": "code",
   "execution_count": 72,
   "id": "7d510eb3",
   "metadata": {},
   "outputs": [
    {
     "data": {
      "text/plain": [
       "'Aidni'"
      ]
     },
     "execution_count": 72,
     "metadata": {},
     "output_type": "execute_result"
    }
   ],
   "source": [
    "'indiA'[::-1]"
   ]
  },
  {
   "cell_type": "code",
   "execution_count": 73,
   "id": "e20900d4",
   "metadata": {},
   "outputs": [
    {
     "name": "stderr",
     "output_type": "stream",
     "text": [
      "<>:1: SyntaxWarning: 'int' object is not subscriptable; perhaps you missed a comma?\n",
      "<>:1: SyntaxWarning: 'int' object is not subscriptable; perhaps you missed a comma?\n",
      "C:\\Users\\Admin\\AppData\\Local\\Temp/ipykernel_19464/2779207680.py:1: SyntaxWarning: 'int' object is not subscriptable; perhaps you missed a comma?\n",
      "  65564654[::-1]\n"
     ]
    },
    {
     "ename": "TypeError",
     "evalue": "'int' object is not subscriptable",
     "output_type": "error",
     "traceback": [
      "\u001b[1;31m---------------------------------------------------------------------------\u001b[0m",
      "\u001b[1;31mTypeError\u001b[0m                                 Traceback (most recent call last)",
      "\u001b[1;32m~\\AppData\\Local\\Temp/ipykernel_19464/2779207680.py\u001b[0m in \u001b[0;36m<module>\u001b[1;34m\u001b[0m\n\u001b[1;32m----> 1\u001b[1;33m \u001b[1;36m65564654\u001b[0m\u001b[1;33m[\u001b[0m\u001b[1;33m:\u001b[0m\u001b[1;33m:\u001b[0m\u001b[1;33m-\u001b[0m\u001b[1;36m1\u001b[0m\u001b[1;33m]\u001b[0m\u001b[1;33m\u001b[0m\u001b[1;33m\u001b[0m\u001b[0m\n\u001b[0m",
      "\u001b[1;31mTypeError\u001b[0m: 'int' object is not subscriptable"
     ]
    }
   ],
   "source": [
    "65564654[::-1]"
   ]
  },
  {
   "cell_type": "code",
   "execution_count": 74,
   "id": "ac924c6c",
   "metadata": {},
   "outputs": [
    {
     "data": {
      "text/plain": [
       "'45646556'"
      ]
     },
     "execution_count": 74,
     "metadata": {},
     "output_type": "execute_result"
    }
   ],
   "source": [
    "'65564654'[::-1]"
   ]
  },
  {
   "cell_type": "code",
   "execution_count": 75,
   "id": "26d7fba6",
   "metadata": {},
   "outputs": [
    {
     "data": {
      "text/plain": [
       "'C:\\\\Users\\\\Admin'"
      ]
     },
     "execution_count": 75,
     "metadata": {},
     "output_type": "execute_result"
    }
   ],
   "source": [
    "pwd"
   ]
  },
  {
   "cell_type": "code",
   "execution_count": null,
   "id": "4c934d9f",
   "metadata": {},
   "outputs": [],
   "source": [
    "s[:-1]='abcdefghij'"
   ]
  },
  {
   "cell_type": "code",
   "execution_count": 76,
   "id": "21b13355",
   "metadata": {},
   "outputs": [
    {
     "data": {
      "text/plain": [
       "'kjihgfedcba'"
      ]
     },
     "execution_count": 76,
     "metadata": {},
     "output_type": "execute_result"
    }
   ],
   "source": [
    "s[::-1]"
   ]
  },
  {
   "cell_type": "code",
   "execution_count": 77,
   "id": "4385cd2c",
   "metadata": {},
   "outputs": [
    {
     "data": {
      "text/plain": [
       "'abcdefghijk'"
      ]
     },
     "execution_count": 77,
     "metadata": {},
     "output_type": "execute_result"
    }
   ],
   "source": [
    "s"
   ]
  },
  {
   "cell_type": "code",
   "execution_count": 78,
   "id": "0be599fb",
   "metadata": {},
   "outputs": [
    {
     "data": {
      "text/plain": [
       "'abcdefghij'"
      ]
     },
     "execution_count": 78,
     "metadata": {},
     "output_type": "execute_result"
    }
   ],
   "source": [
    "s[:-1]"
   ]
  },
  {
   "cell_type": "code",
   "execution_count": 79,
   "id": "527c5c8b",
   "metadata": {},
   "outputs": [],
   "source": [
    "a=89\n",
    "b=\"rohit\""
   ]
  },
  {
   "cell_type": "code",
   "execution_count": 80,
   "id": "d02b7f96",
   "metadata": {},
   "outputs": [
    {
     "data": {
      "text/plain": [
       "89"
      ]
     },
     "execution_count": 80,
     "metadata": {},
     "output_type": "execute_result"
    }
   ],
   "source": [
    "a"
   ]
  },
  {
   "cell_type": "code",
   "execution_count": 81,
   "id": "0d5afb4f",
   "metadata": {},
   "outputs": [
    {
     "data": {
      "text/plain": [
       "'rohit'"
      ]
     },
     "execution_count": 81,
     "metadata": {},
     "output_type": "execute_result"
    }
   ],
   "source": [
    "b"
   ]
  },
  {
   "cell_type": "code",
   "execution_count": 82,
   "id": "9da622f0",
   "metadata": {},
   "outputs": [
    {
     "data": {
      "text/plain": [
       "'my number is 89 and my name is rohit'"
      ]
     },
     "execution_count": 82,
     "metadata": {},
     "output_type": "execute_result"
    }
   ],
   "source": [
    "'my number is {} and my name is {}'.format(a,b)"
   ]
  },
  {
   "cell_type": "code",
   "execution_count": 83,
   "id": "1cc87cc0",
   "metadata": {},
   "outputs": [
    {
     "data": {
      "text/plain": [
       "'my number is rohit and my name is 89'"
      ]
     },
     "execution_count": 83,
     "metadata": {},
     "output_type": "execute_result"
    }
   ],
   "source": [
    "'my number is {} and my name is {}'.format(b,a)"
   ]
  },
  {
   "cell_type": "code",
   "execution_count": 84,
   "id": "66ea55d1",
   "metadata": {},
   "outputs": [
    {
     "data": {
      "text/plain": [
       "'my number is 89 and my name is rohit'"
      ]
     },
     "execution_count": 84,
     "metadata": {},
     "output_type": "execute_result"
    }
   ],
   "source": [
    "'my number is {one} and my name is {two}'.format(one=a,two=b)"
   ]
  },
  {
   "cell_type": "code",
   "execution_count": 85,
   "id": "e5c0bf9e",
   "metadata": {},
   "outputs": [
    {
     "data": {
      "text/plain": [
       "'my number is 89 and my name is rohit rohit rohit'"
      ]
     },
     "execution_count": 85,
     "metadata": {},
     "output_type": "execute_result"
    }
   ],
   "source": [
    "'my number is {one} and my name is {two} {two} {two}'.format(one=a,two=b)"
   ]
  },
  {
   "cell_type": "code",
   "execution_count": 86,
   "id": "29f87110",
   "metadata": {},
   "outputs": [],
   "source": [
    "## Lists "
   ]
  },
  {
   "cell_type": "code",
   "execution_count": 87,
   "id": "cac7e7ee",
   "metadata": {},
   "outputs": [
    {
     "data": {
      "text/plain": [
       "[44, 88, 90, 34]"
      ]
     },
     "execution_count": 87,
     "metadata": {},
     "output_type": "execute_result"
    }
   ],
   "source": [
    "[44,88,90,34]"
   ]
  },
  {
   "cell_type": "code",
   "execution_count": 88,
   "id": "c6cd9dbf",
   "metadata": {},
   "outputs": [
    {
     "data": {
      "text/plain": [
       "list"
      ]
     },
     "execution_count": 88,
     "metadata": {},
     "output_type": "execute_result"
    }
   ],
   "source": [
    "type([44,88,90,34])"
   ]
  },
  {
   "cell_type": "code",
   "execution_count": 89,
   "id": "fec2bcdc",
   "metadata": {},
   "outputs": [],
   "source": [
    "a=[12,89,34,56,78,23,55]"
   ]
  },
  {
   "cell_type": "code",
   "execution_count": 90,
   "id": "39a10a0f",
   "metadata": {},
   "outputs": [
    {
     "data": {
      "text/plain": [
       "[12, 89, 34, 56, 78, 23, 55]"
      ]
     },
     "execution_count": 90,
     "metadata": {},
     "output_type": "execute_result"
    }
   ],
   "source": [
    "a"
   ]
  },
  {
   "cell_type": "code",
   "execution_count": 91,
   "id": "b7ae4a5b",
   "metadata": {},
   "outputs": [
    {
     "data": {
      "text/plain": [
       "list"
      ]
     },
     "execution_count": 91,
     "metadata": {},
     "output_type": "execute_result"
    }
   ],
   "source": [
    "type(a)"
   ]
  },
  {
   "cell_type": "code",
   "execution_count": 92,
   "id": "2e1302c0",
   "metadata": {},
   "outputs": [],
   "source": [
    "a.append(456)"
   ]
  },
  {
   "cell_type": "code",
   "execution_count": 93,
   "id": "7888079f",
   "metadata": {},
   "outputs": [
    {
     "data": {
      "text/plain": [
       "[12, 89, 34, 56, 78, 23, 55, 456]"
      ]
     },
     "execution_count": 93,
     "metadata": {},
     "output_type": "execute_result"
    }
   ],
   "source": [
    "a"
   ]
  },
  {
   "cell_type": "code",
   "execution_count": 94,
   "id": "4a76138a",
   "metadata": {},
   "outputs": [],
   "source": [
    "b=[56,88,'hello','bye','python',78,99]"
   ]
  },
  {
   "cell_type": "code",
   "execution_count": 95,
   "id": "6dfd2ece",
   "metadata": {},
   "outputs": [
    {
     "data": {
      "text/plain": [
       "[56, 88, 'hello', 'bye', 'python', 78, 99]"
      ]
     },
     "execution_count": 95,
     "metadata": {},
     "output_type": "execute_result"
    }
   ],
   "source": [
    "b"
   ]
  },
  {
   "cell_type": "code",
   "execution_count": 96,
   "id": "036db525",
   "metadata": {},
   "outputs": [
    {
     "data": {
      "text/plain": [
       "list"
      ]
     },
     "execution_count": 96,
     "metadata": {},
     "output_type": "execute_result"
    }
   ],
   "source": [
    "type(b)"
   ]
  },
  {
   "cell_type": "code",
   "execution_count": 97,
   "id": "368c1777",
   "metadata": {},
   "outputs": [],
   "source": [
    "c=[67,89,'morning',[11,12,13,67,'evening',78],5555,333,'bye']"
   ]
  },
  {
   "cell_type": "code",
   "execution_count": 98,
   "id": "3526d4be",
   "metadata": {},
   "outputs": [
    {
     "data": {
      "text/plain": [
       "[67, 89, 'morning', [11, 12, 13, 67, 'evening', 78], 5555, 333, 'bye']"
      ]
     },
     "execution_count": 98,
     "metadata": {},
     "output_type": "execute_result"
    }
   ],
   "source": [
    "c"
   ]
  },
  {
   "cell_type": "code",
   "execution_count": 99,
   "id": "fed65c1b",
   "metadata": {},
   "outputs": [
    {
     "data": {
      "text/plain": [
       "list"
      ]
     },
     "execution_count": 99,
     "metadata": {},
     "output_type": "execute_result"
    }
   ],
   "source": [
    "type(c)"
   ]
  },
  {
   "cell_type": "code",
   "execution_count": 100,
   "id": "08246e2b",
   "metadata": {},
   "outputs": [
    {
     "data": {
      "text/plain": [
       "[12, 89, 34, 56, 78, 23, 55, 456]"
      ]
     },
     "execution_count": 100,
     "metadata": {},
     "output_type": "execute_result"
    }
   ],
   "source": [
    "a"
   ]
  },
  {
   "cell_type": "code",
   "execution_count": 101,
   "id": "8c33c39b",
   "metadata": {},
   "outputs": [
    {
     "data": {
      "text/plain": [
       "78"
      ]
     },
     "execution_count": 101,
     "metadata": {},
     "output_type": "execute_result"
    }
   ],
   "source": [
    "a[4]"
   ]
  },
  {
   "cell_type": "code",
   "execution_count": 102,
   "id": "520df761",
   "metadata": {},
   "outputs": [
    {
     "data": {
      "text/plain": [
       "[56, 88, 'hello', 'bye', 'python', 78, 99]"
      ]
     },
     "execution_count": 102,
     "metadata": {},
     "output_type": "execute_result"
    }
   ],
   "source": [
    "b"
   ]
  },
  {
   "cell_type": "code",
   "execution_count": 103,
   "id": "d71f512d",
   "metadata": {},
   "outputs": [
    {
     "data": {
      "text/plain": [
       "'bye'"
      ]
     },
     "execution_count": 103,
     "metadata": {},
     "output_type": "execute_result"
    }
   ],
   "source": [
    "b[3]"
   ]
  },
  {
   "cell_type": "code",
   "execution_count": 104,
   "id": "a45bd43c",
   "metadata": {},
   "outputs": [
    {
     "data": {
      "text/plain": [
       "'y'"
      ]
     },
     "execution_count": 104,
     "metadata": {},
     "output_type": "execute_result"
    }
   ],
   "source": [
    "b[3][1]"
   ]
  },
  {
   "cell_type": "code",
   "execution_count": 105,
   "id": "3994b179",
   "metadata": {},
   "outputs": [
    {
     "data": {
      "text/plain": [
       "[56, 88, 'hello', 'bye', 'python', 78, 99]"
      ]
     },
     "execution_count": 105,
     "metadata": {},
     "output_type": "execute_result"
    }
   ],
   "source": [
    "b"
   ]
  },
  {
   "cell_type": "code",
   "execution_count": 106,
   "id": "d84780a3",
   "metadata": {},
   "outputs": [
    {
     "data": {
      "text/plain": [
       "[56, 88, 'hello', 'bye', 'python', 78, 99]"
      ]
     },
     "execution_count": 106,
     "metadata": {},
     "output_type": "execute_result"
    }
   ],
   "source": [
    "b[:]"
   ]
  },
  {
   "cell_type": "code",
   "execution_count": 107,
   "id": "fa0280bd",
   "metadata": {},
   "outputs": [
    {
     "data": {
      "text/plain": [
       "[56, 'hello', 'python', 99]"
      ]
     },
     "execution_count": 107,
     "metadata": {},
     "output_type": "execute_result"
    }
   ],
   "source": [
    "b[0:12:2]"
   ]
  },
  {
   "cell_type": "code",
   "execution_count": 108,
   "id": "b963a504",
   "metadata": {},
   "outputs": [
    {
     "data": {
      "text/plain": [
       "[56, 'bye', 99]"
      ]
     },
     "execution_count": 108,
     "metadata": {},
     "output_type": "execute_result"
    }
   ],
   "source": [
    "b[0:12:3]"
   ]
  },
  {
   "cell_type": "code",
   "execution_count": 109,
   "id": "81561630",
   "metadata": {},
   "outputs": [
    {
     "data": {
      "text/plain": [
       "[56, 88, 'hello', 'bye', 'python', 78, 99]"
      ]
     },
     "execution_count": 109,
     "metadata": {},
     "output_type": "execute_result"
    }
   ],
   "source": [
    "b"
   ]
  },
  {
   "cell_type": "code",
   "execution_count": 110,
   "id": "77b22ba1",
   "metadata": {},
   "outputs": [
    {
     "data": {
      "text/plain": [
       "'python'"
      ]
     },
     "execution_count": 110,
     "metadata": {},
     "output_type": "execute_result"
    }
   ],
   "source": [
    "b[4]"
   ]
  },
  {
   "cell_type": "code",
   "execution_count": 111,
   "id": "0b2ac22d",
   "metadata": {},
   "outputs": [
    {
     "data": {
      "text/plain": [
       "[56, 88, 'hello', 'bye', 'python', 78, 99]"
      ]
     },
     "execution_count": 111,
     "metadata": {},
     "output_type": "execute_result"
    }
   ],
   "source": [
    "b[:]"
   ]
  },
  {
   "cell_type": "code",
   "execution_count": 112,
   "id": "e161f7ac",
   "metadata": {},
   "outputs": [
    {
     "data": {
      "text/plain": [
       "[56, 88, 'hello', 'bye', 'python', 78, 99]"
      ]
     },
     "execution_count": 112,
     "metadata": {},
     "output_type": "execute_result"
    }
   ],
   "source": [
    "b[0:10]"
   ]
  },
  {
   "cell_type": "code",
   "execution_count": 113,
   "id": "7a56be18",
   "metadata": {},
   "outputs": [
    {
     "data": {
      "text/plain": [
       "[56, 'hello', 'python', 99]"
      ]
     },
     "execution_count": 113,
     "metadata": {},
     "output_type": "execute_result"
    }
   ],
   "source": [
    "b[0:10:2]"
   ]
  },
  {
   "cell_type": "code",
   "execution_count": 114,
   "id": "ce1dad07",
   "metadata": {},
   "outputs": [
    {
     "data": {
      "text/plain": [
       "[56, 'bye', 99]"
      ]
     },
     "execution_count": 114,
     "metadata": {},
     "output_type": "execute_result"
    }
   ],
   "source": [
    "b[0:10:3]"
   ]
  },
  {
   "cell_type": "code",
   "execution_count": 115,
   "id": "63d8b2e3",
   "metadata": {},
   "outputs": [],
   "source": [
    "yogeshwar_list=[56, 88, 'hello', 'bye', 'python', 78, 99]"
   ]
  },
  {
   "cell_type": "code",
   "execution_count": 116,
   "id": "d4ea44b5",
   "metadata": {},
   "outputs": [
    {
     "data": {
      "text/plain": [
       "[56, 88, 'hello', 'bye', 'python', 78, 99]"
      ]
     },
     "execution_count": 116,
     "metadata": {},
     "output_type": "execute_result"
    }
   ],
   "source": [
    "yogeshwar_list"
   ]
  },
  {
   "cell_type": "code",
   "execution_count": 119,
   "id": "c2b01be3",
   "metadata": {},
   "outputs": [
    {
     "ename": "IndexError",
     "evalue": "string index out of range",
     "output_type": "error",
     "traceback": [
      "\u001b[1;31m---------------------------------------------------------------------------\u001b[0m",
      "\u001b[1;31mIndexError\u001b[0m                                Traceback (most recent call last)",
      "\u001b[1;32m~\\AppData\\Local\\Temp/ipykernel_19464/621655143.py\u001b[0m in \u001b[0;36m<module>\u001b[1;34m\u001b[0m\n\u001b[1;32m----> 1\u001b[1;33m \u001b[0myogeshwar_list\u001b[0m\u001b[1;33m[\u001b[0m\u001b[1;36m3\u001b[0m\u001b[1;33m]\u001b[0m\u001b[1;33m[\u001b[0m\u001b[1;36m4\u001b[0m\u001b[1;33m]\u001b[0m\u001b[1;33m\u001b[0m\u001b[1;33m\u001b[0m\u001b[0m\n\u001b[0m",
      "\u001b[1;31mIndexError\u001b[0m: string index out of range"
     ]
    }
   ],
   "source": [
    "yogeshwar_list[3][4]"
   ]
  },
  {
   "cell_type": "code",
   "execution_count": 120,
   "id": "c630f187",
   "metadata": {},
   "outputs": [
    {
     "data": {
      "text/plain": [
       "'bye'"
      ]
     },
     "execution_count": 120,
     "metadata": {},
     "output_type": "execute_result"
    }
   ],
   "source": [
    "yogeshwar_list[3]"
   ]
  },
  {
   "cell_type": "code",
   "execution_count": 121,
   "id": "f5faf95b",
   "metadata": {},
   "outputs": [
    {
     "data": {
      "text/plain": [
       "[56, 88, 'hello', 'bye', 'python', 78, 99]"
      ]
     },
     "execution_count": 121,
     "metadata": {},
     "output_type": "execute_result"
    }
   ],
   "source": [
    "b"
   ]
  },
  {
   "cell_type": "code",
   "execution_count": 122,
   "id": "7c8df979",
   "metadata": {},
   "outputs": [],
   "source": [
    "f=[10,44,67,'hello',[33,67,'bye',[55,66,'SUNDAY','holiday',88]]]"
   ]
  },
  {
   "cell_type": "code",
   "execution_count": 123,
   "id": "632e4ba9",
   "metadata": {},
   "outputs": [
    {
     "data": {
      "text/plain": [
       "[10, 44, 67, 'hello', [33, 67, 'bye', [55, 66, 'SUNDAY', 'holiday', 88]]]"
      ]
     },
     "execution_count": 123,
     "metadata": {},
     "output_type": "execute_result"
    }
   ],
   "source": [
    "f"
   ]
  },
  {
   "cell_type": "code",
   "execution_count": 124,
   "id": "6b050aa1",
   "metadata": {},
   "outputs": [
    {
     "data": {
      "text/plain": [
       "list"
      ]
     },
     "execution_count": 124,
     "metadata": {},
     "output_type": "execute_result"
    }
   ],
   "source": [
    "type(f)"
   ]
  },
  {
   "cell_type": "code",
   "execution_count": 125,
   "id": "557cdcec",
   "metadata": {},
   "outputs": [
    {
     "data": {
      "text/plain": [
       "'SUNDAY'"
      ]
     },
     "execution_count": 125,
     "metadata": {},
     "output_type": "execute_result"
    }
   ],
   "source": [
    "f[4][3][2]"
   ]
  },
  {
   "cell_type": "code",
   "execution_count": 126,
   "id": "76263c89",
   "metadata": {},
   "outputs": [
    {
     "data": {
      "text/plain": [
       "'bye'"
      ]
     },
     "execution_count": 126,
     "metadata": {},
     "output_type": "execute_result"
    }
   ],
   "source": [
    "f[4][2]"
   ]
  },
  {
   "cell_type": "code",
   "execution_count": 127,
   "id": "34e5b769",
   "metadata": {},
   "outputs": [
    {
     "data": {
      "text/plain": [
       "[10, 44, 67, 'hello', [33, 67, 'bye', [55, 66, 'SUNDAY', 'holiday', 88]]]"
      ]
     },
     "execution_count": 127,
     "metadata": {},
     "output_type": "execute_result"
    }
   ],
   "source": [
    "f"
   ]
  },
  {
   "cell_type": "code",
   "execution_count": 128,
   "id": "8590969e",
   "metadata": {},
   "outputs": [
    {
     "data": {
      "text/plain": [
       "[33, 67, 'bye', [55, 66, 'SUNDAY', 'holiday', 88]]"
      ]
     },
     "execution_count": 128,
     "metadata": {},
     "output_type": "execute_result"
    }
   ],
   "source": [
    "f[4]"
   ]
  },
  {
   "cell_type": "code",
   "execution_count": 129,
   "id": "dba79bd4",
   "metadata": {},
   "outputs": [
    {
     "data": {
      "text/plain": [
       "[55, 66, 'SUNDAY', 'holiday', 88]"
      ]
     },
     "execution_count": 129,
     "metadata": {},
     "output_type": "execute_result"
    }
   ],
   "source": [
    "f[4][3]"
   ]
  },
  {
   "cell_type": "code",
   "execution_count": 130,
   "id": "20c60e52",
   "metadata": {},
   "outputs": [
    {
     "data": {
      "text/plain": [
       "'SUNDAY'"
      ]
     },
     "execution_count": 130,
     "metadata": {},
     "output_type": "execute_result"
    }
   ],
   "source": [
    "f[4][3][2]"
   ]
  },
  {
   "cell_type": "code",
   "execution_count": 131,
   "id": "a963e751",
   "metadata": {},
   "outputs": [
    {
     "data": {
      "text/plain": [
       "str"
      ]
     },
     "execution_count": 131,
     "metadata": {},
     "output_type": "execute_result"
    }
   ],
   "source": [
    "type(f[4][3][2])"
   ]
  },
  {
   "cell_type": "code",
   "execution_count": 132,
   "id": "cd162d79",
   "metadata": {},
   "outputs": [
    {
     "data": {
      "text/plain": [
       "'DAY'"
      ]
     },
     "execution_count": 132,
     "metadata": {},
     "output_type": "execute_result"
    }
   ],
   "source": [
    "f[4][3][2][3:]"
   ]
  },
  {
   "cell_type": "code",
   "execution_count": 133,
   "id": "fc0ce678",
   "metadata": {},
   "outputs": [
    {
     "data": {
      "text/plain": [
       "[12, 89, 34, 56, 78, 23, 55, 456]"
      ]
     },
     "execution_count": 133,
     "metadata": {},
     "output_type": "execute_result"
    }
   ],
   "source": [
    "a"
   ]
  },
  {
   "cell_type": "code",
   "execution_count": 134,
   "id": "3304588e",
   "metadata": {},
   "outputs": [
    {
     "data": {
      "text/plain": [
       "[56, 88, 'hello', 'bye', 'python', 78, 99]"
      ]
     },
     "execution_count": 134,
     "metadata": {},
     "output_type": "execute_result"
    }
   ],
   "source": [
    "b"
   ]
  },
  {
   "cell_type": "code",
   "execution_count": 135,
   "id": "5d810616",
   "metadata": {},
   "outputs": [
    {
     "data": {
      "text/plain": [
       "[67, 89, 'morning', [11, 12, 13, 67, 'evening', 78], 5555, 333, 'bye']"
      ]
     },
     "execution_count": 135,
     "metadata": {},
     "output_type": "execute_result"
    }
   ],
   "source": [
    "c"
   ]
  },
  {
   "cell_type": "code",
   "execution_count": 138,
   "id": "97d06507",
   "metadata": {},
   "outputs": [
    {
     "data": {
      "text/plain": [
       "[10, 44, 67, 'hello', [33, 67, 'bye', [55, 66, 'SUNDAY', 'holiday', 88]]]"
      ]
     },
     "execution_count": 138,
     "metadata": {},
     "output_type": "execute_result"
    }
   ],
   "source": [
    "f"
   ]
  },
  {
   "cell_type": "code",
   "execution_count": 139,
   "id": "6af05a5c",
   "metadata": {},
   "outputs": [],
   "source": [
    "a.clear()"
   ]
  },
  {
   "cell_type": "code",
   "execution_count": 140,
   "id": "474d56b6",
   "metadata": {},
   "outputs": [
    {
     "data": {
      "text/plain": [
       "[]"
      ]
     },
     "execution_count": 140,
     "metadata": {},
     "output_type": "execute_result"
    }
   ],
   "source": [
    "a"
   ]
  },
  {
   "cell_type": "code",
   "execution_count": 141,
   "id": "03420774",
   "metadata": {},
   "outputs": [
    {
     "data": {
      "text/plain": [
       "[56, 88, 'hello', 'bye', 'python', 78, 99]"
      ]
     },
     "execution_count": 141,
     "metadata": {},
     "output_type": "execute_result"
    }
   ],
   "source": [
    "b"
   ]
  },
  {
   "cell_type": "code",
   "execution_count": 142,
   "id": "13324891",
   "metadata": {},
   "outputs": [],
   "source": [
    "copy_of_b=b.copy()"
   ]
  },
  {
   "cell_type": "code",
   "execution_count": 143,
   "id": "b1a86dcb",
   "metadata": {},
   "outputs": [
    {
     "data": {
      "text/plain": [
       "[56, 88, 'hello', 'bye', 'python', 78, 99]"
      ]
     },
     "execution_count": 143,
     "metadata": {},
     "output_type": "execute_result"
    }
   ],
   "source": [
    "copy_of_b"
   ]
  },
  {
   "cell_type": "code",
   "execution_count": 144,
   "id": "fa796df0",
   "metadata": {},
   "outputs": [
    {
     "data": {
      "text/plain": [
       "1"
      ]
     },
     "execution_count": 144,
     "metadata": {},
     "output_type": "execute_result"
    }
   ],
   "source": [
    "b.count(88)"
   ]
  },
  {
   "cell_type": "code",
   "execution_count": 145,
   "id": "7e2666c7",
   "metadata": {},
   "outputs": [],
   "source": [
    "b.reverse()"
   ]
  },
  {
   "cell_type": "code",
   "execution_count": 146,
   "id": "47964849",
   "metadata": {},
   "outputs": [
    {
     "data": {
      "text/plain": [
       "[99, 78, 'python', 'bye', 'hello', 88, 56]"
      ]
     },
     "execution_count": 146,
     "metadata": {},
     "output_type": "execute_result"
    }
   ],
   "source": [
    "b"
   ]
  },
  {
   "cell_type": "code",
   "execution_count": 147,
   "id": "9adabd3f",
   "metadata": {},
   "outputs": [
    {
     "ename": "TypeError",
     "evalue": "'<' not supported between instances of 'str' and 'int'",
     "output_type": "error",
     "traceback": [
      "\u001b[1;31m---------------------------------------------------------------------------\u001b[0m",
      "\u001b[1;31mTypeError\u001b[0m                                 Traceback (most recent call last)",
      "\u001b[1;32m~\\AppData\\Local\\Temp/ipykernel_19464/1110981077.py\u001b[0m in \u001b[0;36m<module>\u001b[1;34m\u001b[0m\n\u001b[1;32m----> 1\u001b[1;33m \u001b[0mb\u001b[0m\u001b[1;33m.\u001b[0m\u001b[0msort\u001b[0m\u001b[1;33m(\u001b[0m\u001b[1;33m)\u001b[0m\u001b[1;33m\u001b[0m\u001b[1;33m\u001b[0m\u001b[0m\n\u001b[0m",
      "\u001b[1;31mTypeError\u001b[0m: '<' not supported between instances of 'str' and 'int'"
     ]
    }
   ],
   "source": [
    "b.sort()"
   ]
  },
  {
   "cell_type": "code",
   "execution_count": 148,
   "id": "660ebaab",
   "metadata": {},
   "outputs": [],
   "source": [
    "a=[55,2,4,99,45,78,12131]"
   ]
  },
  {
   "cell_type": "code",
   "execution_count": 149,
   "id": "8f883e4e",
   "metadata": {},
   "outputs": [
    {
     "data": {
      "text/plain": [
       "[55, 2, 4, 99, 45, 78, 12131]"
      ]
     },
     "execution_count": 149,
     "metadata": {},
     "output_type": "execute_result"
    }
   ],
   "source": [
    "a"
   ]
  },
  {
   "cell_type": "code",
   "execution_count": 150,
   "id": "e7c3e8b7",
   "metadata": {},
   "outputs": [],
   "source": [
    "a.sort()"
   ]
  },
  {
   "cell_type": "code",
   "execution_count": 151,
   "id": "03b14794",
   "metadata": {},
   "outputs": [
    {
     "data": {
      "text/plain": [
       "[2, 4, 45, 55, 78, 99, 12131]"
      ]
     },
     "execution_count": 151,
     "metadata": {},
     "output_type": "execute_result"
    }
   ],
   "source": [
    "a"
   ]
  },
  {
   "cell_type": "code",
   "execution_count": 152,
   "id": "94ce7573",
   "metadata": {},
   "outputs": [],
   "source": [
    "a.sort(reverse=True)"
   ]
  },
  {
   "cell_type": "code",
   "execution_count": 153,
   "id": "915f5f02",
   "metadata": {},
   "outputs": [
    {
     "data": {
      "text/plain": [
       "[12131, 99, 78, 55, 45, 4, 2]"
      ]
     },
     "execution_count": 153,
     "metadata": {},
     "output_type": "execute_result"
    }
   ],
   "source": [
    "a"
   ]
  },
  {
   "cell_type": "code",
   "execution_count": 154,
   "id": "0ad836f1",
   "metadata": {},
   "outputs": [
    {
     "data": {
      "text/plain": [
       "[12131, 99, 78, 55, 45, 4, 2]"
      ]
     },
     "execution_count": 154,
     "metadata": {},
     "output_type": "execute_result"
    }
   ],
   "source": [
    "a"
   ]
  },
  {
   "cell_type": "code",
   "execution_count": 155,
   "id": "f0eb1502",
   "metadata": {},
   "outputs": [
    {
     "data": {
      "text/plain": [
       "1"
      ]
     },
     "execution_count": 155,
     "metadata": {},
     "output_type": "execute_result"
    }
   ],
   "source": [
    "a.count(99)"
   ]
  },
  {
   "cell_type": "code",
   "execution_count": 156,
   "id": "587f058b",
   "metadata": {},
   "outputs": [],
   "source": [
    "a=[45,89,33,45,66,45,2,3,45]"
   ]
  },
  {
   "cell_type": "code",
   "execution_count": 157,
   "id": "db8e4c57",
   "metadata": {},
   "outputs": [
    {
     "data": {
      "text/plain": [
       "[45, 89, 33, 45, 66, 45, 2, 3, 45]"
      ]
     },
     "execution_count": 157,
     "metadata": {},
     "output_type": "execute_result"
    }
   ],
   "source": [
    "a"
   ]
  },
  {
   "cell_type": "code",
   "execution_count": 158,
   "id": "4cafba54",
   "metadata": {},
   "outputs": [
    {
     "data": {
      "text/plain": [
       "4"
      ]
     },
     "execution_count": 158,
     "metadata": {},
     "output_type": "execute_result"
    }
   ],
   "source": [
    "a.count(45)"
   ]
  },
  {
   "cell_type": "code",
   "execution_count": 159,
   "id": "4d9ce416",
   "metadata": {},
   "outputs": [
    {
     "data": {
      "text/plain": [
       "[99, 78, 'python', 'bye', 'hello', 88, 56]"
      ]
     },
     "execution_count": 159,
     "metadata": {},
     "output_type": "execute_result"
    }
   ],
   "source": [
    "b"
   ]
  },
  {
   "cell_type": "code",
   "execution_count": 160,
   "id": "b7ea5e94",
   "metadata": {},
   "outputs": [
    {
     "data": {
      "text/plain": [
       "3"
      ]
     },
     "execution_count": 160,
     "metadata": {},
     "output_type": "execute_result"
    }
   ],
   "source": [
    "b.index('bye')"
   ]
  },
  {
   "cell_type": "markdown",
   "id": "98f366f4",
   "metadata": {},
   "source": [
    "### Dictionaris"
   ]
  },
  {
   "cell_type": "code",
   "execution_count": 161,
   "id": "0bd8d30f",
   "metadata": {},
   "outputs": [],
   "source": [
    "d1={'name':'rohit'}"
   ]
  },
  {
   "cell_type": "code",
   "execution_count": 162,
   "id": "5d851637",
   "metadata": {},
   "outputs": [
    {
     "data": {
      "text/plain": [
       "dict"
      ]
     },
     "execution_count": 162,
     "metadata": {},
     "output_type": "execute_result"
    }
   ],
   "source": [
    "type(d1)"
   ]
  },
  {
   "cell_type": "code",
   "execution_count": 163,
   "id": "19550023",
   "metadata": {},
   "outputs": [
    {
     "data": {
      "text/plain": [
       "{'name': 'rohit'}"
      ]
     },
     "execution_count": 163,
     "metadata": {},
     "output_type": "execute_result"
    }
   ],
   "source": [
    "d1"
   ]
  },
  {
   "cell_type": "code",
   "execution_count": 164,
   "id": "cf35f326",
   "metadata": {},
   "outputs": [],
   "source": [
    "d2={\"student_name\":\"Mohit\",\"class\":10,'marks':55,'City':'Pune'}"
   ]
  },
  {
   "cell_type": "code",
   "execution_count": 165,
   "id": "6c789846",
   "metadata": {},
   "outputs": [
    {
     "data": {
      "text/plain": [
       "{'student_name': 'Mohit', 'class': 10, 'marks': 55, 'City': 'Pune'}"
      ]
     },
     "execution_count": 165,
     "metadata": {},
     "output_type": "execute_result"
    }
   ],
   "source": [
    "d2"
   ]
  },
  {
   "cell_type": "code",
   "execution_count": 166,
   "id": "7c7c56b6",
   "metadata": {},
   "outputs": [
    {
     "data": {
      "text/plain": [
       "dict"
      ]
     },
     "execution_count": 166,
     "metadata": {},
     "output_type": "execute_result"
    }
   ],
   "source": [
    "type(d2)"
   ]
  },
  {
   "cell_type": "code",
   "execution_count": 167,
   "id": "079c6fe4",
   "metadata": {},
   "outputs": [
    {
     "data": {
      "text/plain": [
       "55"
      ]
     },
     "execution_count": 167,
     "metadata": {},
     "output_type": "execute_result"
    }
   ],
   "source": [
    "d2['marks']"
   ]
  },
  {
   "cell_type": "code",
   "execution_count": 168,
   "id": "4999679e",
   "metadata": {},
   "outputs": [],
   "source": [
    "d3={'player':'sachin','teams':['India','All Stars','YK','MI'],\n",
    "    'Location':'Mumbai','State':'Maharashtra','runs':500000}"
   ]
  },
  {
   "cell_type": "code",
   "execution_count": 169,
   "id": "124cd202",
   "metadata": {},
   "outputs": [
    {
     "data": {
      "text/plain": [
       "{'player': 'sachin',\n",
       " 'teams': ['India', 'All Stars', 'YK', 'MI'],\n",
       " 'Location': 'Mumbai',\n",
       " 'State': 'Maharashtra',\n",
       " 'runs': 500000}"
      ]
     },
     "execution_count": 169,
     "metadata": {},
     "output_type": "execute_result"
    }
   ],
   "source": [
    "d3"
   ]
  },
  {
   "cell_type": "code",
   "execution_count": 170,
   "id": "93b9c7a9",
   "metadata": {},
   "outputs": [
    {
     "data": {
      "text/plain": [
       "dict"
      ]
     },
     "execution_count": 170,
     "metadata": {},
     "output_type": "execute_result"
    }
   ],
   "source": [
    "type(d3)"
   ]
  },
  {
   "cell_type": "code",
   "execution_count": 171,
   "id": "66f296ee",
   "metadata": {},
   "outputs": [
    {
     "data": {
      "text/plain": [
       "'Maharashtra'"
      ]
     },
     "execution_count": 171,
     "metadata": {},
     "output_type": "execute_result"
    }
   ],
   "source": [
    "d3['State']"
   ]
  },
  {
   "cell_type": "code",
   "execution_count": 172,
   "id": "65eb82f3",
   "metadata": {},
   "outputs": [
    {
     "data": {
      "text/plain": [
       "500000"
      ]
     },
     "execution_count": 172,
     "metadata": {},
     "output_type": "execute_result"
    }
   ],
   "source": [
    "d3['runs']"
   ]
  },
  {
   "cell_type": "code",
   "execution_count": 173,
   "id": "bf8c5b12",
   "metadata": {},
   "outputs": [
    {
     "data": {
      "text/plain": [
       "['India', 'All Stars', 'YK', 'MI']"
      ]
     },
     "execution_count": 173,
     "metadata": {},
     "output_type": "execute_result"
    }
   ],
   "source": [
    "d3['teams']"
   ]
  },
  {
   "cell_type": "code",
   "execution_count": 175,
   "id": "0095345d",
   "metadata": {},
   "outputs": [
    {
     "data": {
      "text/plain": [
       "'All Stars'"
      ]
     },
     "execution_count": 175,
     "metadata": {},
     "output_type": "execute_result"
    }
   ],
   "source": [
    "d3['teams'][1]"
   ]
  },
  {
   "cell_type": "code",
   "execution_count": 176,
   "id": "349f08ef",
   "metadata": {},
   "outputs": [
    {
     "data": {
      "text/plain": [
       "{'player': 'sachin',\n",
       " 'teams': ['India', 'All Stars', 'YK', 'MI'],\n",
       " 'Location': 'Mumbai',\n",
       " 'State': 'Maharashtra',\n",
       " 'runs': 500000}"
      ]
     },
     "execution_count": 176,
     "metadata": {},
     "output_type": "execute_result"
    }
   ],
   "source": [
    "d3"
   ]
  },
  {
   "cell_type": "code",
   "execution_count": 177,
   "id": "9b625746",
   "metadata": {},
   "outputs": [],
   "source": [
    "d4={'marks':78,'key1':{'key2':[34,78,99,1234]}}"
   ]
  },
  {
   "cell_type": "code",
   "execution_count": 178,
   "id": "d10988a6",
   "metadata": {},
   "outputs": [
    {
     "data": {
      "text/plain": [
       "{'marks': 78, 'key1': {'key2': [34, 78, 99, 1234]}}"
      ]
     },
     "execution_count": 178,
     "metadata": {},
     "output_type": "execute_result"
    }
   ],
   "source": [
    "d4"
   ]
  },
  {
   "cell_type": "code",
   "execution_count": 179,
   "id": "d4b938cd",
   "metadata": {},
   "outputs": [
    {
     "data": {
      "text/plain": [
       "{'key2': [34, 78, 99, 1234]}"
      ]
     },
     "execution_count": 179,
     "metadata": {},
     "output_type": "execute_result"
    }
   ],
   "source": [
    "d4['key1']"
   ]
  },
  {
   "cell_type": "code",
   "execution_count": 180,
   "id": "23fc362a",
   "metadata": {},
   "outputs": [
    {
     "data": {
      "text/plain": [
       "[34, 78, 99, 1234]"
      ]
     },
     "execution_count": 180,
     "metadata": {},
     "output_type": "execute_result"
    }
   ],
   "source": [
    "d4['key1']['key2']"
   ]
  },
  {
   "cell_type": "code",
   "execution_count": 181,
   "id": "4678a0e4",
   "metadata": {},
   "outputs": [
    {
     "data": {
      "text/plain": [
       "99"
      ]
     },
     "execution_count": 181,
     "metadata": {},
     "output_type": "execute_result"
    }
   ],
   "source": [
    "d4['key1']['key2'][2]"
   ]
  },
  {
   "cell_type": "code",
   "execution_count": 182,
   "id": "6e1c6a64",
   "metadata": {},
   "outputs": [
    {
     "data": {
      "text/plain": [
       "{'name': 'rohit'}"
      ]
     },
     "execution_count": 182,
     "metadata": {},
     "output_type": "execute_result"
    }
   ],
   "source": [
    "d1"
   ]
  },
  {
   "cell_type": "code",
   "execution_count": 183,
   "id": "6bdc695c",
   "metadata": {},
   "outputs": [
    {
     "data": {
      "text/plain": [
       "{'student_name': 'Mohit', 'class': 10, 'marks': 55, 'City': 'Pune'}"
      ]
     },
     "execution_count": 183,
     "metadata": {},
     "output_type": "execute_result"
    }
   ],
   "source": [
    "d2"
   ]
  },
  {
   "cell_type": "code",
   "execution_count": 184,
   "id": "a46421c9",
   "metadata": {},
   "outputs": [
    {
     "data": {
      "text/plain": [
       "{'player': 'sachin',\n",
       " 'teams': ['India', 'All Stars', 'YK', 'MI'],\n",
       " 'Location': 'Mumbai',\n",
       " 'State': 'Maharashtra',\n",
       " 'runs': 500000}"
      ]
     },
     "execution_count": 184,
     "metadata": {},
     "output_type": "execute_result"
    }
   ],
   "source": [
    "d3"
   ]
  },
  {
   "cell_type": "code",
   "execution_count": 185,
   "id": "e206d26a",
   "metadata": {},
   "outputs": [
    {
     "data": {
      "text/plain": [
       "{'marks': 78, 'key1': {'key2': [34, 78, 99, 1234]}}"
      ]
     },
     "execution_count": 185,
     "metadata": {},
     "output_type": "execute_result"
    }
   ],
   "source": [
    "d4"
   ]
  },
  {
   "cell_type": "code",
   "execution_count": 187,
   "id": "a517fe3a",
   "metadata": {},
   "outputs": [
    {
     "data": {
      "text/plain": [
       "dict_keys(['player', 'teams', 'Location', 'State', 'runs'])"
      ]
     },
     "execution_count": 187,
     "metadata": {},
     "output_type": "execute_result"
    }
   ],
   "source": [
    "d3.keys()"
   ]
  },
  {
   "cell_type": "code",
   "execution_count": 188,
   "id": "df6925e8",
   "metadata": {},
   "outputs": [
    {
     "data": {
      "text/plain": [
       "dict_values(['sachin', ['India', 'All Stars', 'YK', 'MI'], 'Mumbai', 'Maharashtra', 500000])"
      ]
     },
     "execution_count": 188,
     "metadata": {},
     "output_type": "execute_result"
    }
   ],
   "source": [
    "d3.values()"
   ]
  },
  {
   "cell_type": "code",
   "execution_count": 189,
   "id": "2490c41c",
   "metadata": {},
   "outputs": [
    {
     "data": {
      "text/plain": [
       "dict_items([('player', 'sachin'), ('teams', ['India', 'All Stars', 'YK', 'MI']), ('Location', 'Mumbai'), ('State', 'Maharashtra'), ('runs', 500000)])"
      ]
     },
     "execution_count": 189,
     "metadata": {},
     "output_type": "execute_result"
    }
   ],
   "source": [
    "d3.items()"
   ]
  },
  {
   "cell_type": "code",
   "execution_count": 190,
   "id": "753604c3",
   "metadata": {},
   "outputs": [
    {
     "ename": "TypeError",
     "evalue": "pop expected at least 1 argument, got 0",
     "output_type": "error",
     "traceback": [
      "\u001b[1;31m---------------------------------------------------------------------------\u001b[0m",
      "\u001b[1;31mTypeError\u001b[0m                                 Traceback (most recent call last)",
      "\u001b[1;32m~\\AppData\\Local\\Temp/ipykernel_19464/2060516480.py\u001b[0m in \u001b[0;36m<module>\u001b[1;34m\u001b[0m\n\u001b[1;32m----> 1\u001b[1;33m \u001b[0md3\u001b[0m\u001b[1;33m.\u001b[0m\u001b[0mpop\u001b[0m\u001b[1;33m(\u001b[0m\u001b[1;33m)\u001b[0m\u001b[1;33m\u001b[0m\u001b[1;33m\u001b[0m\u001b[0m\n\u001b[0m",
      "\u001b[1;31mTypeError\u001b[0m: pop expected at least 1 argument, got 0"
     ]
    }
   ],
   "source": [
    "d3.pop()"
   ]
  },
  {
   "cell_type": "code",
   "execution_count": 191,
   "id": "8c36017f",
   "metadata": {},
   "outputs": [
    {
     "data": {
      "text/plain": [
       "{'student_name': 'Mohit', 'class': 10, 'marks': 55, 'City': 'Pune'}"
      ]
     },
     "execution_count": 191,
     "metadata": {},
     "output_type": "execute_result"
    }
   ],
   "source": [
    "d2"
   ]
  },
  {
   "cell_type": "code",
   "execution_count": 192,
   "id": "87984d41",
   "metadata": {},
   "outputs": [
    {
     "data": {
      "text/plain": [
       "55"
      ]
     },
     "execution_count": 192,
     "metadata": {},
     "output_type": "execute_result"
    }
   ],
   "source": [
    "d2.pop('marks')"
   ]
  },
  {
   "cell_type": "code",
   "execution_count": 193,
   "id": "40219aea",
   "metadata": {},
   "outputs": [
    {
     "data": {
      "text/plain": [
       "{'student_name': 'Mohit', 'class': 10, 'City': 'Pune'}"
      ]
     },
     "execution_count": 193,
     "metadata": {},
     "output_type": "execute_result"
    }
   ],
   "source": [
    "d2"
   ]
  },
  {
   "cell_type": "code",
   "execution_count": 194,
   "id": "4d6b1d7a",
   "metadata": {},
   "outputs": [
    {
     "data": {
      "text/plain": [
       "('City', 'Pune')"
      ]
     },
     "execution_count": 194,
     "metadata": {},
     "output_type": "execute_result"
    }
   ],
   "source": [
    "d2.popitem()"
   ]
  },
  {
   "cell_type": "code",
   "execution_count": 195,
   "id": "73cd0154",
   "metadata": {},
   "outputs": [
    {
     "data": {
      "text/plain": [
       "{'student_name': 'Mohit', 'class': 10}"
      ]
     },
     "execution_count": 195,
     "metadata": {},
     "output_type": "execute_result"
    }
   ],
   "source": [
    "d2"
   ]
  },
  {
   "cell_type": "code",
   "execution_count": 196,
   "id": "7bc69d4d",
   "metadata": {},
   "outputs": [],
   "source": [
    "## tuples"
   ]
  },
  {
   "cell_type": "code",
   "execution_count": 197,
   "id": "e9fc3a84",
   "metadata": {},
   "outputs": [],
   "source": [
    "my_tuple1=(45,78,99,22,56)"
   ]
  },
  {
   "cell_type": "code",
   "execution_count": 198,
   "id": "d7551bf4",
   "metadata": {},
   "outputs": [
    {
     "data": {
      "text/plain": [
       "(45, 78, 99, 22, 56)"
      ]
     },
     "execution_count": 198,
     "metadata": {},
     "output_type": "execute_result"
    }
   ],
   "source": [
    "my_tuple1"
   ]
  },
  {
   "cell_type": "code",
   "execution_count": 199,
   "id": "189628b3",
   "metadata": {},
   "outputs": [
    {
     "data": {
      "text/plain": [
       "tuple"
      ]
     },
     "execution_count": 199,
     "metadata": {},
     "output_type": "execute_result"
    }
   ],
   "source": [
    "type(my_tuple1)"
   ]
  },
  {
   "cell_type": "code",
   "execution_count": 200,
   "id": "c567c1ca",
   "metadata": {},
   "outputs": [],
   "source": [
    "my_tuple2=(45,78,'hello','bye',78788)"
   ]
  },
  {
   "cell_type": "code",
   "execution_count": 201,
   "id": "6b3cbf1a",
   "metadata": {},
   "outputs": [
    {
     "data": {
      "text/plain": [
       "(45, 78, 'hello', 'bye', 78788)"
      ]
     },
     "execution_count": 201,
     "metadata": {},
     "output_type": "execute_result"
    }
   ],
   "source": [
    "my_tuple2"
   ]
  },
  {
   "cell_type": "code",
   "execution_count": 202,
   "id": "0286766a",
   "metadata": {},
   "outputs": [
    {
     "data": {
      "text/plain": [
       "tuple"
      ]
     },
     "execution_count": 202,
     "metadata": {},
     "output_type": "execute_result"
    }
   ],
   "source": [
    "type(my_tuple1)"
   ]
  },
  {
   "cell_type": "code",
   "execution_count": 203,
   "id": "66387e17",
   "metadata": {},
   "outputs": [
    {
     "data": {
      "text/plain": [
       "1"
      ]
     },
     "execution_count": 203,
     "metadata": {},
     "output_type": "execute_result"
    }
   ],
   "source": [
    "my_tuple2.count(78)"
   ]
  },
  {
   "cell_type": "code",
   "execution_count": 204,
   "id": "54988470",
   "metadata": {},
   "outputs": [
    {
     "data": {
      "text/plain": [
       "1"
      ]
     },
     "execution_count": 204,
     "metadata": {},
     "output_type": "execute_result"
    }
   ],
   "source": [
    "my_tuple2.index(78)"
   ]
  },
  {
   "cell_type": "code",
   "execution_count": 205,
   "id": "432a91de",
   "metadata": {},
   "outputs": [
    {
     "data": {
      "text/plain": [
       "(45, 78, 99, 22, 56)"
      ]
     },
     "execution_count": 205,
     "metadata": {},
     "output_type": "execute_result"
    }
   ],
   "source": [
    "my_tuple1"
   ]
  },
  {
   "cell_type": "code",
   "execution_count": 206,
   "id": "1bac7c7f",
   "metadata": {},
   "outputs": [
    {
     "data": {
      "text/plain": [
       "(45, 78, 'hello', 'bye', 78788)"
      ]
     },
     "execution_count": 206,
     "metadata": {},
     "output_type": "execute_result"
    }
   ],
   "source": [
    "my_tuple2"
   ]
  },
  {
   "cell_type": "code",
   "execution_count": 207,
   "id": "a1d23678",
   "metadata": {},
   "outputs": [
    {
     "data": {
      "text/plain": [
       "[45, 89, 33, 45, 66, 45, 2, 3, 45]"
      ]
     },
     "execution_count": 207,
     "metadata": {},
     "output_type": "execute_result"
    }
   ],
   "source": [
    "a"
   ]
  },
  {
   "cell_type": "code",
   "execution_count": 208,
   "id": "45eb61e8",
   "metadata": {},
   "outputs": [
    {
     "data": {
      "text/plain": [
       "45"
      ]
     },
     "execution_count": 208,
     "metadata": {},
     "output_type": "execute_result"
    }
   ],
   "source": [
    "a[3]"
   ]
  },
  {
   "cell_type": "code",
   "execution_count": 209,
   "id": "4785f8bf",
   "metadata": {},
   "outputs": [],
   "source": [
    "a[3]=88098"
   ]
  },
  {
   "cell_type": "code",
   "execution_count": 210,
   "id": "3e7a7c75",
   "metadata": {},
   "outputs": [
    {
     "data": {
      "text/plain": [
       "[45, 89, 33, 88098, 66, 45, 2, 3, 45]"
      ]
     },
     "execution_count": 210,
     "metadata": {},
     "output_type": "execute_result"
    }
   ],
   "source": [
    "a"
   ]
  },
  {
   "cell_type": "code",
   "execution_count": 211,
   "id": "c1971fa1",
   "metadata": {},
   "outputs": [
    {
     "data": {
      "text/plain": [
       "(45, 78, 99, 22, 56)"
      ]
     },
     "execution_count": 211,
     "metadata": {},
     "output_type": "execute_result"
    }
   ],
   "source": [
    "my_tuple1"
   ]
  },
  {
   "cell_type": "code",
   "execution_count": 212,
   "id": "81e97f1a",
   "metadata": {},
   "outputs": [
    {
     "data": {
      "text/plain": [
       "22"
      ]
     },
     "execution_count": 212,
     "metadata": {},
     "output_type": "execute_result"
    }
   ],
   "source": [
    "my_tuple1[3]"
   ]
  },
  {
   "cell_type": "code",
   "execution_count": 213,
   "id": "58779d3f",
   "metadata": {},
   "outputs": [
    {
     "ename": "TypeError",
     "evalue": "'tuple' object does not support item assignment",
     "output_type": "error",
     "traceback": [
      "\u001b[1;31m---------------------------------------------------------------------------\u001b[0m",
      "\u001b[1;31mTypeError\u001b[0m                                 Traceback (most recent call last)",
      "\u001b[1;32m~\\AppData\\Local\\Temp/ipykernel_19464/2050084863.py\u001b[0m in \u001b[0;36m<module>\u001b[1;34m\u001b[0m\n\u001b[1;32m----> 1\u001b[1;33m \u001b[0mmy_tuple1\u001b[0m\u001b[1;33m[\u001b[0m\u001b[1;36m3\u001b[0m\u001b[1;33m]\u001b[0m\u001b[1;33m=\u001b[0m\u001b[1;36m78786\u001b[0m\u001b[1;33m\u001b[0m\u001b[1;33m\u001b[0m\u001b[0m\n\u001b[0m",
      "\u001b[1;31mTypeError\u001b[0m: 'tuple' object does not support item assignment"
     ]
    }
   ],
   "source": [
    "my_tuple1[3]=78786"
   ]
  },
  {
   "cell_type": "markdown",
   "id": "60067f83",
   "metadata": {},
   "source": [
    "## Sets -----> collection of unique elements"
   ]
  },
  {
   "cell_type": "code",
   "execution_count": 216,
   "id": "df96031d",
   "metadata": {},
   "outputs": [],
   "source": [
    "my_set1={1,2,3,1,2,3,1,2,3,1,2,3,1,2,3,1,2,3}"
   ]
  },
  {
   "cell_type": "code",
   "execution_count": 217,
   "id": "2c90608e",
   "metadata": {},
   "outputs": [
    {
     "data": {
      "text/plain": [
       "{1, 2, 3}"
      ]
     },
     "execution_count": 217,
     "metadata": {},
     "output_type": "execute_result"
    }
   ],
   "source": [
    "my_set1"
   ]
  },
  {
   "cell_type": "code",
   "execution_count": 218,
   "id": "ea8b9d09",
   "metadata": {},
   "outputs": [
    {
     "data": {
      "text/plain": [
       "set"
      ]
     },
     "execution_count": 218,
     "metadata": {},
     "output_type": "execute_result"
    }
   ],
   "source": [
    "type(my_set1)"
   ]
  },
  {
   "cell_type": "code",
   "execution_count": 219,
   "id": "57071149",
   "metadata": {},
   "outputs": [],
   "source": [
    "my_set2={}"
   ]
  },
  {
   "cell_type": "code",
   "execution_count": 223,
   "id": "9a263705",
   "metadata": {},
   "outputs": [
    {
     "data": {
      "text/plain": [
       "{}"
      ]
     },
     "execution_count": 223,
     "metadata": {},
     "output_type": "execute_result"
    }
   ],
   "source": [
    "my_set2"
   ]
  },
  {
   "cell_type": "code",
   "execution_count": 220,
   "id": "bfa16660",
   "metadata": {},
   "outputs": [
    {
     "data": {
      "text/plain": [
       "dict"
      ]
     },
     "execution_count": 220,
     "metadata": {},
     "output_type": "execute_result"
    }
   ],
   "source": [
    "type(my_set2)"
   ]
  },
  {
   "cell_type": "code",
   "execution_count": 221,
   "id": "7bffae06",
   "metadata": {},
   "outputs": [],
   "source": [
    "my_set3=set()"
   ]
  },
  {
   "cell_type": "code",
   "execution_count": 222,
   "id": "3aed3ab5",
   "metadata": {},
   "outputs": [
    {
     "data": {
      "text/plain": [
       "set()"
      ]
     },
     "execution_count": 222,
     "metadata": {},
     "output_type": "execute_result"
    }
   ],
   "source": [
    "my_set3"
   ]
  },
  {
   "cell_type": "code",
   "execution_count": 224,
   "id": "36594185",
   "metadata": {},
   "outputs": [
    {
     "data": {
      "text/plain": [
       "{1, 2, 3}"
      ]
     },
     "execution_count": 224,
     "metadata": {},
     "output_type": "execute_result"
    }
   ],
   "source": [
    "my_set1"
   ]
  },
  {
   "cell_type": "code",
   "execution_count": 225,
   "id": "99889320",
   "metadata": {},
   "outputs": [],
   "source": [
    "my_set1.add(78)"
   ]
  },
  {
   "cell_type": "code",
   "execution_count": 226,
   "id": "88b3c479",
   "metadata": {},
   "outputs": [
    {
     "data": {
      "text/plain": [
       "{1, 2, 3, 78}"
      ]
     },
     "execution_count": 226,
     "metadata": {},
     "output_type": "execute_result"
    }
   ],
   "source": [
    "my_set1"
   ]
  },
  {
   "cell_type": "code",
   "execution_count": 227,
   "id": "7c8cda8c",
   "metadata": {},
   "outputs": [
    {
     "ename": "TypeError",
     "evalue": "set.add() takes exactly one argument (2 given)",
     "output_type": "error",
     "traceback": [
      "\u001b[1;31m---------------------------------------------------------------------------\u001b[0m",
      "\u001b[1;31mTypeError\u001b[0m                                 Traceback (most recent call last)",
      "\u001b[1;32m~\\AppData\\Local\\Temp/ipykernel_19464/2352132923.py\u001b[0m in \u001b[0;36m<module>\u001b[1;34m\u001b[0m\n\u001b[1;32m----> 1\u001b[1;33m \u001b[0mmy_set1\u001b[0m\u001b[1;33m.\u001b[0m\u001b[0madd\u001b[0m\u001b[1;33m(\u001b[0m\u001b[1;36m78\u001b[0m\u001b[1;33m,\u001b[0m\u001b[1;36m45\u001b[0m\u001b[1;33m)\u001b[0m\u001b[1;33m\u001b[0m\u001b[1;33m\u001b[0m\u001b[0m\n\u001b[0m",
      "\u001b[1;31mTypeError\u001b[0m: set.add() takes exactly one argument (2 given)"
     ]
    }
   ],
   "source": [
    "my_set1.add(78,45)"
   ]
  },
  {
   "cell_type": "code",
   "execution_count": 228,
   "id": "05839e8f",
   "metadata": {},
   "outputs": [],
   "source": [
    "add_set={78,45}"
   ]
  },
  {
   "cell_type": "code",
   "execution_count": 229,
   "id": "8daaf843",
   "metadata": {},
   "outputs": [],
   "source": [
    "result=my_set1.union(add_set)"
   ]
  },
  {
   "cell_type": "code",
   "execution_count": 230,
   "id": "54a14769",
   "metadata": {},
   "outputs": [
    {
     "data": {
      "text/plain": [
       "{1, 2, 3, 45, 78}"
      ]
     },
     "execution_count": 230,
     "metadata": {},
     "output_type": "execute_result"
    }
   ],
   "source": [
    "result"
   ]
  },
  {
   "cell_type": "code",
   "execution_count": 1,
   "id": "740a83bd",
   "metadata": {},
   "outputs": [],
   "source": [
    "## Revision session2"
   ]
  },
  {
   "cell_type": "code",
   "execution_count": 2,
   "id": "4c8d10c8",
   "metadata": {},
   "outputs": [],
   "source": [
    "s={3,7,8,3,5,8,8,8,8,8,3,7}"
   ]
  },
  {
   "cell_type": "code",
   "execution_count": 3,
   "id": "ec6476ae",
   "metadata": {},
   "outputs": [
    {
     "data": {
      "text/plain": [
       "{3, 5, 7, 8}"
      ]
     },
     "execution_count": 3,
     "metadata": {},
     "output_type": "execute_result"
    }
   ],
   "source": [
    "s"
   ]
  },
  {
   "cell_type": "code",
   "execution_count": 4,
   "id": "bbaf981e",
   "metadata": {},
   "outputs": [
    {
     "data": {
      "text/plain": [
       "set"
      ]
     },
     "execution_count": 4,
     "metadata": {},
     "output_type": "execute_result"
    }
   ],
   "source": [
    "type(s)"
   ]
  },
  {
   "cell_type": "code",
   "execution_count": 5,
   "id": "8f30287b",
   "metadata": {},
   "outputs": [],
   "source": [
    "s.add(89)"
   ]
  },
  {
   "cell_type": "code",
   "execution_count": 6,
   "id": "7c016fd6",
   "metadata": {},
   "outputs": [
    {
     "data": {
      "text/plain": [
       "{3, 5, 7, 8, 89}"
      ]
     },
     "execution_count": 6,
     "metadata": {},
     "output_type": "execute_result"
    }
   ],
   "source": [
    "s"
   ]
  },
  {
   "cell_type": "code",
   "execution_count": 7,
   "id": "75cf3d63",
   "metadata": {},
   "outputs": [],
   "source": [
    "s.add(4)"
   ]
  },
  {
   "cell_type": "code",
   "execution_count": 8,
   "id": "87f8af11",
   "metadata": {},
   "outputs": [
    {
     "data": {
      "text/plain": [
       "{3, 4, 5, 7, 8, 89}"
      ]
     },
     "execution_count": 8,
     "metadata": {},
     "output_type": "execute_result"
    }
   ],
   "source": [
    "s"
   ]
  },
  {
   "cell_type": "code",
   "execution_count": 9,
   "id": "7cb1b1b2",
   "metadata": {},
   "outputs": [],
   "source": [
    "s.add(5)"
   ]
  },
  {
   "cell_type": "code",
   "execution_count": 10,
   "id": "84820905",
   "metadata": {},
   "outputs": [
    {
     "data": {
      "text/plain": [
       "{3, 4, 5, 7, 8, 89}"
      ]
     },
     "execution_count": 10,
     "metadata": {},
     "output_type": "execute_result"
    }
   ],
   "source": [
    "s"
   ]
  },
  {
   "cell_type": "code",
   "execution_count": 11,
   "id": "d4118431",
   "metadata": {},
   "outputs": [
    {
     "ename": "TypeError",
     "evalue": "set.add() takes exactly one argument (2 given)",
     "output_type": "error",
     "traceback": [
      "\u001b[1;31m---------------------------------------------------------------------------\u001b[0m",
      "\u001b[1;31mTypeError\u001b[0m                                 Traceback (most recent call last)",
      "\u001b[1;32m~\\AppData\\Local\\Temp/ipykernel_12092/3277002984.py\u001b[0m in \u001b[0;36m<module>\u001b[1;34m\u001b[0m\n\u001b[1;32m----> 1\u001b[1;33m \u001b[0ms\u001b[0m\u001b[1;33m.\u001b[0m\u001b[0madd\u001b[0m\u001b[1;33m(\u001b[0m\u001b[1;36m78\u001b[0m\u001b[1;33m,\u001b[0m\u001b[1;36m99\u001b[0m\u001b[1;33m)\u001b[0m\u001b[1;33m\u001b[0m\u001b[1;33m\u001b[0m\u001b[0m\n\u001b[0m",
      "\u001b[1;31mTypeError\u001b[0m: set.add() takes exactly one argument (2 given)"
     ]
    }
   ],
   "source": [
    "s.add(78,99)"
   ]
  },
  {
   "cell_type": "code",
   "execution_count": 12,
   "id": "248b0a24",
   "metadata": {},
   "outputs": [
    {
     "data": {
      "text/plain": [
       "{3, 4, 5, 7, 8, 89}"
      ]
     },
     "execution_count": 12,
     "metadata": {},
     "output_type": "execute_result"
    }
   ],
   "source": [
    "s"
   ]
  },
  {
   "cell_type": "code",
   "execution_count": 13,
   "id": "5b9f0f03",
   "metadata": {},
   "outputs": [],
   "source": [
    "s2={78,99}"
   ]
  },
  {
   "cell_type": "code",
   "execution_count": 14,
   "id": "909df21b",
   "metadata": {},
   "outputs": [],
   "source": [
    "s_new=s.union(s2)"
   ]
  },
  {
   "cell_type": "code",
   "execution_count": 15,
   "id": "2d2bde44",
   "metadata": {},
   "outputs": [
    {
     "data": {
      "text/plain": [
       "{3, 4, 5, 7, 8, 78, 89, 99}"
      ]
     },
     "execution_count": 15,
     "metadata": {},
     "output_type": "execute_result"
    }
   ],
   "source": [
    "s_new"
   ]
  },
  {
   "cell_type": "code",
   "execution_count": 16,
   "id": "2c1f0f0e",
   "metadata": {},
   "outputs": [
    {
     "data": {
      "text/plain": [
       "{3, 4, 5, 7, 8, 89}"
      ]
     },
     "execution_count": 16,
     "metadata": {},
     "output_type": "execute_result"
    }
   ],
   "source": [
    "s"
   ]
  },
  {
   "cell_type": "code",
   "execution_count": 17,
   "id": "fadc0917",
   "metadata": {},
   "outputs": [
    {
     "data": {
      "text/plain": [
       "set"
      ]
     },
     "execution_count": 17,
     "metadata": {},
     "output_type": "execute_result"
    }
   ],
   "source": [
    "type(s)"
   ]
  },
  {
   "cell_type": "code",
   "execution_count": 18,
   "id": "957706d1",
   "metadata": {},
   "outputs": [],
   "source": [
    "my_list1=[3,4,5]"
   ]
  },
  {
   "cell_type": "code",
   "execution_count": 19,
   "id": "95a62475",
   "metadata": {},
   "outputs": [
    {
     "data": {
      "text/plain": [
       "list"
      ]
     },
     "execution_count": 19,
     "metadata": {},
     "output_type": "execute_result"
    }
   ],
   "source": [
    "type(my_list1)"
   ]
  },
  {
   "cell_type": "code",
   "execution_count": 20,
   "id": "7b551862",
   "metadata": {},
   "outputs": [],
   "source": [
    "y=(3,4,5)"
   ]
  },
  {
   "cell_type": "code",
   "execution_count": 21,
   "id": "3880eba4",
   "metadata": {},
   "outputs": [
    {
     "data": {
      "text/plain": [
       "tuple"
      ]
     },
     "execution_count": 21,
     "metadata": {},
     "output_type": "execute_result"
    }
   ],
   "source": [
    "type(y)"
   ]
  },
  {
   "cell_type": "code",
   "execution_count": 22,
   "id": "f14867ed",
   "metadata": {},
   "outputs": [],
   "source": [
    "d={'number':8,'marks':90}"
   ]
  },
  {
   "cell_type": "code",
   "execution_count": 23,
   "id": "3f7d09d0",
   "metadata": {},
   "outputs": [
    {
     "data": {
      "text/plain": [
       "dict"
      ]
     },
     "execution_count": 23,
     "metadata": {},
     "output_type": "execute_result"
    }
   ],
   "source": [
    "type(d)"
   ]
  },
  {
   "cell_type": "code",
   "execution_count": 24,
   "id": "5843c272",
   "metadata": {},
   "outputs": [],
   "source": [
    "### Comparision Operators"
   ]
  },
  {
   "cell_type": "code",
   "execution_count": 25,
   "id": "b4370f4f",
   "metadata": {},
   "outputs": [
    {
     "data": {
      "text/plain": [
       "False"
      ]
     },
     "execution_count": 25,
     "metadata": {},
     "output_type": "execute_result"
    }
   ],
   "source": [
    "4>9"
   ]
  },
  {
   "cell_type": "code",
   "execution_count": 26,
   "id": "de6d3d2f",
   "metadata": {},
   "outputs": [
    {
     "data": {
      "text/plain": [
       "True"
      ]
     },
     "execution_count": 26,
     "metadata": {},
     "output_type": "execute_result"
    }
   ],
   "source": [
    "5<90"
   ]
  },
  {
   "cell_type": "code",
   "execution_count": 27,
   "id": "83bc60f0",
   "metadata": {},
   "outputs": [
    {
     "data": {
      "text/plain": [
       "True"
      ]
     },
     "execution_count": 27,
     "metadata": {},
     "output_type": "execute_result"
    }
   ],
   "source": [
    "6>=3"
   ]
  },
  {
   "cell_type": "code",
   "execution_count": 28,
   "id": "fc300150",
   "metadata": {},
   "outputs": [
    {
     "data": {
      "text/plain": [
       "False"
      ]
     },
     "execution_count": 28,
     "metadata": {},
     "output_type": "execute_result"
    }
   ],
   "source": [
    "78<=45"
   ]
  },
  {
   "cell_type": "code",
   "execution_count": 29,
   "id": "d9da7abb",
   "metadata": {},
   "outputs": [
    {
     "ename": "SyntaxError",
     "evalue": "cannot assign to literal (Temp/ipykernel_12092/2705102720.py, line 1)",
     "output_type": "error",
     "traceback": [
      "\u001b[1;36m  File \u001b[1;32m\"C:\\Users\\Admin\\AppData\\Local\\Temp/ipykernel_12092/2705102720.py\"\u001b[1;36m, line \u001b[1;32m1\u001b[0m\n\u001b[1;33m    2=7\u001b[0m\n\u001b[1;37m    ^\u001b[0m\n\u001b[1;31mSyntaxError\u001b[0m\u001b[1;31m:\u001b[0m cannot assign to literal\n"
     ]
    }
   ],
   "source": [
    "2=7"
   ]
  },
  {
   "cell_type": "code",
   "execution_count": 30,
   "id": "963fe262",
   "metadata": {},
   "outputs": [
    {
     "data": {
      "text/plain": [
       "False"
      ]
     },
     "execution_count": 30,
     "metadata": {},
     "output_type": "execute_result"
    }
   ],
   "source": [
    "2==7"
   ]
  },
  {
   "cell_type": "code",
   "execution_count": 31,
   "id": "ab99e8cd",
   "metadata": {},
   "outputs": [
    {
     "data": {
      "text/plain": [
       "True"
      ]
     },
     "execution_count": 31,
     "metadata": {},
     "output_type": "execute_result"
    }
   ],
   "source": [
    "4==4"
   ]
  },
  {
   "cell_type": "code",
   "execution_count": 32,
   "id": "d3be15c4",
   "metadata": {},
   "outputs": [
    {
     "data": {
      "text/plain": [
       "False"
      ]
     },
     "execution_count": 32,
     "metadata": {},
     "output_type": "execute_result"
    }
   ],
   "source": [
    "'Sachin'=='sachin'"
   ]
  },
  {
   "cell_type": "code",
   "execution_count": 33,
   "id": "d06c454e",
   "metadata": {},
   "outputs": [
    {
     "data": {
      "text/plain": [
       "True"
      ]
     },
     "execution_count": 33,
     "metadata": {},
     "output_type": "execute_result"
    }
   ],
   "source": [
    "'sachin'=='sachin'"
   ]
  },
  {
   "cell_type": "code",
   "execution_count": 34,
   "id": "4b85a39e",
   "metadata": {},
   "outputs": [
    {
     "data": {
      "text/plain": [
       "False"
      ]
     },
     "execution_count": 34,
     "metadata": {},
     "output_type": "execute_result"
    }
   ],
   "source": [
    "'hi'=='bye'"
   ]
  },
  {
   "cell_type": "code",
   "execution_count": 35,
   "id": "d17570c7",
   "metadata": {},
   "outputs": [
    {
     "data": {
      "text/plain": [
       "True"
      ]
     },
     "execution_count": 35,
     "metadata": {},
     "output_type": "execute_result"
    }
   ],
   "source": [
    "5!=8"
   ]
  },
  {
   "cell_type": "code",
   "execution_count": 36,
   "id": "c182f011",
   "metadata": {},
   "outputs": [
    {
     "data": {
      "text/plain": [
       "False"
      ]
     },
     "execution_count": 36,
     "metadata": {},
     "output_type": "execute_result"
    }
   ],
   "source": [
    "5!=5"
   ]
  },
  {
   "cell_type": "code",
   "execution_count": 37,
   "id": "c2aead2e",
   "metadata": {},
   "outputs": [
    {
     "data": {
      "text/plain": [
       "75"
      ]
     },
     "execution_count": 37,
     "metadata": {},
     "output_type": "execute_result"
    }
   ],
   "source": [
    "35+40"
   ]
  },
  {
   "cell_type": "code",
   "execution_count": 38,
   "id": "b0ec7bf5",
   "metadata": {},
   "outputs": [
    {
     "data": {
      "text/plain": [
       "'3540'"
      ]
     },
     "execution_count": 38,
     "metadata": {},
     "output_type": "execute_result"
    }
   ],
   "source": [
    "'35'+'40'"
   ]
  },
  {
   "cell_type": "code",
   "execution_count": 39,
   "id": "675f67d4",
   "metadata": {},
   "outputs": [
    {
     "ename": "TypeError",
     "evalue": "can only concatenate str (not \"int\") to str",
     "output_type": "error",
     "traceback": [
      "\u001b[1;31m---------------------------------------------------------------------------\u001b[0m",
      "\u001b[1;31mTypeError\u001b[0m                                 Traceback (most recent call last)",
      "\u001b[1;32m~\\AppData\\Local\\Temp/ipykernel_12092/725749917.py\u001b[0m in \u001b[0;36m<module>\u001b[1;34m\u001b[0m\n\u001b[1;32m----> 1\u001b[1;33m \u001b[1;34m'35'\u001b[0m\u001b[1;33m+\u001b[0m\u001b[1;36m40\u001b[0m\u001b[1;33m\u001b[0m\u001b[1;33m\u001b[0m\u001b[0m\n\u001b[0m",
      "\u001b[1;31mTypeError\u001b[0m: can only concatenate str (not \"int\") to str"
     ]
    }
   ],
   "source": [
    "'35'+40"
   ]
  },
  {
   "cell_type": "code",
   "execution_count": 40,
   "id": "2f7b5141",
   "metadata": {},
   "outputs": [
    {
     "data": {
      "text/plain": [
       "'353535'"
      ]
     },
     "execution_count": 40,
     "metadata": {},
     "output_type": "execute_result"
    }
   ],
   "source": [
    "'35'*3"
   ]
  },
  {
   "cell_type": "code",
   "execution_count": 41,
   "id": "5d7b9349",
   "metadata": {},
   "outputs": [
    {
     "ename": "TypeError",
     "evalue": "unsupported operand type(s) for -: 'str' and 'str'",
     "output_type": "error",
     "traceback": [
      "\u001b[1;31m---------------------------------------------------------------------------\u001b[0m",
      "\u001b[1;31mTypeError\u001b[0m                                 Traceback (most recent call last)",
      "\u001b[1;32m~\\AppData\\Local\\Temp/ipykernel_12092/3829891266.py\u001b[0m in \u001b[0;36m<module>\u001b[1;34m\u001b[0m\n\u001b[1;32m----> 1\u001b[1;33m \u001b[1;34m'35'\u001b[0m\u001b[1;33m-\u001b[0m\u001b[1;34m'22'\u001b[0m\u001b[1;33m\u001b[0m\u001b[1;33m\u001b[0m\u001b[0m\n\u001b[0m",
      "\u001b[1;31mTypeError\u001b[0m: unsupported operand type(s) for -: 'str' and 'str'"
     ]
    }
   ],
   "source": [
    "'35'-'22'"
   ]
  },
  {
   "cell_type": "code",
   "execution_count": 42,
   "id": "e2a78c68",
   "metadata": {},
   "outputs": [
    {
     "ename": "TypeError",
     "evalue": "unsupported operand type(s) for -: 'str' and 'int'",
     "output_type": "error",
     "traceback": [
      "\u001b[1;31m---------------------------------------------------------------------------\u001b[0m",
      "\u001b[1;31mTypeError\u001b[0m                                 Traceback (most recent call last)",
      "\u001b[1;32m~\\AppData\\Local\\Temp/ipykernel_12092/3154905523.py\u001b[0m in \u001b[0;36m<module>\u001b[1;34m\u001b[0m\n\u001b[1;32m----> 1\u001b[1;33m \u001b[1;34m'35'\u001b[0m\u001b[1;33m-\u001b[0m\u001b[1;36m32\u001b[0m\u001b[1;33m\u001b[0m\u001b[1;33m\u001b[0m\u001b[0m\n\u001b[0m",
      "\u001b[1;31mTypeError\u001b[0m: unsupported operand type(s) for -: 'str' and 'int'"
     ]
    }
   ],
   "source": [
    "'35'-32"
   ]
  },
  {
   "cell_type": "code",
   "execution_count": 43,
   "id": "964d33e8",
   "metadata": {},
   "outputs": [
    {
     "data": {
      "text/plain": [
       "False"
      ]
     },
     "execution_count": 43,
     "metadata": {},
     "output_type": "execute_result"
    }
   ],
   "source": [
    "4>5 and 6<9"
   ]
  },
  {
   "cell_type": "code",
   "execution_count": 44,
   "id": "e7c900c1",
   "metadata": {},
   "outputs": [
    {
     "data": {
      "text/plain": [
       "True"
      ]
     },
     "execution_count": 44,
     "metadata": {},
     "output_type": "execute_result"
    }
   ],
   "source": [
    "4>5 or 6<9"
   ]
  },
  {
   "cell_type": "code",
   "execution_count": 45,
   "id": "cede3ba6",
   "metadata": {},
   "outputs": [
    {
     "data": {
      "text/plain": [
       "False"
      ]
     },
     "execution_count": 45,
     "metadata": {},
     "output_type": "execute_result"
    }
   ],
   "source": [
    "4>5 and 6<9 or 5==3"
   ]
  },
  {
   "cell_type": "code",
   "execution_count": 46,
   "id": "f1a65092",
   "metadata": {},
   "outputs": [
    {
     "data": {
      "text/plain": [
       "False"
      ]
     },
     "execution_count": 46,
     "metadata": {},
     "output_type": "execute_result"
    }
   ],
   "source": [
    "4>5 or 6<9 and 5==3"
   ]
  },
  {
   "cell_type": "code",
   "execution_count": 47,
   "id": "9b20f221",
   "metadata": {},
   "outputs": [],
   "source": [
    "### if else elif"
   ]
  },
  {
   "cell_type": "code",
   "execution_count": 48,
   "id": "bf2d18b2",
   "metadata": {},
   "outputs": [
    {
     "name": "stdout",
     "output_type": "stream",
     "text": [
      "Hello Everyone\n"
     ]
    }
   ],
   "source": [
    "if 3<8:\n",
    "    print(\"Hello Everyone\")"
   ]
  },
  {
   "cell_type": "code",
   "execution_count": 49,
   "id": "a7122187",
   "metadata": {},
   "outputs": [],
   "source": [
    "if 3>8:\n",
    "    print(\"Hello evryone\")"
   ]
  },
  {
   "cell_type": "code",
   "execution_count": 52,
   "id": "2d51f9cc",
   "metadata": {},
   "outputs": [
    {
     "name": "stdout",
     "output_type": "stream",
     "text": [
      "106\n"
     ]
    }
   ],
   "source": [
    "if 5==5:\n",
    "    x=7+99\n",
    "    print(x)"
   ]
  },
  {
   "cell_type": "code",
   "execution_count": 51,
   "id": "033587da",
   "metadata": {},
   "outputs": [
    {
     "data": {
      "text/plain": [
       "106"
      ]
     },
     "execution_count": 51,
     "metadata": {},
     "output_type": "execute_result"
    }
   ],
   "source": [
    "x"
   ]
  },
  {
   "cell_type": "code",
   "execution_count": 53,
   "id": "4288c111",
   "metadata": {},
   "outputs": [
    {
     "name": "stdout",
     "output_type": "stream",
     "text": [
      "hi\n"
     ]
    }
   ],
   "source": [
    "if True:\n",
    "    print(\"hi\")"
   ]
  },
  {
   "cell_type": "code",
   "execution_count": 1,
   "id": "859a7b97",
   "metadata": {},
   "outputs": [
    {
     "ename": "IndentationError",
     "evalue": "expected an indented block (Temp/ipykernel_5296/3859472395.py, line 2)",
     "output_type": "error",
     "traceback": [
      "\u001b[1;36m  File \u001b[1;32m\"C:\\Users\\Admin\\AppData\\Local\\Temp/ipykernel_5296/3859472395.py\"\u001b[1;36m, line \u001b[1;32m2\u001b[0m\n\u001b[1;33m    print(\"hi\")\u001b[0m\n\u001b[1;37m    ^\u001b[0m\n\u001b[1;31mIndentationError\u001b[0m\u001b[1;31m:\u001b[0m expected an indented block\n"
     ]
    }
   ],
   "source": [
    "if False:\n",
    "print(\"hi\")"
   ]
  },
  {
   "cell_type": "code",
   "execution_count": 2,
   "id": "9ffc292e",
   "metadata": {},
   "outputs": [
    {
     "name": "stdout",
     "output_type": "stream",
     "text": [
      "hi\n"
     ]
    }
   ],
   "source": [
    "if 5<9:\n",
    "    print(\"hi\")"
   ]
  },
  {
   "cell_type": "code",
   "execution_count": 3,
   "id": "2a66de13",
   "metadata": {},
   "outputs": [
    {
     "name": "stdout",
     "output_type": "stream",
     "text": [
      "Last\n"
     ]
    }
   ],
   "source": [
    "if 5>9:\n",
    "    print(\"first\")\n",
    "else:\n",
    "    print(\"Last\")"
   ]
  },
  {
   "cell_type": "code",
   "execution_count": 4,
   "id": "0c9b201a",
   "metadata": {},
   "outputs": [],
   "source": [
    "if 5>9:\n",
    "    x=8*8\n",
    "else:\n",
    "    x=8+8"
   ]
  },
  {
   "cell_type": "code",
   "execution_count": 5,
   "id": "55da18a7",
   "metadata": {},
   "outputs": [
    {
     "data": {
      "text/plain": [
       "16"
      ]
     },
     "execution_count": 5,
     "metadata": {},
     "output_type": "execute_result"
    }
   ],
   "source": [
    "x"
   ]
  },
  {
   "cell_type": "code",
   "execution_count": 6,
   "id": "b5570054",
   "metadata": {},
   "outputs": [
    {
     "name": "stdout",
     "output_type": "stream",
     "text": [
      "Second\n"
     ]
    }
   ],
   "source": [
    "if 5>9:\n",
    "    print(\"first\")\n",
    "elif 5==5:\n",
    "    print(\"Second\")\n",
    "else:\n",
    "    print(\"Last\")"
   ]
  },
  {
   "cell_type": "code",
   "execution_count": 7,
   "id": "b3279d0d",
   "metadata": {},
   "outputs": [
    {
     "name": "stdout",
     "output_type": "stream",
     "text": [
      "Last\n"
     ]
    }
   ],
   "source": [
    "if 5>9:\n",
    "    print(\"first\")\n",
    "elif 5==9:\n",
    "    print(\"Second\")\n",
    "else:\n",
    "    print(\"Last\")"
   ]
  },
  {
   "cell_type": "code",
   "execution_count": 8,
   "id": "c63fc1e4",
   "metadata": {},
   "outputs": [
    {
     "name": "stdout",
     "output_type": "stream",
     "text": [
      "Third\n"
     ]
    }
   ],
   "source": [
    "if 5>9:\n",
    "    print(\"first\")\n",
    "elif 5==9:\n",
    "    print(\"Second\")\n",
    "elif 8==8:\n",
    "    print(\"Third\")\n",
    "else:\n",
    "    print(\"Last\")"
   ]
  },
  {
   "cell_type": "code",
   "execution_count": 9,
   "id": "0c077005",
   "metadata": {},
   "outputs": [
    {
     "name": "stdout",
     "output_type": "stream",
     "text": [
      "Third\n"
     ]
    }
   ],
   "source": [
    "if 5>9:\n",
    "    print(\"first\")\n",
    "elif 5==9:\n",
    "    print(\"Second\")\n",
    "elif 8==8:\n",
    "    print(\"Third\")\n",
    "elif 9==9:\n",
    "    print(\"Fourth\")\n",
    "else:\n",
    "    print(\"Last\")"
   ]
  },
  {
   "cell_type": "code",
   "execution_count": 10,
   "id": "58e9fee7",
   "metadata": {},
   "outputs": [],
   "source": [
    "if 6>9:\n",
    "    x=2*2\n",
    "else:\n",
    "    x=2+2"
   ]
  },
  {
   "cell_type": "code",
   "execution_count": 11,
   "id": "21cb903a",
   "metadata": {},
   "outputs": [
    {
     "data": {
      "text/plain": [
       "4"
      ]
     },
     "execution_count": 11,
     "metadata": {},
     "output_type": "execute_result"
    }
   ],
   "source": [
    "x"
   ]
  },
  {
   "cell_type": "code",
   "execution_count": 12,
   "id": "a5c80c18",
   "metadata": {},
   "outputs": [],
   "source": [
    "### for Loop"
   ]
  },
  {
   "cell_type": "code",
   "execution_count": 13,
   "id": "c6206ff4",
   "metadata": {},
   "outputs": [],
   "source": [
    "data=[10,20,30,40,50]"
   ]
  },
  {
   "cell_type": "code",
   "execution_count": 14,
   "id": "8e4fdc72",
   "metadata": {},
   "outputs": [
    {
     "data": {
      "text/plain": [
       "[10, 20, 30, 40, 50]"
      ]
     },
     "execution_count": 14,
     "metadata": {},
     "output_type": "execute_result"
    }
   ],
   "source": [
    "data"
   ]
  },
  {
   "cell_type": "code",
   "execution_count": 15,
   "id": "e61966d0",
   "metadata": {},
   "outputs": [
    {
     "data": {
      "text/plain": [
       "list"
      ]
     },
     "execution_count": 15,
     "metadata": {},
     "output_type": "execute_result"
    }
   ],
   "source": [
    "type(data)"
   ]
  },
  {
   "cell_type": "code",
   "execution_count": 16,
   "id": "17f13e4d",
   "metadata": {},
   "outputs": [
    {
     "name": "stdout",
     "output_type": "stream",
     "text": [
      "10\n",
      "20\n",
      "30\n",
      "40\n",
      "50\n"
     ]
    }
   ],
   "source": [
    "for v in data:\n",
    "    print(v)"
   ]
  },
  {
   "cell_type": "code",
   "execution_count": 17,
   "id": "4d43b7a1",
   "metadata": {},
   "outputs": [
    {
     "name": "stdout",
     "output_type": "stream",
     "text": [
      "10 20 30 40 50 "
     ]
    }
   ],
   "source": [
    "for v in data:\n",
    "    print(v,end=' ')"
   ]
  },
  {
   "cell_type": "code",
   "execution_count": 18,
   "id": "c69cb868",
   "metadata": {},
   "outputs": [
    {
     "name": "stdout",
     "output_type": "stream",
     "text": [
      "10     20     30     40     50     "
     ]
    }
   ],
   "source": [
    "for v in data:\n",
    "    print(v,end='     ')"
   ]
  },
  {
   "cell_type": "code",
   "execution_count": 19,
   "id": "0ee6816e",
   "metadata": {},
   "outputs": [
    {
     "name": "stdout",
     "output_type": "stream",
     "text": [
      "10*20*30*40*50*"
     ]
    }
   ],
   "source": [
    "for v in data:\n",
    "    print(v,end='*')"
   ]
  },
  {
   "cell_type": "code",
   "execution_count": 20,
   "id": "7ec76856",
   "metadata": {},
   "outputs": [
    {
     "data": {
      "text/plain": [
       "[10, 20, 30, 40, 50]"
      ]
     },
     "execution_count": 20,
     "metadata": {},
     "output_type": "execute_result"
    }
   ],
   "source": [
    "data"
   ]
  },
  {
   "cell_type": "code",
   "execution_count": 21,
   "id": "2773affe",
   "metadata": {},
   "outputs": [
    {
     "name": "stdout",
     "output_type": "stream",
     "text": [
      "50\n",
      "40\n",
      "30\n",
      "20\n",
      "10\n"
     ]
    }
   ],
   "source": [
    "for v in data[::-1]:\n",
    "    print(v)"
   ]
  },
  {
   "cell_type": "code",
   "execution_count": 22,
   "id": "5426b75d",
   "metadata": {},
   "outputs": [
    {
     "name": "stdout",
     "output_type": "stream",
     "text": [
      "30\n",
      "40\n"
     ]
    }
   ],
   "source": [
    "for v in data[2:4]:\n",
    "    print(v)"
   ]
  },
  {
   "cell_type": "code",
   "execution_count": 25,
   "id": "28dc15e8",
   "metadata": {},
   "outputs": [
    {
     "name": "stdout",
     "output_type": "stream",
     "text": [
      "20\n",
      "40\n",
      "60\n",
      "80\n",
      "100\n"
     ]
    }
   ],
   "source": [
    "for v in data:\n",
    "    print(v+v)"
   ]
  },
  {
   "cell_type": "code",
   "execution_count": 26,
   "id": "63547ee0",
   "metadata": {},
   "outputs": [
    {
     "name": "stdout",
     "output_type": "stream",
     "text": [
      "Python\n",
      "Python\n",
      "Python\n",
      "Python\n",
      "Python\n"
     ]
    }
   ],
   "source": [
    "for i in data:\n",
    "    print('Python')"
   ]
  },
  {
   "cell_type": "code",
   "execution_count": 27,
   "id": "1276fbcb",
   "metadata": {},
   "outputs": [],
   "source": [
    "### while loop"
   ]
  },
  {
   "cell_type": "code",
   "execution_count": 28,
   "id": "cd5f7376",
   "metadata": {},
   "outputs": [
    {
     "name": "stdout",
     "output_type": "stream",
     "text": [
      "8\n",
      "9\n",
      "10\n",
      "11\n",
      "12\n",
      "13\n",
      "14\n",
      "15\n",
      "16\n",
      "17\n",
      "18\n",
      "19\n"
     ]
    }
   ],
   "source": [
    "i=8\n",
    "while i<20:\n",
    "    print(i)\n",
    "    i=i+1"
   ]
  },
  {
   "cell_type": "code",
   "execution_count": 30,
   "id": "6f2d56ae",
   "metadata": {},
   "outputs": [
    {
     "name": "stdout",
     "output_type": "stream",
     "text": [
      "8\n",
      "9\n",
      "10\n",
      "11\n",
      "12\n",
      "13\n",
      "14\n",
      "15\n",
      "16\n",
      "17\n",
      "18\n",
      "19\n"
     ]
    }
   ],
   "source": [
    "i=8\n",
    "while i<20:\n",
    "    print(i)\n",
    "    i+=1"
   ]
  },
  {
   "cell_type": "code",
   "execution_count": 31,
   "id": "4ee01f7d",
   "metadata": {},
   "outputs": [],
   "source": [
    "### range()----a generator function "
   ]
  },
  {
   "cell_type": "code",
   "execution_count": 32,
   "id": "bb102b18",
   "metadata": {},
   "outputs": [
    {
     "data": {
      "text/plain": [
       "range(0, 10)"
      ]
     },
     "execution_count": 32,
     "metadata": {},
     "output_type": "execute_result"
    }
   ],
   "source": [
    "range(10)"
   ]
  },
  {
   "cell_type": "code",
   "execution_count": 33,
   "id": "13947704",
   "metadata": {},
   "outputs": [
    {
     "data": {
      "text/plain": [
       "[0, 1, 2, 3, 4, 5, 6, 7, 8, 9]"
      ]
     },
     "execution_count": 33,
     "metadata": {},
     "output_type": "execute_result"
    }
   ],
   "source": [
    "list(range(10))"
   ]
  },
  {
   "cell_type": "code",
   "execution_count": 35,
   "id": "06ee072b",
   "metadata": {},
   "outputs": [
    {
     "data": {
      "text/plain": [
       "[0, 1, 2, 3, 4, 5, 6, 7, 8, 9, 10, 11, 12, 13, 14]"
      ]
     },
     "execution_count": 35,
     "metadata": {},
     "output_type": "execute_result"
    }
   ],
   "source": [
    "list(range(15))"
   ]
  },
  {
   "cell_type": "code",
   "execution_count": 36,
   "id": "f72114d9",
   "metadata": {},
   "outputs": [
    {
     "data": {
      "text/plain": [
       "[10, 11, 12, 13, 14, 15, 16, 17, 18, 19]"
      ]
     },
     "execution_count": 36,
     "metadata": {},
     "output_type": "execute_result"
    }
   ],
   "source": [
    "list(range(10,20))"
   ]
  },
  {
   "cell_type": "code",
   "execution_count": 37,
   "id": "cd99e56f",
   "metadata": {},
   "outputs": [
    {
     "data": {
      "text/plain": [
       "[10, 12, 14, 16, 18]"
      ]
     },
     "execution_count": 37,
     "metadata": {},
     "output_type": "execute_result"
    }
   ],
   "source": [
    "list(range(10,20,2))"
   ]
  },
  {
   "cell_type": "code",
   "execution_count": 38,
   "id": "d54603a8",
   "metadata": {},
   "outputs": [
    {
     "data": {
      "text/plain": [
       "[10, 15, 20]"
      ]
     },
     "execution_count": 38,
     "metadata": {},
     "output_type": "execute_result"
    }
   ],
   "source": [
    "list(range(10,25,5))"
   ]
  },
  {
   "cell_type": "code",
   "execution_count": 40,
   "id": "d45ffd17",
   "metadata": {},
   "outputs": [
    {
     "data": {
      "text/plain": [
       "[10, 12, 14, 16, 18]"
      ]
     },
     "execution_count": 40,
     "metadata": {},
     "output_type": "execute_result"
    }
   ],
   "source": [
    "list(range(10,20,2))"
   ]
  },
  {
   "cell_type": "code",
   "execution_count": 41,
   "id": "1949c7b6",
   "metadata": {},
   "outputs": [
    {
     "data": {
      "text/plain": [
       "[-10, -7, -4, -1, 2, 5, 8]"
      ]
     },
     "execution_count": 41,
     "metadata": {},
     "output_type": "execute_result"
    }
   ],
   "source": [
    "list(range(-10,10,3))"
   ]
  },
  {
   "cell_type": "code",
   "execution_count": 43,
   "id": "cc5c5684",
   "metadata": {},
   "outputs": [
    {
     "name": "stdout",
     "output_type": "stream",
     "text": [
      "0\n",
      "1\n",
      "2\n",
      "3\n",
      "4\n",
      "5\n",
      "6\n"
     ]
    }
   ],
   "source": [
    "for v in range(7):\n",
    "    print(v)"
   ]
  },
  {
   "cell_type": "code",
   "execution_count": 44,
   "id": "efdbc1e5",
   "metadata": {},
   "outputs": [
    {
     "name": "stdout",
     "output_type": "stream",
     "text": [
      "0 1 2 3 4 5 6 "
     ]
    }
   ],
   "source": [
    "for v in range(7):\n",
    "    print(v,end=' ')"
   ]
  },
  {
   "cell_type": "code",
   "execution_count": 45,
   "id": "53d952d5",
   "metadata": {},
   "outputs": [
    {
     "name": "stdout",
     "output_type": "stream",
     "text": [
      "0 1 2 3 4 5 6 7 8 9 10 11 12 13 14 15 16 17 18 19 20 21 22 23 24 25 26 27 28 29 30 31 32 33 34 35 36 37 38 39 40 41 42 43 44 45 46 47 48 49 50 51 52 53 54 55 56 57 58 59 60 61 62 63 64 65 66 67 68 69 70 71 72 73 74 75 76 77 78 79 80 81 82 83 84 85 86 87 88 89 90 91 92 93 94 95 96 97 98 99 100 101 102 103 104 105 106 107 108 109 110 111 112 113 114 115 116 117 118 119 120 121 122 123 124 125 126 127 128 129 130 131 132 133 134 135 136 137 138 139 140 141 142 143 144 145 146 147 148 149 150 151 152 153 154 155 156 157 158 159 160 161 162 163 164 165 166 167 168 169 170 171 172 173 174 175 176 177 178 179 180 181 182 183 184 185 186 187 188 189 190 191 192 193 194 195 196 197 198 199 200 201 202 203 204 205 206 207 208 209 210 211 212 213 214 215 216 217 218 219 220 221 222 223 224 225 226 227 228 229 230 231 232 233 234 235 236 237 238 239 240 241 242 243 244 245 246 247 248 249 250 251 252 253 254 255 256 257 258 259 260 261 262 263 264 265 266 267 268 269 270 271 272 273 274 275 276 277 278 279 280 281 282 283 284 285 286 287 288 289 290 291 292 293 294 295 296 297 298 299 300 301 302 303 304 305 306 307 308 309 310 311 312 313 314 315 316 317 318 319 320 321 322 323 324 325 326 327 328 329 330 331 332 333 334 335 336 337 338 339 340 341 342 343 344 345 346 347 348 349 350 351 352 353 354 355 356 357 358 359 360 361 362 363 364 365 366 367 368 369 370 371 372 373 374 375 376 377 378 379 380 381 382 383 384 385 386 387 388 389 390 391 392 393 394 395 396 397 398 399 400 401 402 403 404 405 406 407 408 409 410 411 412 413 414 415 416 417 418 419 420 421 422 423 424 425 426 427 428 429 430 431 432 433 434 435 436 437 438 439 440 441 442 443 444 445 446 447 448 449 450 451 452 453 454 455 456 457 458 459 460 461 462 463 464 465 466 467 468 469 470 471 472 473 474 475 476 477 478 479 480 481 482 483 484 485 486 487 488 489 490 491 492 493 494 495 496 497 498 499 500 501 502 503 504 505 506 507 508 509 510 511 512 513 514 515 516 517 518 519 520 521 522 523 524 525 526 527 528 529 530 531 532 533 534 535 536 537 538 539 540 541 542 543 544 545 546 547 548 549 550 551 552 553 554 555 556 557 558 559 560 561 562 563 564 565 566 567 568 569 570 571 572 573 574 575 576 577 578 579 580 581 582 583 584 585 586 587 588 589 590 591 592 593 594 595 596 597 598 599 600 601 602 603 604 605 606 607 608 609 610 611 612 613 614 615 616 617 618 619 620 621 622 623 624 625 626 627 628 629 630 631 632 633 634 635 636 637 638 639 640 641 642 643 644 645 646 647 648 649 650 651 652 653 654 655 656 657 658 659 660 661 662 663 664 665 666 667 668 669 670 671 672 673 674 675 676 677 678 679 680 681 682 683 684 685 686 687 688 689 690 691 692 693 694 695 696 697 698 699 700 701 702 703 704 705 706 707 708 709 710 711 712 713 714 715 716 717 718 719 720 721 722 723 724 725 726 727 728 729 730 731 732 733 734 735 736 737 738 739 740 741 742 743 744 745 746 747 748 749 750 751 752 753 754 755 756 757 758 759 760 761 762 763 764 765 766 767 768 769 770 771 772 773 774 775 776 777 778 779 780 781 782 783 784 785 786 787 788 789 790 791 792 793 794 795 796 797 798 799 800 801 802 803 804 805 806 807 808 809 810 811 812 813 814 815 816 817 818 819 820 821 822 823 824 825 826 827 828 829 830 831 832 833 834 835 836 837 838 839 840 841 842 843 844 845 846 847 848 849 850 851 852 853 854 855 856 857 858 859 860 861 862 863 864 865 866 867 868 869 870 871 872 873 874 875 876 877 878 879 880 881 882 883 884 885 886 887 888 889 890 891 892 893 894 895 896 897 898 899 900 901 902 903 904 905 906 907 908 909 910 911 912 913 914 915 916 917 918 919 920 921 922 923 924 925 926 927 928 929 930 931 932 933 934 935 936 937 938 939 940 941 942 943 944 945 946 947 948 949 950 951 952 953 954 955 956 957 958 959 960 961 962 963 964 965 966 967 968 969 970 971 972 973 974 975 976 977 978 979 980 981 982 983 984 985 986 987 988 989 990 991 992 993 994 995 996 997 998 999 "
     ]
    }
   ],
   "source": [
    "for v in range(1000):\n",
    "    print(v,end=' ')"
   ]
  },
  {
   "cell_type": "code",
   "execution_count": 47,
   "id": "4b3b9502",
   "metadata": {},
   "outputs": [
    {
     "name": "stdout",
     "output_type": "stream",
     "text": [
      "Python\n",
      "Python\n",
      "Python\n",
      "Python\n",
      "Python\n",
      "Python\n",
      "Python\n"
     ]
    }
   ],
   "source": [
    "for v in range(15,50,5):\n",
    "    print('Python')"
   ]
  },
  {
   "cell_type": "code",
   "execution_count": 48,
   "id": "a64461fc",
   "metadata": {},
   "outputs": [
    {
     "name": "stdout",
     "output_type": "stream",
     "text": [
      "Python Python Python Python Python Python Python "
     ]
    }
   ],
   "source": [
    "for v in range(15,50,5):\n",
    "    print('Python',end=' ')"
   ]
  },
  {
   "cell_type": "code",
   "execution_count": 49,
   "id": "2df92684",
   "metadata": {},
   "outputs": [
    {
     "name": "stdout",
     "output_type": "stream",
     "text": [
      "* * * * * * * "
     ]
    }
   ],
   "source": [
    "for v in range(15,50,5):\n",
    "    print('*',end=' ')"
   ]
  },
  {
   "cell_type": "code",
   "execution_count": 51,
   "id": "546782dc",
   "metadata": {},
   "outputs": [
    {
     "name": "stdout",
     "output_type": "stream",
     "text": [
      "*\n",
      "* * *\n",
      "* * *\n",
      "* * *\n",
      "* * *\n",
      "* * *\n",
      "* * *\n",
      "* * "
     ]
    }
   ],
   "source": [
    "for v in range(15,50,5):\n",
    "    print('*')\n",
    "    print('*',end=' ')\n",
    "    print('*',end=' ')    "
   ]
  },
  {
   "cell_type": "code",
   "execution_count": 52,
   "id": "66f31676",
   "metadata": {},
   "outputs": [],
   "source": [
    "## List Comprehension"
   ]
  },
  {
   "cell_type": "code",
   "execution_count": 53,
   "id": "470ba074",
   "metadata": {},
   "outputs": [
    {
     "data": {
      "text/plain": [
       "[10, 20, 30, 40, 50]"
      ]
     },
     "execution_count": 53,
     "metadata": {},
     "output_type": "execute_result"
    }
   ],
   "source": [
    "data"
   ]
  },
  {
   "cell_type": "code",
   "execution_count": 54,
   "id": "32f30375",
   "metadata": {},
   "outputs": [
    {
     "name": "stdout",
     "output_type": "stream",
     "text": [
      "[100, 400, 900, 1600, 2500]\n"
     ]
    }
   ],
   "source": [
    "data_square=[]\n",
    "for v in data:\n",
    "    data_square.append(v**2)\n",
    "print(data_square)"
   ]
  },
  {
   "cell_type": "code",
   "execution_count": 55,
   "id": "b4be2f25",
   "metadata": {},
   "outputs": [],
   "source": [
    "square_data=[v**2 for v in data]"
   ]
  },
  {
   "cell_type": "code",
   "execution_count": 56,
   "id": "1bf713a2",
   "metadata": {},
   "outputs": [
    {
     "data": {
      "text/plain": [
       "[100, 400, 900, 1600, 2500]"
      ]
     },
     "execution_count": 56,
     "metadata": {},
     "output_type": "execute_result"
    }
   ],
   "source": [
    "square_data"
   ]
  },
  {
   "cell_type": "code",
   "execution_count": 57,
   "id": "a29e3d52",
   "metadata": {},
   "outputs": [
    {
     "ename": "TypeError",
     "evalue": "can only concatenate str (not \"int\") to str",
     "output_type": "error",
     "traceback": [
      "\u001b[1;31m---------------------------------------------------------------------------\u001b[0m",
      "\u001b[1;31mTypeError\u001b[0m                                 Traceback (most recent call last)",
      "\u001b[1;32m~\\AppData\\Local\\Temp/ipykernel_5296/2738185505.py\u001b[0m in \u001b[0;36m<module>\u001b[1;34m\u001b[0m\n\u001b[1;32m----> 1\u001b[1;33m \u001b[1;34m'45'\u001b[0m\u001b[1;33m+\u001b[0m\u001b[1;36m67\u001b[0m\u001b[1;33m\u001b[0m\u001b[1;33m\u001b[0m\u001b[0m\n\u001b[0m",
      "\u001b[1;31mTypeError\u001b[0m: can only concatenate str (not \"int\") to str"
     ]
    }
   ],
   "source": [
    "'45'+67"
   ]
  },
  {
   "cell_type": "code",
   "execution_count": 58,
   "id": "7fc80838",
   "metadata": {},
   "outputs": [
    {
     "data": {
      "text/plain": [
       "112"
      ]
     },
     "execution_count": 58,
     "metadata": {},
     "output_type": "execute_result"
    }
   ],
   "source": [
    "int('45')+67"
   ]
  },
  {
   "cell_type": "code",
   "execution_count": 59,
   "id": "ce749fff",
   "metadata": {},
   "outputs": [
    {
     "data": {
      "text/plain": [
       "'4567'"
      ]
     },
     "execution_count": 59,
     "metadata": {},
     "output_type": "execute_result"
    }
   ],
   "source": [
    "'45'+str(67)"
   ]
  },
  {
   "cell_type": "code",
   "execution_count": 60,
   "id": "5a927c7e",
   "metadata": {},
   "outputs": [
    {
     "data": {
      "text/plain": [
       "False"
      ]
     },
     "execution_count": 60,
     "metadata": {},
     "output_type": "execute_result"
    }
   ],
   "source": [
    "bool(0)"
   ]
  },
  {
   "cell_type": "code",
   "execution_count": 61,
   "id": "bdcf7a75",
   "metadata": {},
   "outputs": [
    {
     "data": {
      "text/plain": [
       "True"
      ]
     },
     "execution_count": 61,
     "metadata": {},
     "output_type": "execute_result"
    }
   ],
   "source": [
    "bool(1)"
   ]
  },
  {
   "cell_type": "code",
   "execution_count": 62,
   "id": "da8d535a",
   "metadata": {},
   "outputs": [
    {
     "data": {
      "text/plain": [
       "True"
      ]
     },
     "execution_count": 62,
     "metadata": {},
     "output_type": "execute_result"
    }
   ],
   "source": [
    "bool(9)"
   ]
  },
  {
   "cell_type": "code",
   "execution_count": 63,
   "id": "ba37f30d",
   "metadata": {},
   "outputs": [
    {
     "data": {
      "text/plain": [
       "True"
      ]
     },
     "execution_count": 63,
     "metadata": {},
     "output_type": "execute_result"
    }
   ],
   "source": [
    "bool(10)"
   ]
  },
  {
   "cell_type": "code",
   "execution_count": 64,
   "id": "cef1279e",
   "metadata": {},
   "outputs": [
    {
     "data": {
      "text/plain": [
       "True"
      ]
     },
     "execution_count": 64,
     "metadata": {},
     "output_type": "execute_result"
    }
   ],
   "source": [
    "bool(-5)"
   ]
  },
  {
   "cell_type": "code",
   "execution_count": 65,
   "id": "7653d3cd",
   "metadata": {},
   "outputs": [
    {
     "data": {
      "text/plain": [
       "False"
      ]
     },
     "execution_count": 65,
     "metadata": {},
     "output_type": "execute_result"
    }
   ],
   "source": [
    "bool(0)"
   ]
  },
  {
   "cell_type": "code",
   "execution_count": 66,
   "id": "f1c91d80",
   "metadata": {},
   "outputs": [
    {
     "data": {
      "text/plain": [
       "False"
      ]
     },
     "execution_count": 66,
     "metadata": {},
     "output_type": "execute_result"
    }
   ],
   "source": [
    "bool([])"
   ]
  },
  {
   "cell_type": "code",
   "execution_count": 67,
   "id": "96327516",
   "metadata": {},
   "outputs": [
    {
     "data": {
      "text/plain": [
       "False"
      ]
     },
     "execution_count": 67,
     "metadata": {},
     "output_type": "execute_result"
    }
   ],
   "source": [
    "bool(())"
   ]
  },
  {
   "cell_type": "code",
   "execution_count": 68,
   "id": "98d54b69",
   "metadata": {},
   "outputs": [
    {
     "data": {
      "text/plain": [
       "False"
      ]
     },
     "execution_count": 68,
     "metadata": {},
     "output_type": "execute_result"
    }
   ],
   "source": [
    "bool({})"
   ]
  },
  {
   "cell_type": "code",
   "execution_count": 69,
   "id": "3eeef99c",
   "metadata": {},
   "outputs": [
    {
     "data": {
      "text/plain": [
       "False"
      ]
     },
     "execution_count": 69,
     "metadata": {},
     "output_type": "execute_result"
    }
   ],
   "source": [
    "bool(set())"
   ]
  },
  {
   "cell_type": "code",
   "execution_count": 70,
   "id": "7002b19d",
   "metadata": {},
   "outputs": [
    {
     "data": {
      "text/plain": [
       "True"
      ]
     },
     "execution_count": 70,
     "metadata": {},
     "output_type": "execute_result"
    }
   ],
   "source": [
    "bool([8])"
   ]
  },
  {
   "cell_type": "code",
   "execution_count": 1,
   "id": "8d8c662f",
   "metadata": {},
   "outputs": [],
   "source": [
    "## Revision 3"
   ]
  },
  {
   "cell_type": "code",
   "execution_count": 2,
   "id": "9cd1dfd4",
   "metadata": {},
   "outputs": [
    {
     "data": {
      "text/plain": [
       "False"
      ]
     },
     "execution_count": 2,
     "metadata": {},
     "output_type": "execute_result"
    }
   ],
   "source": [
    "bool({})"
   ]
  },
  {
   "cell_type": "code",
   "execution_count": 3,
   "id": "d5f308b8",
   "metadata": {},
   "outputs": [
    {
     "data": {
      "text/plain": [
       "True"
      ]
     },
     "execution_count": 3,
     "metadata": {},
     "output_type": "execute_result"
    }
   ],
   "source": [
    "bool(True)"
   ]
  },
  {
   "cell_type": "code",
   "execution_count": 4,
   "id": "0c196c60",
   "metadata": {},
   "outputs": [
    {
     "data": {
      "text/plain": [
       "True"
      ]
     },
     "execution_count": 4,
     "metadata": {},
     "output_type": "execute_result"
    }
   ],
   "source": [
    "bool([False])"
   ]
  },
  {
   "cell_type": "code",
   "execution_count": 5,
   "id": "c0dad446",
   "metadata": {},
   "outputs": [
    {
     "data": {
      "text/plain": [
       "False"
      ]
     },
     "execution_count": 5,
     "metadata": {},
     "output_type": "execute_result"
    }
   ],
   "source": [
    "bool([])"
   ]
  },
  {
   "cell_type": "code",
   "execution_count": 6,
   "id": "9354026b",
   "metadata": {},
   "outputs": [
    {
     "data": {
      "text/plain": [
       "False"
      ]
     },
     "execution_count": 6,
     "metadata": {},
     "output_type": "execute_result"
    }
   ],
   "source": [
    "bool('')"
   ]
  },
  {
   "cell_type": "markdown",
   "id": "31bbc9f7",
   "metadata": {},
   "source": [
    "## Functions"
   ]
  },
  {
   "cell_type": "code",
   "execution_count": 7,
   "id": "c595bc78",
   "metadata": {},
   "outputs": [],
   "source": [
    "def my_fun1():\n",
    "    print(\"Hello Everyone\")"
   ]
  },
  {
   "cell_type": "code",
   "execution_count": 8,
   "id": "08f596c6",
   "metadata": {},
   "outputs": [
    {
     "data": {
      "text/plain": [
       "<function __main__.my_fun1()>"
      ]
     },
     "execution_count": 8,
     "metadata": {},
     "output_type": "execute_result"
    }
   ],
   "source": [
    "my_fun1"
   ]
  },
  {
   "cell_type": "code",
   "execution_count": 9,
   "id": "72b75469",
   "metadata": {},
   "outputs": [
    {
     "name": "stdout",
     "output_type": "stream",
     "text": [
      "Hello Everyone\n"
     ]
    }
   ],
   "source": [
    "my_fun1()"
   ]
  },
  {
   "cell_type": "code",
   "execution_count": 10,
   "id": "cd578e34",
   "metadata": {},
   "outputs": [],
   "source": [
    "def find_square(n):\n",
    "    return n*n"
   ]
  },
  {
   "cell_type": "code",
   "execution_count": 11,
   "id": "93c2ea07",
   "metadata": {},
   "outputs": [
    {
     "ename": "TypeError",
     "evalue": "find_square() missing 1 required positional argument: 'n'",
     "output_type": "error",
     "traceback": [
      "\u001b[1;31m---------------------------------------------------------------------------\u001b[0m",
      "\u001b[1;31mTypeError\u001b[0m                                 Traceback (most recent call last)",
      "\u001b[1;32m~\\AppData\\Local\\Temp/ipykernel_5892/1622392295.py\u001b[0m in \u001b[0;36m<module>\u001b[1;34m\u001b[0m\n\u001b[1;32m----> 1\u001b[1;33m \u001b[0mfind_square\u001b[0m\u001b[1;33m(\u001b[0m\u001b[1;33m)\u001b[0m\u001b[1;33m\u001b[0m\u001b[1;33m\u001b[0m\u001b[0m\n\u001b[0m",
      "\u001b[1;31mTypeError\u001b[0m: find_square() missing 1 required positional argument: 'n'"
     ]
    }
   ],
   "source": [
    "find_square()"
   ]
  },
  {
   "cell_type": "code",
   "execution_count": 12,
   "id": "f8e4d676",
   "metadata": {},
   "outputs": [
    {
     "data": {
      "text/plain": [
       "64"
      ]
     },
     "execution_count": 12,
     "metadata": {},
     "output_type": "execute_result"
    }
   ],
   "source": [
    "find_square(8)"
   ]
  },
  {
   "cell_type": "code",
   "execution_count": 17,
   "id": "6db0a9d4",
   "metadata": {},
   "outputs": [],
   "source": [
    "def my_fun2(name):\n",
    "    print(\"Hi Mr. \"+name)"
   ]
  },
  {
   "cell_type": "code",
   "execution_count": 14,
   "id": "f2d0e46b",
   "metadata": {},
   "outputs": [
    {
     "ename": "TypeError",
     "evalue": "my_fun2() missing 1 required positional argument: 'name'",
     "output_type": "error",
     "traceback": [
      "\u001b[1;31m---------------------------------------------------------------------------\u001b[0m",
      "\u001b[1;31mTypeError\u001b[0m                                 Traceback (most recent call last)",
      "\u001b[1;32m~\\AppData\\Local\\Temp/ipykernel_5892/302313157.py\u001b[0m in \u001b[0;36m<module>\u001b[1;34m\u001b[0m\n\u001b[1;32m----> 1\u001b[1;33m \u001b[0mmy_fun2\u001b[0m\u001b[1;33m(\u001b[0m\u001b[1;33m)\u001b[0m\u001b[1;33m\u001b[0m\u001b[1;33m\u001b[0m\u001b[0m\n\u001b[0m",
      "\u001b[1;31mTypeError\u001b[0m: my_fun2() missing 1 required positional argument: 'name'"
     ]
    }
   ],
   "source": [
    "my_fun2()"
   ]
  },
  {
   "cell_type": "code",
   "execution_count": 18,
   "id": "4c5eeeba",
   "metadata": {},
   "outputs": [
    {
     "name": "stdout",
     "output_type": "stream",
     "text": [
      "Hi Mr. Rohit\n"
     ]
    }
   ],
   "source": [
    "my_fun2('Rohit')"
   ]
  },
  {
   "cell_type": "code",
   "execution_count": 19,
   "id": "0e6f3a86",
   "metadata": {},
   "outputs": [],
   "source": [
    "def my_fun3(name=\"Rahul\"):\n",
    "    print(\"Hello \"+name)"
   ]
  },
  {
   "cell_type": "code",
   "execution_count": 20,
   "id": "4f5d3a21",
   "metadata": {},
   "outputs": [
    {
     "name": "stdout",
     "output_type": "stream",
     "text": [
      "Hello Mohit\n"
     ]
    }
   ],
   "source": [
    "my_fun3(\"Mohit\")"
   ]
  },
  {
   "cell_type": "code",
   "execution_count": 21,
   "id": "72d1174c",
   "metadata": {},
   "outputs": [
    {
     "name": "stdout",
     "output_type": "stream",
     "text": [
      "Hello Rahul\n"
     ]
    }
   ],
   "source": [
    "my_fun3()"
   ]
  },
  {
   "cell_type": "code",
   "execution_count": 24,
   "id": "2ce39ec4",
   "metadata": {},
   "outputs": [],
   "source": [
    "def add_2nos(a,b):\n",
    "    '''\n",
    "    This function adds two numbers\n",
    "    provide 2 arguments\n",
    "    \n",
    "    note:This is written by Mr. Yogesh Murumkar\n",
    "    \n",
    "    '''\n",
    "    return a+b"
   ]
  },
  {
   "cell_type": "code",
   "execution_count": 25,
   "id": "5eff760d",
   "metadata": {},
   "outputs": [
    {
     "data": {
      "text/plain": [
       "13"
      ]
     },
     "execution_count": 25,
     "metadata": {},
     "output_type": "execute_result"
    }
   ],
   "source": [
    "add_2nos(6,7)"
   ]
  },
  {
   "cell_type": "code",
   "execution_count": 26,
   "id": "27e09a53",
   "metadata": {},
   "outputs": [
    {
     "data": {
      "text/plain": [
       "17"
      ]
     },
     "execution_count": 26,
     "metadata": {},
     "output_type": "execute_result"
    }
   ],
   "source": [
    "add_2nos(8,9)"
   ]
  },
  {
   "cell_type": "code",
   "execution_count": 27,
   "id": "e435e30f",
   "metadata": {},
   "outputs": [],
   "source": [
    "def fun1(n):\n",
    "    return n**3"
   ]
  },
  {
   "cell_type": "code",
   "execution_count": 31,
   "id": "9902f15e",
   "metadata": {},
   "outputs": [],
   "source": [
    "def fun2(m):\n",
    "    print(m**3)"
   ]
  },
  {
   "cell_type": "code",
   "execution_count": 33,
   "id": "a3279760",
   "metadata": {},
   "outputs": [
    {
     "data": {
      "text/plain": [
       "int"
      ]
     },
     "execution_count": 33,
     "metadata": {},
     "output_type": "execute_result"
    }
   ],
   "source": [
    "type(fun1(3))"
   ]
  },
  {
   "cell_type": "code",
   "execution_count": 34,
   "id": "bf1fdd11",
   "metadata": {},
   "outputs": [
    {
     "name": "stdout",
     "output_type": "stream",
     "text": [
      "27\n"
     ]
    },
    {
     "data": {
      "text/plain": [
       "NoneType"
      ]
     },
     "execution_count": 34,
     "metadata": {},
     "output_type": "execute_result"
    }
   ],
   "source": [
    "type(fun2(3))"
   ]
  },
  {
   "cell_type": "code",
   "execution_count": 36,
   "id": "60a13f22",
   "metadata": {},
   "outputs": [],
   "source": [
    "### Lambda Expressions---->an anonymous function"
   ]
  },
  {
   "cell_type": "code",
   "execution_count": 37,
   "id": "a130abed",
   "metadata": {},
   "outputs": [],
   "source": [
    "def find_square(n):\n",
    "    return n*n"
   ]
  },
  {
   "cell_type": "code",
   "execution_count": 38,
   "id": "2269a890",
   "metadata": {},
   "outputs": [
    {
     "data": {
      "text/plain": [
       "81"
      ]
     },
     "execution_count": 38,
     "metadata": {},
     "output_type": "execute_result"
    }
   ],
   "source": [
    "find_square(9)"
   ]
  },
  {
   "cell_type": "code",
   "execution_count": 39,
   "id": "38b49cbb",
   "metadata": {},
   "outputs": [],
   "source": [
    "lam1=lambda v:v*v"
   ]
  },
  {
   "cell_type": "code",
   "execution_count": 40,
   "id": "39efd573",
   "metadata": {},
   "outputs": [
    {
     "data": {
      "text/plain": [
       "<function __main__.<lambda>(v)>"
      ]
     },
     "execution_count": 40,
     "metadata": {},
     "output_type": "execute_result"
    }
   ],
   "source": [
    "lam1"
   ]
  },
  {
   "cell_type": "code",
   "execution_count": 41,
   "id": "68ae80bf",
   "metadata": {},
   "outputs": [
    {
     "data": {
      "text/plain": [
       "64"
      ]
     },
     "execution_count": 41,
     "metadata": {},
     "output_type": "execute_result"
    }
   ],
   "source": [
    "lam1(8)"
   ]
  },
  {
   "cell_type": "code",
   "execution_count": 42,
   "id": "2005bbd5",
   "metadata": {},
   "outputs": [],
   "source": [
    "## map and filter"
   ]
  },
  {
   "cell_type": "code",
   "execution_count": 43,
   "id": "28f35e27",
   "metadata": {},
   "outputs": [],
   "source": [
    "data=[10,20,30,40,50]"
   ]
  },
  {
   "cell_type": "code",
   "execution_count": 44,
   "id": "325e1d3b",
   "metadata": {},
   "outputs": [
    {
     "data": {
      "text/plain": [
       "[10, 20, 30, 40, 50]"
      ]
     },
     "execution_count": 44,
     "metadata": {},
     "output_type": "execute_result"
    }
   ],
   "source": [
    "data"
   ]
  },
  {
   "cell_type": "code",
   "execution_count": 45,
   "id": "817ea338",
   "metadata": {},
   "outputs": [
    {
     "data": {
      "text/plain": [
       "<map at 0x1511f52eee0>"
      ]
     },
     "execution_count": 45,
     "metadata": {},
     "output_type": "execute_result"
    }
   ],
   "source": [
    "map(find_square,data)"
   ]
  },
  {
   "cell_type": "code",
   "execution_count": 46,
   "id": "99474ce5",
   "metadata": {},
   "outputs": [
    {
     "data": {
      "text/plain": [
       "[100, 400, 900, 1600, 2500]"
      ]
     },
     "execution_count": 46,
     "metadata": {},
     "output_type": "execute_result"
    }
   ],
   "source": [
    "list(map(find_square,data))"
   ]
  },
  {
   "cell_type": "code",
   "execution_count": 47,
   "id": "f3d31d01",
   "metadata": {},
   "outputs": [
    {
     "data": {
      "text/plain": [
       "[1000, 8000, 27000, 64000, 125000]"
      ]
     },
     "execution_count": 47,
     "metadata": {},
     "output_type": "execute_result"
    }
   ],
   "source": [
    "list(map(lambda v:v*v*v,data))"
   ]
  },
  {
   "cell_type": "code",
   "execution_count": 48,
   "id": "a3ee6f8f",
   "metadata": {},
   "outputs": [],
   "source": [
    "l1=lambda x:x*x*x"
   ]
  },
  {
   "cell_type": "code",
   "execution_count": 49,
   "id": "37254c33",
   "metadata": {},
   "outputs": [
    {
     "data": {
      "text/plain": [
       "[1000, 8000, 27000, 64000, 125000]"
      ]
     },
     "execution_count": 49,
     "metadata": {},
     "output_type": "execute_result"
    }
   ],
   "source": [
    "list(map(l1,data))"
   ]
  },
  {
   "cell_type": "code",
   "execution_count": 50,
   "id": "10bd8b46",
   "metadata": {},
   "outputs": [
    {
     "data": {
      "text/plain": [
       "[10, 20, 30, 40, 50]"
      ]
     },
     "execution_count": 50,
     "metadata": {},
     "output_type": "execute_result"
    }
   ],
   "source": [
    "data"
   ]
  },
  {
   "cell_type": "code",
   "execution_count": 52,
   "id": "d4c6225e",
   "metadata": {},
   "outputs": [
    {
     "data": {
      "text/plain": [
       "[True, True, True, True, True]"
      ]
     },
     "execution_count": 52,
     "metadata": {},
     "output_type": "execute_result"
    }
   ],
   "source": [
    "list(map(lambda v:v%2==0,data))"
   ]
  },
  {
   "cell_type": "code",
   "execution_count": 53,
   "id": "d2e60e0b",
   "metadata": {},
   "outputs": [],
   "source": [
    "data=[11,12,13,14,15,16]"
   ]
  },
  {
   "cell_type": "code",
   "execution_count": 54,
   "id": "bdc50400",
   "metadata": {},
   "outputs": [
    {
     "data": {
      "text/plain": [
       "[False, True, False, True, False, True]"
      ]
     },
     "execution_count": 54,
     "metadata": {},
     "output_type": "execute_result"
    }
   ],
   "source": [
    "list(map(lambda v:v%2==0,data))"
   ]
  },
  {
   "cell_type": "code",
   "execution_count": 55,
   "id": "d5ea6f2d",
   "metadata": {},
   "outputs": [
    {
     "data": {
      "text/plain": [
       "[12, 14, 16]"
      ]
     },
     "execution_count": 55,
     "metadata": {},
     "output_type": "execute_result"
    }
   ],
   "source": [
    "list(filter(lambda v:v%2==0,data))"
   ]
  },
  {
   "cell_type": "code",
   "execution_count": 56,
   "id": "c428b7be",
   "metadata": {},
   "outputs": [],
   "source": [
    "fruits=['mango','banana','apple','orange']"
   ]
  },
  {
   "cell_type": "code",
   "execution_count": 57,
   "id": "bb088eeb",
   "metadata": {},
   "outputs": [
    {
     "data": {
      "text/plain": [
       "['mango', 'banana', 'apple', 'orange']"
      ]
     },
     "execution_count": 57,
     "metadata": {},
     "output_type": "execute_result"
    }
   ],
   "source": [
    "fruits"
   ]
  },
  {
   "cell_type": "code",
   "execution_count": 59,
   "id": "052e5dfb",
   "metadata": {},
   "outputs": [],
   "source": [
    "l2=lambda v:v[1]=='a'"
   ]
  },
  {
   "cell_type": "code",
   "execution_count": 60,
   "id": "8de54c9e",
   "metadata": {},
   "outputs": [
    {
     "data": {
      "text/plain": [
       "['mango', 'banana']"
      ]
     },
     "execution_count": 60,
     "metadata": {},
     "output_type": "execute_result"
    }
   ],
   "source": [
    "list(filter(l2,fruits))"
   ]
  },
  {
   "cell_type": "code",
   "execution_count": 61,
   "id": "4749bf04",
   "metadata": {},
   "outputs": [],
   "source": [
    "### Methods"
   ]
  },
  {
   "cell_type": "code",
   "execution_count": 62,
   "id": "efad6c22",
   "metadata": {},
   "outputs": [],
   "source": [
    "s=\"we are learning, Python! and it, requires! practice\""
   ]
  },
  {
   "cell_type": "code",
   "execution_count": 63,
   "id": "a83abd6b",
   "metadata": {},
   "outputs": [
    {
     "data": {
      "text/plain": [
       "'we are learning, Python! and it, requires! practice'"
      ]
     },
     "execution_count": 63,
     "metadata": {},
     "output_type": "execute_result"
    }
   ],
   "source": [
    "s"
   ]
  },
  {
   "cell_type": "code",
   "execution_count": 64,
   "id": "a6f99d98",
   "metadata": {},
   "outputs": [
    {
     "data": {
      "text/plain": [
       "'WE ARE LEARNING, PYTHON! AND IT, REQUIRES! PRACTICE'"
      ]
     },
     "execution_count": 64,
     "metadata": {},
     "output_type": "execute_result"
    }
   ],
   "source": [
    "s.upper()"
   ]
  },
  {
   "cell_type": "code",
   "execution_count": 65,
   "id": "a3a0b920",
   "metadata": {},
   "outputs": [
    {
     "data": {
      "text/plain": [
       "'we are learning, python! and it, requires! practice'"
      ]
     },
     "execution_count": 65,
     "metadata": {},
     "output_type": "execute_result"
    }
   ],
   "source": [
    "s.lower()"
   ]
  },
  {
   "cell_type": "code",
   "execution_count": 66,
   "id": "4fded65e",
   "metadata": {},
   "outputs": [
    {
     "data": {
      "text/plain": [
       "'We Are Learning, Python! And It, Requires! Practice'"
      ]
     },
     "execution_count": 66,
     "metadata": {},
     "output_type": "execute_result"
    }
   ],
   "source": [
    "s.title()"
   ]
  },
  {
   "cell_type": "code",
   "execution_count": 67,
   "id": "e2728e93",
   "metadata": {},
   "outputs": [
    {
     "data": {
      "text/plain": [
       "'We are learning, python! and it, requires! practice'"
      ]
     },
     "execution_count": 67,
     "metadata": {},
     "output_type": "execute_result"
    }
   ],
   "source": [
    "s.capitalize()"
   ]
  },
  {
   "cell_type": "code",
   "execution_count": 68,
   "id": "9214677e",
   "metadata": {},
   "outputs": [
    {
     "data": {
      "text/plain": [
       "['we', 'are', 'learning,', 'Python!', 'and', 'it,', 'requires!', 'practice']"
      ]
     },
     "execution_count": 68,
     "metadata": {},
     "output_type": "execute_result"
    }
   ],
   "source": [
    "s.split()"
   ]
  },
  {
   "cell_type": "code",
   "execution_count": 69,
   "id": "d7953038",
   "metadata": {},
   "outputs": [
    {
     "data": {
      "text/plain": [
       "'Python!'"
      ]
     },
     "execution_count": 69,
     "metadata": {},
     "output_type": "execute_result"
    }
   ],
   "source": [
    "s.split()[3]"
   ]
  },
  {
   "cell_type": "code",
   "execution_count": 70,
   "id": "f58b049c",
   "metadata": {},
   "outputs": [
    {
     "data": {
      "text/plain": [
       "'we are learning, Python! and it, requires! practice'"
      ]
     },
     "execution_count": 70,
     "metadata": {},
     "output_type": "execute_result"
    }
   ],
   "source": [
    "s"
   ]
  },
  {
   "cell_type": "code",
   "execution_count": 71,
   "id": "2f09902a",
   "metadata": {},
   "outputs": [
    {
     "data": {
      "text/plain": [
       "['we are learning', ' Python! and it', ' requires! practice']"
      ]
     },
     "execution_count": 71,
     "metadata": {},
     "output_type": "execute_result"
    }
   ],
   "source": [
    "s.split(',')"
   ]
  },
  {
   "cell_type": "code",
   "execution_count": 72,
   "id": "342e0506",
   "metadata": {},
   "outputs": [
    {
     "data": {
      "text/plain": [
       "['we are learning, Python', ' and it, requires', ' practice']"
      ]
     },
     "execution_count": 72,
     "metadata": {},
     "output_type": "execute_result"
    }
   ],
   "source": [
    "s.split('!')"
   ]
  },
  {
   "cell_type": "code",
   "execution_count": 73,
   "id": "0d205089",
   "metadata": {},
   "outputs": [
    {
     "data": {
      "text/plain": [
       "'we are learning, Python! and it, requires! practice'"
      ]
     },
     "execution_count": 73,
     "metadata": {},
     "output_type": "execute_result"
    }
   ],
   "source": [
    "s"
   ]
  },
  {
   "cell_type": "code",
   "execution_count": 74,
   "id": "b308546f",
   "metadata": {},
   "outputs": [
    {
     "data": {
      "text/plain": [
       "['we are learning, ', 'ython! and it, requires! practice']"
      ]
     },
     "execution_count": 74,
     "metadata": {},
     "output_type": "execute_result"
    }
   ],
   "source": [
    "s.split('P')"
   ]
  },
  {
   "cell_type": "code",
   "execution_count": 75,
   "id": "00c09f5d",
   "metadata": {},
   "outputs": [
    {
     "data": {
      "text/plain": [
       "['', '']"
      ]
     },
     "execution_count": 75,
     "metadata": {},
     "output_type": "execute_result"
    }
   ],
   "source": [
    "s.split('we are learning, Python! and it, requires! practice')"
   ]
  },
  {
   "cell_type": "code",
   "execution_count": 76,
   "id": "27d12b7d",
   "metadata": {},
   "outputs": [],
   "source": [
    "data=[(1,2),(3,4),(5,6)]"
   ]
  },
  {
   "cell_type": "code",
   "execution_count": 77,
   "id": "42e332c8",
   "metadata": {},
   "outputs": [
    {
     "data": {
      "text/plain": [
       "[(1, 2), (3, 4), (5, 6)]"
      ]
     },
     "execution_count": 77,
     "metadata": {},
     "output_type": "execute_result"
    }
   ],
   "source": [
    "data"
   ]
  },
  {
   "cell_type": "code",
   "execution_count": 78,
   "id": "2efaa487",
   "metadata": {},
   "outputs": [
    {
     "data": {
      "text/plain": [
       "(1, 2)"
      ]
     },
     "execution_count": 78,
     "metadata": {},
     "output_type": "execute_result"
    }
   ],
   "source": [
    "data[0]"
   ]
  },
  {
   "cell_type": "code",
   "execution_count": 79,
   "id": "1c74ead0",
   "metadata": {},
   "outputs": [
    {
     "data": {
      "text/plain": [
       "1"
      ]
     },
     "execution_count": 79,
     "metadata": {},
     "output_type": "execute_result"
    }
   ],
   "source": [
    "data[0][0]"
   ]
  },
  {
   "cell_type": "code",
   "execution_count": 80,
   "id": "d7fd5781",
   "metadata": {},
   "outputs": [
    {
     "data": {
      "text/plain": [
       "2"
      ]
     },
     "execution_count": 80,
     "metadata": {},
     "output_type": "execute_result"
    }
   ],
   "source": [
    "data[0][1]"
   ]
  },
  {
   "cell_type": "code",
   "execution_count": 81,
   "id": "0eb09b8a",
   "metadata": {},
   "outputs": [
    {
     "data": {
      "text/plain": [
       "[(1, 2), (3, 4), (5, 6)]"
      ]
     },
     "execution_count": 81,
     "metadata": {},
     "output_type": "execute_result"
    }
   ],
   "source": [
    "data"
   ]
  },
  {
   "cell_type": "code",
   "execution_count": 83,
   "id": "72ffaddc",
   "metadata": {},
   "outputs": [
    {
     "data": {
      "text/plain": [
       "5"
      ]
     },
     "execution_count": 83,
     "metadata": {},
     "output_type": "execute_result"
    }
   ],
   "source": [
    "data[2][0]"
   ]
  },
  {
   "cell_type": "code",
   "execution_count": 84,
   "id": "85d42443",
   "metadata": {},
   "outputs": [
    {
     "name": "stdout",
     "output_type": "stream",
     "text": [
      "(1, 2)\n",
      "(3, 4)\n",
      "(5, 6)\n"
     ]
    }
   ],
   "source": [
    "for v in data:\n",
    "    print(v)"
   ]
  },
  {
   "cell_type": "code",
   "execution_count": 85,
   "id": "2e11f3c4",
   "metadata": {},
   "outputs": [
    {
     "data": {
      "text/plain": [
       "[(1, 2), (3, 4), (5, 6)]"
      ]
     },
     "execution_count": 85,
     "metadata": {},
     "output_type": "execute_result"
    }
   ],
   "source": [
    "data"
   ]
  },
  {
   "cell_type": "code",
   "execution_count": 86,
   "id": "7bafeed9",
   "metadata": {},
   "outputs": [
    {
     "name": "stdout",
     "output_type": "stream",
     "text": [
      "1\n",
      "3\n",
      "5\n"
     ]
    }
   ],
   "source": [
    "for v in data:\n",
    "    print(v[0])"
   ]
  },
  {
   "cell_type": "code",
   "execution_count": 87,
   "id": "0d4147d0",
   "metadata": {},
   "outputs": [
    {
     "name": "stdout",
     "output_type": "stream",
     "text": [
      "2\n",
      "4\n",
      "6\n"
     ]
    }
   ],
   "source": [
    "for v in data:\n",
    "    print(v[1])"
   ]
  },
  {
   "cell_type": "code",
   "execution_count": 88,
   "id": "386bece6",
   "metadata": {},
   "outputs": [
    {
     "name": "stdout",
     "output_type": "stream",
     "text": [
      "1\n",
      "2\n",
      "3\n",
      "4\n",
      "5\n",
      "6\n"
     ]
    }
   ],
   "source": [
    "for v in data:\n",
    "    print(v[0])\n",
    "    print(v[1])"
   ]
  },
  {
   "cell_type": "code",
   "execution_count": 89,
   "id": "e6f8a776",
   "metadata": {},
   "outputs": [
    {
     "name": "stdout",
     "output_type": "stream",
     "text": [
      "1\n",
      "3\n",
      "5\n"
     ]
    }
   ],
   "source": [
    "for a,b in data:\n",
    "    print(a)"
   ]
  },
  {
   "cell_type": "code",
   "execution_count": 90,
   "id": "1bfe5b36",
   "metadata": {},
   "outputs": [
    {
     "name": "stdout",
     "output_type": "stream",
     "text": [
      "2\n",
      "4\n",
      "6\n"
     ]
    }
   ],
   "source": [
    "for a,b in data:\n",
    "    print(b)"
   ]
  },
  {
   "cell_type": "code",
   "execution_count": 91,
   "id": "6acfd769",
   "metadata": {},
   "outputs": [
    {
     "name": "stdout",
     "output_type": "stream",
     "text": [
      "1\n",
      "2\n",
      "3\n",
      "4\n",
      "5\n",
      "6\n"
     ]
    }
   ],
   "source": [
    "for a,b in data:\n",
    "    print(a)\n",
    "    print(b)"
   ]
  },
  {
   "cell_type": "code",
   "execution_count": 92,
   "id": "c87d082e",
   "metadata": {},
   "outputs": [
    {
     "data": {
      "text/plain": [
       "[(1, 2), (3, 4), (5, 6)]"
      ]
     },
     "execution_count": 92,
     "metadata": {},
     "output_type": "execute_result"
    }
   ],
   "source": [
    "data"
   ]
  },
  {
   "cell_type": "code",
   "execution_count": 93,
   "id": "0d8d8e9a",
   "metadata": {},
   "outputs": [
    {
     "name": "stdout",
     "output_type": "stream",
     "text": [
      "Enter the Number: 45\n"
     ]
    }
   ],
   "source": [
    "n1=input(\"Enter the Number: \")"
   ]
  },
  {
   "cell_type": "code",
   "execution_count": 94,
   "id": "895f536a",
   "metadata": {},
   "outputs": [
    {
     "data": {
      "text/plain": [
       "'45'"
      ]
     },
     "execution_count": 94,
     "metadata": {},
     "output_type": "execute_result"
    }
   ],
   "source": [
    "n1"
   ]
  },
  {
   "cell_type": "code",
   "execution_count": 95,
   "id": "bbce1a18",
   "metadata": {},
   "outputs": [
    {
     "data": {
      "text/plain": [
       "str"
      ]
     },
     "execution_count": 95,
     "metadata": {},
     "output_type": "execute_result"
    }
   ],
   "source": [
    "type(n1)"
   ]
  },
  {
   "cell_type": "code",
   "execution_count": 96,
   "id": "eff04c11",
   "metadata": {},
   "outputs": [],
   "source": [
    "n=5467"
   ]
  },
  {
   "cell_type": "code",
   "execution_count": 97,
   "id": "961b8f64",
   "metadata": {},
   "outputs": [
    {
     "data": {
      "text/plain": [
       "5467"
      ]
     },
     "execution_count": 97,
     "metadata": {},
     "output_type": "execute_result"
    }
   ],
   "source": [
    "n"
   ]
  },
  {
   "cell_type": "code",
   "execution_count": 98,
   "id": "336f904c",
   "metadata": {},
   "outputs": [],
   "source": [
    "name='sachin'"
   ]
  },
  {
   "cell_type": "code",
   "execution_count": 99,
   "id": "c2b64746",
   "metadata": {},
   "outputs": [
    {
     "data": {
      "text/plain": [
       "'nihcas'"
      ]
     },
     "execution_count": 99,
     "metadata": {},
     "output_type": "execute_result"
    }
   ],
   "source": [
    "name[::-1]"
   ]
  },
  {
   "cell_type": "code",
   "execution_count": 100,
   "id": "8a49562a",
   "metadata": {},
   "outputs": [
    {
     "data": {
      "text/plain": [
       "5467"
      ]
     },
     "execution_count": 100,
     "metadata": {},
     "output_type": "execute_result"
    }
   ],
   "source": [
    "n"
   ]
  },
  {
   "cell_type": "code",
   "execution_count": 102,
   "id": "a1ed436b",
   "metadata": {},
   "outputs": [
    {
     "data": {
      "text/plain": [
       "7645"
      ]
     },
     "execution_count": 102,
     "metadata": {},
     "output_type": "execute_result"
    }
   ],
   "source": [
    "int(str(n)[::-1])"
   ]
  },
  {
   "cell_type": "code",
   "execution_count": 103,
   "id": "82b1e883",
   "metadata": {},
   "outputs": [],
   "source": [
    "a='rohit'\n",
    "b=78"
   ]
  },
  {
   "cell_type": "code",
   "execution_count": 104,
   "id": "a6f68925",
   "metadata": {},
   "outputs": [
    {
     "data": {
      "text/plain": [
       "'my name is rohit and my number is 78'"
      ]
     },
     "execution_count": 104,
     "metadata": {},
     "output_type": "execute_result"
    }
   ],
   "source": [
    "'my name is {} and my number is {}'.format(a,b)"
   ]
  },
  {
   "cell_type": "code",
   "execution_count": 105,
   "id": "69bce338",
   "metadata": {},
   "outputs": [
    {
     "data": {
      "text/plain": [
       "'my name is 78 and my number is rohit'"
      ]
     },
     "execution_count": 105,
     "metadata": {},
     "output_type": "execute_result"
    }
   ],
   "source": [
    "'my name is {} and my number is {}'.format(b,a)"
   ]
  },
  {
   "cell_type": "code",
   "execution_count": 106,
   "id": "d4df39bf",
   "metadata": {},
   "outputs": [
    {
     "data": {
      "text/plain": [
       "'my name is rohit and my number is 78 rohit rohit'"
      ]
     },
     "execution_count": 106,
     "metadata": {},
     "output_type": "execute_result"
    }
   ],
   "source": [
    "'my name is {} and my number is {} {} {}'.format(a,b,a,a)"
   ]
  },
  {
   "cell_type": "code",
   "execution_count": 107,
   "id": "ea074137",
   "metadata": {},
   "outputs": [
    {
     "data": {
      "text/plain": [
       "'my name is rohit and my number is 78 rohit rohit rohit'"
      ]
     },
     "execution_count": 107,
     "metadata": {},
     "output_type": "execute_result"
    }
   ],
   "source": [
    "'my name is {one} and my number is {two} {one} {one} {one}'.format(one=a,two=b)"
   ]
  },
  {
   "cell_type": "markdown",
   "id": "b5518d3c",
   "metadata": {},
   "source": [
    "## Revision Session4"
   ]
  },
  {
   "cell_type": "code",
   "execution_count": 1,
   "id": "4c7f2ab6",
   "metadata": {},
   "outputs": [
    {
     "name": "stdout",
     "output_type": "stream",
     "text": [
      "Enter the number:56\n"
     ]
    }
   ],
   "source": [
    "num1=input(\"Enter the number:\")"
   ]
  },
  {
   "cell_type": "code",
   "execution_count": 2,
   "id": "82a21a04",
   "metadata": {},
   "outputs": [
    {
     "data": {
      "text/plain": [
       "str"
      ]
     },
     "execution_count": 2,
     "metadata": {},
     "output_type": "execute_result"
    }
   ],
   "source": [
    "type(num1)"
   ]
  },
  {
   "cell_type": "code",
   "execution_count": 3,
   "id": "dadbe6f0",
   "metadata": {},
   "outputs": [
    {
     "data": {
      "text/plain": [
       "'56'"
      ]
     },
     "execution_count": 3,
     "metadata": {},
     "output_type": "execute_result"
    }
   ],
   "source": [
    "num1"
   ]
  },
  {
   "cell_type": "code",
   "execution_count": 4,
   "id": "ab6c663e",
   "metadata": {},
   "outputs": [
    {
     "data": {
      "text/plain": [
       "'6778'"
      ]
     },
     "execution_count": 4,
     "metadata": {},
     "output_type": "execute_result"
    }
   ],
   "source": [
    "'67'+'78'"
   ]
  },
  {
   "cell_type": "code",
   "execution_count": 12,
   "id": "81d300a8",
   "metadata": {},
   "outputs": [
    {
     "data": {
      "text/plain": [
       "'olleh'"
      ]
     },
     "execution_count": 12,
     "metadata": {},
     "output_type": "execute_result"
    }
   ],
   "source": [
    "'hello'[::-1]"
   ]
  },
  {
   "cell_type": "code",
   "execution_count": 13,
   "id": "4d443b12",
   "metadata": {},
   "outputs": [
    {
     "data": {
      "text/plain": [
       "'987'"
      ]
     },
     "execution_count": 13,
     "metadata": {},
     "output_type": "execute_result"
    }
   ],
   "source": [
    "'789'[::-1]"
   ]
  },
  {
   "cell_type": "code",
   "execution_count": 14,
   "id": "3a2d9043",
   "metadata": {},
   "outputs": [
    {
     "name": "stderr",
     "output_type": "stream",
     "text": [
      "<>:1: SyntaxWarning: 'int' object is not subscriptable; perhaps you missed a comma?\n",
      "<>:1: SyntaxWarning: 'int' object is not subscriptable; perhaps you missed a comma?\n",
      "C:\\Users\\Admin\\AppData\\Local\\Temp/ipykernel_8644/2188738136.py:1: SyntaxWarning: 'int' object is not subscriptable; perhaps you missed a comma?\n",
      "  789[::-1]\n"
     ]
    },
    {
     "ename": "TypeError",
     "evalue": "'int' object is not subscriptable",
     "output_type": "error",
     "traceback": [
      "\u001b[1;31m---------------------------------------------------------------------------\u001b[0m",
      "\u001b[1;31mTypeError\u001b[0m                                 Traceback (most recent call last)",
      "\u001b[1;32m~\\AppData\\Local\\Temp/ipykernel_8644/2188738136.py\u001b[0m in \u001b[0;36m<module>\u001b[1;34m\u001b[0m\n\u001b[1;32m----> 1\u001b[1;33m \u001b[1;36m789\u001b[0m\u001b[1;33m[\u001b[0m\u001b[1;33m:\u001b[0m\u001b[1;33m:\u001b[0m\u001b[1;33m-\u001b[0m\u001b[1;36m1\u001b[0m\u001b[1;33m]\u001b[0m\u001b[1;33m\u001b[0m\u001b[1;33m\u001b[0m\u001b[0m\n\u001b[0m",
      "\u001b[1;31mTypeError\u001b[0m: 'int' object is not subscriptable"
     ]
    }
   ],
   "source": [
    "789[::-1]"
   ]
  },
  {
   "cell_type": "code",
   "execution_count": null,
   "id": "f22128ef",
   "metadata": {},
   "outputs": [],
   "source": []
  },
  {
   "cell_type": "code",
   "execution_count": 15,
   "id": "f21af4cf",
   "metadata": {},
   "outputs": [
    {
     "name": "stdout",
     "output_type": "stream",
     "text": [
      "Enter the number:78\n"
     ]
    }
   ],
   "source": [
    "num1=input(\"Enter the number:\")\n",
    "num2=int(num1[::-1])\n",
    "num3=int(num1)+num2"
   ]
  },
  {
   "cell_type": "code",
   "execution_count": 16,
   "id": "4855af5a",
   "metadata": {},
   "outputs": [
    {
     "data": {
      "text/plain": [
       "'78'"
      ]
     },
     "execution_count": 16,
     "metadata": {},
     "output_type": "execute_result"
    }
   ],
   "source": [
    "num1"
   ]
  },
  {
   "cell_type": "code",
   "execution_count": 17,
   "id": "3ec987fd",
   "metadata": {},
   "outputs": [
    {
     "data": {
      "text/plain": [
       "87"
      ]
     },
     "execution_count": 17,
     "metadata": {},
     "output_type": "execute_result"
    }
   ],
   "source": [
    "num2"
   ]
  },
  {
   "cell_type": "code",
   "execution_count": 18,
   "id": "fe093826",
   "metadata": {},
   "outputs": [
    {
     "data": {
      "text/plain": [
       "165"
      ]
     },
     "execution_count": 18,
     "metadata": {},
     "output_type": "execute_result"
    }
   ],
   "source": [
    "num3"
   ]
  },
  {
   "cell_type": "markdown",
   "id": "411d0d45",
   "metadata": {},
   "source": [
    "### numpy package"
   ]
  },
  {
   "cell_type": "code",
   "execution_count": 19,
   "id": "2e472dc2",
   "metadata": {},
   "outputs": [
    {
     "name": "stdout",
     "output_type": "stream",
     "text": [
      "Requirement already satisfied: numpy in c:\\users\\admin\\anaconda3\\lib\\site-packages (1.19.5)\n"
     ]
    },
    {
     "name": "stderr",
     "output_type": "stream",
     "text": [
      "WARNING: There was an error checking the latest version of pip.\n"
     ]
    }
   ],
   "source": [
    "!pip install numpy"
   ]
  },
  {
   "cell_type": "code",
   "execution_count": 20,
   "id": "363fe7d2",
   "metadata": {},
   "outputs": [],
   "source": [
    "import numpy"
   ]
  },
  {
   "cell_type": "code",
   "execution_count": 21,
   "id": "ced9017a",
   "metadata": {},
   "outputs": [],
   "source": [
    "import numpy as np"
   ]
  },
  {
   "cell_type": "code",
   "execution_count": 22,
   "id": "a15f5693",
   "metadata": {},
   "outputs": [],
   "source": [
    "## Numpy arrays"
   ]
  },
  {
   "cell_type": "code",
   "execution_count": 23,
   "id": "6ef2e9e5",
   "metadata": {},
   "outputs": [],
   "source": [
    "my_list1=[5,6,7,8,9]"
   ]
  },
  {
   "cell_type": "code",
   "execution_count": 24,
   "id": "47864cba",
   "metadata": {},
   "outputs": [
    {
     "data": {
      "text/plain": [
       "[5, 6, 7, 8, 9]"
      ]
     },
     "execution_count": 24,
     "metadata": {},
     "output_type": "execute_result"
    }
   ],
   "source": [
    "my_list1"
   ]
  },
  {
   "cell_type": "code",
   "execution_count": 25,
   "id": "d7d048c0",
   "metadata": {},
   "outputs": [
    {
     "data": {
      "text/plain": [
       "list"
      ]
     },
     "execution_count": 25,
     "metadata": {},
     "output_type": "execute_result"
    }
   ],
   "source": [
    "type(my_list1)"
   ]
  },
  {
   "cell_type": "code",
   "execution_count": 26,
   "id": "76d45ac9",
   "metadata": {},
   "outputs": [],
   "source": [
    "arr1=np.array(my_list1)"
   ]
  },
  {
   "cell_type": "code",
   "execution_count": 27,
   "id": "ca09c8e4",
   "metadata": {},
   "outputs": [
    {
     "data": {
      "text/plain": [
       "array([5, 6, 7, 8, 9])"
      ]
     },
     "execution_count": 27,
     "metadata": {},
     "output_type": "execute_result"
    }
   ],
   "source": [
    "arr1"
   ]
  },
  {
   "cell_type": "code",
   "execution_count": 28,
   "id": "4f23cbed",
   "metadata": {},
   "outputs": [],
   "source": [
    "my_list2=[[10,20,30],[45,67,89],[1,2,3]]"
   ]
  },
  {
   "cell_type": "code",
   "execution_count": 29,
   "id": "6fa741bb",
   "metadata": {},
   "outputs": [
    {
     "data": {
      "text/plain": [
       "[[10, 20, 30], [45, 67, 89], [1, 2, 3]]"
      ]
     },
     "execution_count": 29,
     "metadata": {},
     "output_type": "execute_result"
    }
   ],
   "source": [
    "my_list2"
   ]
  },
  {
   "cell_type": "code",
   "execution_count": 30,
   "id": "cf14766c",
   "metadata": {},
   "outputs": [
    {
     "data": {
      "text/plain": [
       "list"
      ]
     },
     "execution_count": 30,
     "metadata": {},
     "output_type": "execute_result"
    }
   ],
   "source": [
    "type(my_list2)"
   ]
  },
  {
   "cell_type": "code",
   "execution_count": 32,
   "id": "b6443869",
   "metadata": {},
   "outputs": [],
   "source": [
    "arr2=np.array(my_list2)"
   ]
  },
  {
   "cell_type": "code",
   "execution_count": 33,
   "id": "da8d8907",
   "metadata": {},
   "outputs": [
    {
     "data": {
      "text/plain": [
       "array([[10, 20, 30],\n",
       "       [45, 67, 89],\n",
       "       [ 1,  2,  3]])"
      ]
     },
     "execution_count": 33,
     "metadata": {},
     "output_type": "execute_result"
    }
   ],
   "source": [
    "arr2"
   ]
  },
  {
   "cell_type": "code",
   "execution_count": 34,
   "id": "00b5a1aa",
   "metadata": {},
   "outputs": [
    {
     "data": {
      "text/plain": [
       "numpy.ndarray"
      ]
     },
     "execution_count": 34,
     "metadata": {},
     "output_type": "execute_result"
    }
   ],
   "source": [
    "type(arr2)"
   ]
  },
  {
   "cell_type": "code",
   "execution_count": 35,
   "id": "42bfcb8d",
   "metadata": {},
   "outputs": [
    {
     "data": {
      "text/plain": [
       "numpy.ndarray"
      ]
     },
     "execution_count": 35,
     "metadata": {},
     "output_type": "execute_result"
    }
   ],
   "source": [
    "type(arr1)"
   ]
  },
  {
   "cell_type": "code",
   "execution_count": 36,
   "id": "64bb8fa0",
   "metadata": {},
   "outputs": [],
   "source": [
    "### built in methods in numpy"
   ]
  },
  {
   "cell_type": "code",
   "execution_count": 37,
   "id": "0a6097dc",
   "metadata": {},
   "outputs": [
    {
     "data": {
      "text/plain": [
       "[5, 7, 9, 11, 13, 15, 17, 19]"
      ]
     },
     "execution_count": 37,
     "metadata": {},
     "output_type": "execute_result"
    }
   ],
   "source": [
    "list(range(5,20,2))"
   ]
  },
  {
   "cell_type": "code",
   "execution_count": 38,
   "id": "1f66834f",
   "metadata": {},
   "outputs": [
    {
     "data": {
      "text/plain": [
       "array([ 5,  7,  9, 11, 13, 15, 17, 19])"
      ]
     },
     "execution_count": 38,
     "metadata": {},
     "output_type": "execute_result"
    }
   ],
   "source": [
    "np.arange(5,20,2)"
   ]
  },
  {
   "cell_type": "code",
   "execution_count": 40,
   "id": "68136a96",
   "metadata": {},
   "outputs": [
    {
     "data": {
      "text/plain": [
       "array([0, 0, 0, 0, 0])"
      ]
     },
     "execution_count": 40,
     "metadata": {},
     "output_type": "execute_result"
    }
   ],
   "source": [
    "np.zeros(5,dtype=int)"
   ]
  },
  {
   "cell_type": "code",
   "execution_count": 41,
   "id": "ad8f9572",
   "metadata": {},
   "outputs": [
    {
     "data": {
      "text/plain": [
       "array([0., 0., 0., 0., 0., 0., 0., 0., 0., 0.])"
      ]
     },
     "execution_count": 41,
     "metadata": {},
     "output_type": "execute_result"
    }
   ],
   "source": [
    "np.zeros(10)"
   ]
  },
  {
   "cell_type": "code",
   "execution_count": 42,
   "id": "84629a47",
   "metadata": {},
   "outputs": [
    {
     "data": {
      "text/plain": [
       "array([[0., 0., 0., 0., 0.],\n",
       "       [0., 0., 0., 0., 0.],\n",
       "       [0., 0., 0., 0., 0.],\n",
       "       [0., 0., 0., 0., 0.],\n",
       "       [0., 0., 0., 0., 0.]])"
      ]
     },
     "execution_count": 42,
     "metadata": {},
     "output_type": "execute_result"
    }
   ],
   "source": [
    "np.zeros((5,5))"
   ]
  },
  {
   "cell_type": "code",
   "execution_count": 43,
   "id": "fdd268f7",
   "metadata": {},
   "outputs": [
    {
     "data": {
      "text/plain": [
       "array([1., 1., 1., 1., 1., 1., 1., 1., 1., 1.])"
      ]
     },
     "execution_count": 43,
     "metadata": {},
     "output_type": "execute_result"
    }
   ],
   "source": [
    "np.ones(10)"
   ]
  },
  {
   "cell_type": "code",
   "execution_count": 44,
   "id": "712fab7a",
   "metadata": {},
   "outputs": [
    {
     "data": {
      "text/plain": [
       "array([[1., 1., 1., 1., 1.],\n",
       "       [1., 1., 1., 1., 1.],\n",
       "       [1., 1., 1., 1., 1.],\n",
       "       [1., 1., 1., 1., 1.]])"
      ]
     },
     "execution_count": 44,
     "metadata": {},
     "output_type": "execute_result"
    }
   ],
   "source": [
    "np.ones((4,5))"
   ]
  },
  {
   "cell_type": "code",
   "execution_count": 45,
   "id": "25f9ee1f",
   "metadata": {},
   "outputs": [
    {
     "data": {
      "text/plain": [
       "array([5., 5., 5., 5., 5., 5., 5., 5., 5., 5.])"
      ]
     },
     "execution_count": 45,
     "metadata": {},
     "output_type": "execute_result"
    }
   ],
   "source": [
    "np.ones(10)*5"
   ]
  },
  {
   "cell_type": "code",
   "execution_count": 46,
   "id": "215c2904",
   "metadata": {},
   "outputs": [
    {
     "data": {
      "text/plain": [
       "array([5., 5., 5., 5., 5., 5., 5., 5., 5., 5.])"
      ]
     },
     "execution_count": 46,
     "metadata": {},
     "output_type": "execute_result"
    }
   ],
   "source": [
    "np.zeros(10)+5"
   ]
  },
  {
   "cell_type": "code",
   "execution_count": 47,
   "id": "e4aa2865",
   "metadata": {},
   "outputs": [
    {
     "data": {
      "text/plain": [
       "array([89., 89., 89., 89., 89., 89., 89., 89., 89., 89.])"
      ]
     },
     "execution_count": 47,
     "metadata": {},
     "output_type": "execute_result"
    }
   ],
   "source": [
    "np.zeros(10)+89"
   ]
  },
  {
   "cell_type": "code",
   "execution_count": 49,
   "id": "b60bc5f7",
   "metadata": {},
   "outputs": [
    {
     "data": {
      "text/plain": [
       "array([88., 88., 88., 88., 88., 88., 88., 88., 88., 88.])"
      ]
     },
     "execution_count": 49,
     "metadata": {},
     "output_type": "execute_result"
    }
   ],
   "source": [
    "np.ones(10)*88"
   ]
  },
  {
   "cell_type": "code",
   "execution_count": 50,
   "id": "af20026b",
   "metadata": {},
   "outputs": [
    {
     "data": {
      "text/plain": [
       "array([[1., 1., 1., 1., 1.],\n",
       "       [1., 1., 1., 1., 1.],\n",
       "       [1., 1., 1., 1., 1.],\n",
       "       [1., 1., 1., 1., 1.],\n",
       "       [1., 1., 1., 1., 1.]])"
      ]
     },
     "execution_count": 50,
     "metadata": {},
     "output_type": "execute_result"
    }
   ],
   "source": [
    "np.ones((5,5))"
   ]
  },
  {
   "cell_type": "code",
   "execution_count": 51,
   "id": "fc13a134",
   "metadata": {},
   "outputs": [
    {
     "data": {
      "text/plain": [
       "array([ 0.,  5., 10.])"
      ]
     },
     "execution_count": 51,
     "metadata": {},
     "output_type": "execute_result"
    }
   ],
   "source": [
    "np.linspace(0,10,3)"
   ]
  },
  {
   "cell_type": "code",
   "execution_count": 52,
   "id": "3eadfd2e",
   "metadata": {},
   "outputs": [
    {
     "data": {
      "text/plain": [
       "array([ 0. ,  2.5,  5. ,  7.5, 10. ])"
      ]
     },
     "execution_count": 52,
     "metadata": {},
     "output_type": "execute_result"
    }
   ],
   "source": [
    "np.linspace(0,10,5)"
   ]
  },
  {
   "cell_type": "code",
   "execution_count": 54,
   "id": "1de47e99",
   "metadata": {},
   "outputs": [
    {
     "data": {
      "text/plain": [
       "array([10.        , 10.4040404 , 10.80808081, 11.21212121, 11.61616162,\n",
       "       12.02020202, 12.42424242, 12.82828283, 13.23232323, 13.63636364,\n",
       "       14.04040404, 14.44444444, 14.84848485, 15.25252525, 15.65656566,\n",
       "       16.06060606, 16.46464646, 16.86868687, 17.27272727, 17.67676768,\n",
       "       18.08080808, 18.48484848, 18.88888889, 19.29292929, 19.6969697 ,\n",
       "       20.1010101 , 20.50505051, 20.90909091, 21.31313131, 21.71717172,\n",
       "       22.12121212, 22.52525253, 22.92929293, 23.33333333, 23.73737374,\n",
       "       24.14141414, 24.54545455, 24.94949495, 25.35353535, 25.75757576,\n",
       "       26.16161616, 26.56565657, 26.96969697, 27.37373737, 27.77777778,\n",
       "       28.18181818, 28.58585859, 28.98989899, 29.39393939, 29.7979798 ,\n",
       "       30.2020202 , 30.60606061, 31.01010101, 31.41414141, 31.81818182,\n",
       "       32.22222222, 32.62626263, 33.03030303, 33.43434343, 33.83838384,\n",
       "       34.24242424, 34.64646465, 35.05050505, 35.45454545, 35.85858586,\n",
       "       36.26262626, 36.66666667, 37.07070707, 37.47474747, 37.87878788,\n",
       "       38.28282828, 38.68686869, 39.09090909, 39.49494949, 39.8989899 ,\n",
       "       40.3030303 , 40.70707071, 41.11111111, 41.51515152, 41.91919192,\n",
       "       42.32323232, 42.72727273, 43.13131313, 43.53535354, 43.93939394,\n",
       "       44.34343434, 44.74747475, 45.15151515, 45.55555556, 45.95959596,\n",
       "       46.36363636, 46.76767677, 47.17171717, 47.57575758, 47.97979798,\n",
       "       48.38383838, 48.78787879, 49.19191919, 49.5959596 , 50.        ])"
      ]
     },
     "execution_count": 54,
     "metadata": {},
     "output_type": "execute_result"
    }
   ],
   "source": [
    "np.linspace(10,50,100)"
   ]
  },
  {
   "cell_type": "code",
   "execution_count": 56,
   "id": "7ba21572",
   "metadata": {},
   "outputs": [
    {
     "data": {
      "text/plain": [
       "array([[1., 0., 0., 0., 0., 0., 0., 0., 0., 0.],\n",
       "       [0., 1., 0., 0., 0., 0., 0., 0., 0., 0.],\n",
       "       [0., 0., 1., 0., 0., 0., 0., 0., 0., 0.],\n",
       "       [0., 0., 0., 1., 0., 0., 0., 0., 0., 0.],\n",
       "       [0., 0., 0., 0., 1., 0., 0., 0., 0., 0.],\n",
       "       [0., 0., 0., 0., 0., 1., 0., 0., 0., 0.],\n",
       "       [0., 0., 0., 0., 0., 0., 1., 0., 0., 0.],\n",
       "       [0., 0., 0., 0., 0., 0., 0., 1., 0., 0.],\n",
       "       [0., 0., 0., 0., 0., 0., 0., 0., 1., 0.],\n",
       "       [0., 0., 0., 0., 0., 0., 0., 0., 0., 1.]])"
      ]
     },
     "execution_count": 56,
     "metadata": {},
     "output_type": "execute_result"
    }
   ],
   "source": [
    "np.eye(10)"
   ]
  },
  {
   "cell_type": "code",
   "execution_count": 57,
   "id": "3e0d2557",
   "metadata": {},
   "outputs": [
    {
     "data": {
      "text/plain": [
       "0.6070726322139607"
      ]
     },
     "execution_count": 57,
     "metadata": {},
     "output_type": "execute_result"
    }
   ],
   "source": [
    "np.random.rand()"
   ]
  },
  {
   "cell_type": "code",
   "execution_count": 58,
   "id": "04cb9d8e",
   "metadata": {},
   "outputs": [
    {
     "data": {
      "text/plain": [
       "0.6851099463689897"
      ]
     },
     "execution_count": 58,
     "metadata": {},
     "output_type": "execute_result"
    }
   ],
   "source": [
    "np.random.rand()"
   ]
  },
  {
   "cell_type": "code",
   "execution_count": 59,
   "id": "c7821020",
   "metadata": {},
   "outputs": [
    {
     "data": {
      "text/plain": [
       "0.018147883199952752"
      ]
     },
     "execution_count": 59,
     "metadata": {},
     "output_type": "execute_result"
    }
   ],
   "source": [
    "np.random.rand()"
   ]
  },
  {
   "cell_type": "code",
   "execution_count": 60,
   "id": "2a4710f5",
   "metadata": {},
   "outputs": [
    {
     "data": {
      "text/plain": [
       "array([0.88786334, 0.96143245, 0.23147106, 0.24763167, 0.23685688,\n",
       "       0.24269361, 0.42694457])"
      ]
     },
     "execution_count": 60,
     "metadata": {},
     "output_type": "execute_result"
    }
   ],
   "source": [
    "np.random.rand(7)"
   ]
  },
  {
   "cell_type": "code",
   "execution_count": 61,
   "id": "240191a6",
   "metadata": {},
   "outputs": [
    {
     "data": {
      "text/plain": [
       "array([0.31031161, 0.87475538, 0.58215343, 0.03214747, 0.25990458,\n",
       "       0.58870112, 0.14587093])"
      ]
     },
     "execution_count": 61,
     "metadata": {},
     "output_type": "execute_result"
    }
   ],
   "source": [
    "np.random.rand(7)"
   ]
  },
  {
   "cell_type": "code",
   "execution_count": 63,
   "id": "77076d50",
   "metadata": {},
   "outputs": [
    {
     "data": {
      "text/plain": [
       "array([0.5719842 , 0.06602395, 0.98503161, 0.60609785, 0.98177692,\n",
       "       0.31433818, 0.80539723, 0.72980741, 0.50369572, 0.5118989 ,\n",
       "       0.92193194, 0.76542165, 0.05309034, 0.40470223, 0.05755787,\n",
       "       0.78890208, 0.05086095, 0.6595452 , 0.67317547, 0.25893617])"
      ]
     },
     "execution_count": 63,
     "metadata": {},
     "output_type": "execute_result"
    }
   ],
   "source": [
    "np.random.rand(20)"
   ]
  },
  {
   "cell_type": "code",
   "execution_count": 64,
   "id": "5abb88e8",
   "metadata": {},
   "outputs": [
    {
     "data": {
      "text/plain": [
       "-0.06332540928769709"
      ]
     },
     "execution_count": 64,
     "metadata": {},
     "output_type": "execute_result"
    }
   ],
   "source": [
    "np.random.randn()"
   ]
  },
  {
   "cell_type": "code",
   "execution_count": 65,
   "id": "e9e59a1d",
   "metadata": {},
   "outputs": [
    {
     "data": {
      "text/plain": [
       "0.3653997311669427"
      ]
     },
     "execution_count": 65,
     "metadata": {},
     "output_type": "execute_result"
    }
   ],
   "source": [
    "np.random.randn()"
   ]
  },
  {
   "cell_type": "code",
   "execution_count": 66,
   "id": "5ea8d419",
   "metadata": {},
   "outputs": [
    {
     "data": {
      "text/plain": [
       "-0.05911380664404305"
      ]
     },
     "execution_count": 66,
     "metadata": {},
     "output_type": "execute_result"
    }
   ],
   "source": [
    "np.random.randn()"
   ]
  },
  {
   "cell_type": "code",
   "execution_count": 67,
   "id": "faffe659",
   "metadata": {},
   "outputs": [
    {
     "data": {
      "text/plain": [
       "array([ 0.96169468,  0.23647198, -1.11563751, -0.10164985, -1.70497775])"
      ]
     },
     "execution_count": 67,
     "metadata": {},
     "output_type": "execute_result"
    }
   ],
   "source": [
    "np.random.randn(5)"
   ]
  },
  {
   "cell_type": "code",
   "execution_count": 68,
   "id": "f06e2ec7",
   "metadata": {},
   "outputs": [
    {
     "data": {
      "text/plain": [
       "array([ 1.12072453,  1.24497643,  1.14826619,  0.85782756,  0.84559216,\n",
       "       -0.01121672,  1.46864646, -1.99045688,  0.99647633, -0.40790464,\n",
       "        0.90648274, -0.64262439])"
      ]
     },
     "execution_count": 68,
     "metadata": {},
     "output_type": "execute_result"
    }
   ],
   "source": [
    "np.random.randn(12)"
   ]
  },
  {
   "cell_type": "code",
   "execution_count": 69,
   "id": "bc0cb65b",
   "metadata": {},
   "outputs": [
    {
     "data": {
      "text/plain": [
       "array([[-0.47595313,  0.30686624, -0.89945234, -0.66924185,  0.09590686],\n",
       "       [ 0.40597438, -0.87021312,  1.55611717, -0.20592925, -0.44044812],\n",
       "       [ 0.18377829, -1.07462559,  0.57694697,  1.31835677, -1.21271628],\n",
       "       [-0.27334815,  0.41408612, -0.02975763, -2.42144296,  0.93573258],\n",
       "       [ 0.0411018 , -1.67425108, -0.19200183,  0.42593169, -0.23061224]])"
      ]
     },
     "execution_count": 69,
     "metadata": {},
     "output_type": "execute_result"
    }
   ],
   "source": [
    "np.random.randn(5,5)"
   ]
  },
  {
   "cell_type": "code",
   "execution_count": 70,
   "id": "627d9c56",
   "metadata": {},
   "outputs": [
    {
     "ename": "TypeError",
     "evalue": "randint() takes at least 1 positional argument (0 given)",
     "output_type": "error",
     "traceback": [
      "\u001b[1;31m---------------------------------------------------------------------------\u001b[0m",
      "\u001b[1;31mTypeError\u001b[0m                                 Traceback (most recent call last)",
      "\u001b[1;32m~\\AppData\\Local\\Temp/ipykernel_8644/437980608.py\u001b[0m in \u001b[0;36m<module>\u001b[1;34m\u001b[0m\n\u001b[1;32m----> 1\u001b[1;33m \u001b[0mnp\u001b[0m\u001b[1;33m.\u001b[0m\u001b[0mrandom\u001b[0m\u001b[1;33m.\u001b[0m\u001b[0mrandint\u001b[0m\u001b[1;33m(\u001b[0m\u001b[1;33m)\u001b[0m\u001b[1;33m\u001b[0m\u001b[1;33m\u001b[0m\u001b[0m\n\u001b[0m",
      "\u001b[1;32mmtrand.pyx\u001b[0m in \u001b[0;36mnumpy.random.mtrand.RandomState.randint\u001b[1;34m()\u001b[0m\n",
      "\u001b[1;31mTypeError\u001b[0m: randint() takes at least 1 positional argument (0 given)"
     ]
    }
   ],
   "source": [
    "np.random.randint()"
   ]
  },
  {
   "cell_type": "code",
   "execution_count": 71,
   "id": "2f1b71fb",
   "metadata": {},
   "outputs": [
    {
     "data": {
      "text/plain": [
       "1"
      ]
     },
     "execution_count": 71,
     "metadata": {},
     "output_type": "execute_result"
    }
   ],
   "source": [
    "np.random.randint(8)"
   ]
  },
  {
   "cell_type": "code",
   "execution_count": 72,
   "id": "65dc2006",
   "metadata": {},
   "outputs": [
    {
     "data": {
      "text/plain": [
       "1"
      ]
     },
     "execution_count": 72,
     "metadata": {},
     "output_type": "execute_result"
    }
   ],
   "source": [
    "np.random.randint(8)"
   ]
  },
  {
   "cell_type": "code",
   "execution_count": 73,
   "id": "3f43cf5d",
   "metadata": {},
   "outputs": [
    {
     "data": {
      "text/plain": [
       "7"
      ]
     },
     "execution_count": 73,
     "metadata": {},
     "output_type": "execute_result"
    }
   ],
   "source": [
    "np.random.randint(8)"
   ]
  },
  {
   "cell_type": "code",
   "execution_count": 74,
   "id": "be6b857f",
   "metadata": {},
   "outputs": [
    {
     "data": {
      "text/plain": [
       "1"
      ]
     },
     "execution_count": 74,
     "metadata": {},
     "output_type": "execute_result"
    }
   ],
   "source": [
    "np.random.randint(8)"
   ]
  },
  {
   "cell_type": "code",
   "execution_count": 75,
   "id": "f1d1128b",
   "metadata": {},
   "outputs": [
    {
     "data": {
      "text/plain": [
       "5"
      ]
     },
     "execution_count": 75,
     "metadata": {},
     "output_type": "execute_result"
    }
   ],
   "source": [
    "np.random.randint(8)"
   ]
  },
  {
   "cell_type": "code",
   "execution_count": 80,
   "id": "47926e14",
   "metadata": {},
   "outputs": [
    {
     "data": {
      "text/plain": [
       "12"
      ]
     },
     "execution_count": 80,
     "metadata": {},
     "output_type": "execute_result"
    }
   ],
   "source": [
    "np.random.randint(5,15)"
   ]
  },
  {
   "cell_type": "code",
   "execution_count": 81,
   "id": "089d0a60",
   "metadata": {},
   "outputs": [
    {
     "data": {
      "text/plain": [
       "array([ 9, 13, 12])"
      ]
     },
     "execution_count": 81,
     "metadata": {},
     "output_type": "execute_result"
    }
   ],
   "source": [
    "np.random.randint(5,15,3)"
   ]
  },
  {
   "cell_type": "code",
   "execution_count": 82,
   "id": "9f24895d",
   "metadata": {},
   "outputs": [
    {
     "data": {
      "text/plain": [
       "array([9, 8, 5])"
      ]
     },
     "execution_count": 82,
     "metadata": {},
     "output_type": "execute_result"
    }
   ],
   "source": [
    "np.random.randint(5,15,3)"
   ]
  },
  {
   "cell_type": "code",
   "execution_count": 83,
   "id": "606cd7cc",
   "metadata": {},
   "outputs": [
    {
     "data": {
      "text/plain": [
       "array([10,  9, 14,  8, 13, 14,  6,  5, 13, 14,  9,  7, 11,  5,  6,  9, 10,\n",
       "        8,  8, 14,  7, 14, 11,  7,  9,  5, 12, 13,  9, 13, 14, 10,  8,  8,\n",
       "        5, 11, 13,  7, 14, 13, 14, 10, 14,  7,  5,  6,  5, 14,  8, 12,  5,\n",
       "       11, 12, 12, 13, 11,  6,  7,  5, 14, 11,  7,  7,  9,  5, 12, 10, 11,\n",
       "        6,  5,  6,  8,  8, 14, 12, 11, 14, 10,  9, 14,  6,  6, 14,  7, 14,\n",
       "        9, 14,  6,  7,  6, 12, 12, 10,  9,  8,  5,  9, 11, 12,  9])"
      ]
     },
     "execution_count": 83,
     "metadata": {},
     "output_type": "execute_result"
    }
   ],
   "source": [
    "np.random.randint(5,15,100)"
   ]
  },
  {
   "cell_type": "code",
   "execution_count": 84,
   "id": "e7aa04ee",
   "metadata": {},
   "outputs": [],
   "source": [
    "arr=np.arange(25)"
   ]
  },
  {
   "cell_type": "code",
   "execution_count": 85,
   "id": "8e33f278",
   "metadata": {},
   "outputs": [
    {
     "data": {
      "text/plain": [
       "array([ 0,  1,  2,  3,  4,  5,  6,  7,  8,  9, 10, 11, 12, 13, 14, 15, 16,\n",
       "       17, 18, 19, 20, 21, 22, 23, 24])"
      ]
     },
     "execution_count": 85,
     "metadata": {},
     "output_type": "execute_result"
    }
   ],
   "source": [
    "arr"
   ]
  },
  {
   "cell_type": "code",
   "execution_count": 86,
   "id": "b5d98ecf",
   "metadata": {},
   "outputs": [
    {
     "data": {
      "text/plain": [
       "(25,)"
      ]
     },
     "execution_count": 86,
     "metadata": {},
     "output_type": "execute_result"
    }
   ],
   "source": [
    "arr.shape"
   ]
  },
  {
   "cell_type": "code",
   "execution_count": 87,
   "id": "724863c7",
   "metadata": {},
   "outputs": [
    {
     "data": {
      "text/plain": [
       "array([[ 0,  1,  2,  3,  4],\n",
       "       [ 5,  6,  7,  8,  9],\n",
       "       [10, 11, 12, 13, 14],\n",
       "       [15, 16, 17, 18, 19],\n",
       "       [20, 21, 22, 23, 24]])"
      ]
     },
     "execution_count": 87,
     "metadata": {},
     "output_type": "execute_result"
    }
   ],
   "source": [
    "arr.reshape(5,5)"
   ]
  },
  {
   "cell_type": "code",
   "execution_count": 88,
   "id": "207a0cb6",
   "metadata": {},
   "outputs": [
    {
     "data": {
      "text/plain": [
       "array([ 0,  1,  2,  3,  4,  5,  6,  7,  8,  9, 10, 11, 12, 13, 14, 15, 16,\n",
       "       17, 18, 19, 20, 21, 22, 23, 24])"
      ]
     },
     "execution_count": 88,
     "metadata": {},
     "output_type": "execute_result"
    }
   ],
   "source": [
    "arr"
   ]
  },
  {
   "cell_type": "code",
   "execution_count": 89,
   "id": "46df96e0",
   "metadata": {},
   "outputs": [],
   "source": [
    "arr_new=arr.reshape(5,5)"
   ]
  },
  {
   "cell_type": "code",
   "execution_count": 90,
   "id": "ae2980aa",
   "metadata": {},
   "outputs": [
    {
     "data": {
      "text/plain": [
       "array([[ 0,  1,  2,  3,  4],\n",
       "       [ 5,  6,  7,  8,  9],\n",
       "       [10, 11, 12, 13, 14],\n",
       "       [15, 16, 17, 18, 19],\n",
       "       [20, 21, 22, 23, 24]])"
      ]
     },
     "execution_count": 90,
     "metadata": {},
     "output_type": "execute_result"
    }
   ],
   "source": [
    "arr_new"
   ]
  },
  {
   "cell_type": "code",
   "execution_count": 91,
   "id": "fe5709e3",
   "metadata": {},
   "outputs": [
    {
     "data": {
      "text/plain": [
       "(5, 5)"
      ]
     },
     "execution_count": 91,
     "metadata": {},
     "output_type": "execute_result"
    }
   ],
   "source": [
    "arr_new.shape"
   ]
  },
  {
   "cell_type": "code",
   "execution_count": 92,
   "id": "33184dda",
   "metadata": {},
   "outputs": [],
   "source": [
    "arr5=np.random.randint(0,50,10)"
   ]
  },
  {
   "cell_type": "code",
   "execution_count": 93,
   "id": "6fc4868c",
   "metadata": {},
   "outputs": [
    {
     "data": {
      "text/plain": [
       "array([22, 25, 47, 27, 49, 25, 34,  1, 41, 46])"
      ]
     },
     "execution_count": 93,
     "metadata": {},
     "output_type": "execute_result"
    }
   ],
   "source": [
    "arr5"
   ]
  },
  {
   "cell_type": "code",
   "execution_count": 94,
   "id": "22f0d18b",
   "metadata": {},
   "outputs": [
    {
     "data": {
      "text/plain": [
       "49"
      ]
     },
     "execution_count": 94,
     "metadata": {},
     "output_type": "execute_result"
    }
   ],
   "source": [
    "arr5.max()"
   ]
  },
  {
   "cell_type": "code",
   "execution_count": 95,
   "id": "b2082c75",
   "metadata": {},
   "outputs": [
    {
     "data": {
      "text/plain": [
       "1"
      ]
     },
     "execution_count": 95,
     "metadata": {},
     "output_type": "execute_result"
    }
   ],
   "source": [
    "arr5.min()"
   ]
  },
  {
   "cell_type": "code",
   "execution_count": 96,
   "id": "1b1d16be",
   "metadata": {},
   "outputs": [
    {
     "data": {
      "text/plain": [
       "49"
      ]
     },
     "execution_count": 96,
     "metadata": {},
     "output_type": "execute_result"
    }
   ],
   "source": [
    "np.max(arr5)"
   ]
  },
  {
   "cell_type": "code",
   "execution_count": 97,
   "id": "43c9bf0f",
   "metadata": {},
   "outputs": [
    {
     "data": {
      "text/plain": [
       "1"
      ]
     },
     "execution_count": 97,
     "metadata": {},
     "output_type": "execute_result"
    }
   ],
   "source": [
    "np.min(arr5)"
   ]
  },
  {
   "cell_type": "code",
   "execution_count": 98,
   "id": "0a3b33d5",
   "metadata": {},
   "outputs": [
    {
     "data": {
      "text/plain": [
       "array([22, 25, 47, 27, 49, 25, 34,  1, 41, 46])"
      ]
     },
     "execution_count": 98,
     "metadata": {},
     "output_type": "execute_result"
    }
   ],
   "source": [
    "arr5"
   ]
  },
  {
   "cell_type": "code",
   "execution_count": 99,
   "id": "c204f1a4",
   "metadata": {},
   "outputs": [
    {
     "data": {
      "text/plain": [
       "4"
      ]
     },
     "execution_count": 99,
     "metadata": {},
     "output_type": "execute_result"
    }
   ],
   "source": [
    "arr5.argmax()"
   ]
  },
  {
   "cell_type": "code",
   "execution_count": 100,
   "id": "90268288",
   "metadata": {},
   "outputs": [
    {
     "data": {
      "text/plain": [
       "7"
      ]
     },
     "execution_count": 100,
     "metadata": {},
     "output_type": "execute_result"
    }
   ],
   "source": [
    "arr5.argmin()"
   ]
  },
  {
   "cell_type": "code",
   "execution_count": 101,
   "id": "c5d9ae0a",
   "metadata": {},
   "outputs": [
    {
     "data": {
      "text/plain": [
       "array([ 0,  1,  2,  3,  4,  5,  6,  7,  8,  9, 10, 11, 12, 13, 14, 15, 16,\n",
       "       17, 18, 19, 20, 21, 22, 23, 24])"
      ]
     },
     "execution_count": 101,
     "metadata": {},
     "output_type": "execute_result"
    }
   ],
   "source": [
    "arr"
   ]
  },
  {
   "cell_type": "code",
   "execution_count": 102,
   "id": "be1ee3cd",
   "metadata": {},
   "outputs": [
    {
     "ename": "ValueError",
     "evalue": "cannot reshape array of size 25 into shape (5,4)",
     "output_type": "error",
     "traceback": [
      "\u001b[1;31m---------------------------------------------------------------------------\u001b[0m",
      "\u001b[1;31mValueError\u001b[0m                                Traceback (most recent call last)",
      "\u001b[1;32m~\\AppData\\Local\\Temp/ipykernel_8644/2558305353.py\u001b[0m in \u001b[0;36m<module>\u001b[1;34m\u001b[0m\n\u001b[1;32m----> 1\u001b[1;33m \u001b[0marr\u001b[0m\u001b[1;33m.\u001b[0m\u001b[0mreshape\u001b[0m\u001b[1;33m(\u001b[0m\u001b[1;36m5\u001b[0m\u001b[1;33m,\u001b[0m\u001b[1;36m4\u001b[0m\u001b[1;33m)\u001b[0m\u001b[1;33m\u001b[0m\u001b[1;33m\u001b[0m\u001b[0m\n\u001b[0m",
      "\u001b[1;31mValueError\u001b[0m: cannot reshape array of size 25 into shape (5,4)"
     ]
    }
   ],
   "source": [
    "arr.reshape(5,4)"
   ]
  },
  {
   "cell_type": "code",
   "execution_count": 103,
   "id": "c0dedf01",
   "metadata": {},
   "outputs": [
    {
     "data": {
      "text/plain": [
       "array([[ 0],\n",
       "       [ 1],\n",
       "       [ 2],\n",
       "       [ 3],\n",
       "       [ 4],\n",
       "       [ 5],\n",
       "       [ 6],\n",
       "       [ 7],\n",
       "       [ 8],\n",
       "       [ 9],\n",
       "       [10],\n",
       "       [11],\n",
       "       [12],\n",
       "       [13],\n",
       "       [14],\n",
       "       [15],\n",
       "       [16],\n",
       "       [17],\n",
       "       [18],\n",
       "       [19],\n",
       "       [20],\n",
       "       [21],\n",
       "       [22],\n",
       "       [23],\n",
       "       [24]])"
      ]
     },
     "execution_count": 103,
     "metadata": {},
     "output_type": "execute_result"
    }
   ],
   "source": [
    "arr.reshape(25,1)"
   ]
  },
  {
   "cell_type": "code",
   "execution_count": 104,
   "id": "20469f30",
   "metadata": {},
   "outputs": [
    {
     "data": {
      "text/plain": [
       "array([[ 0,  1,  2,  3,  4,  5,  6,  7,  8,  9, 10, 11, 12, 13, 14, 15,\n",
       "        16, 17, 18, 19, 20, 21, 22, 23, 24]])"
      ]
     },
     "execution_count": 104,
     "metadata": {},
     "output_type": "execute_result"
    }
   ],
   "source": [
    "arr.reshape(1,25)"
   ]
  },
  {
   "cell_type": "code",
   "execution_count": 105,
   "id": "7a97b9bc",
   "metadata": {},
   "outputs": [
    {
     "data": {
      "text/plain": [
       "array([ 0,  1,  2,  3,  4,  5,  6,  7,  8,  9, 10, 11, 12, 13, 14, 15, 16,\n",
       "       17, 18, 19, 20, 21, 22, 23, 24])"
      ]
     },
     "execution_count": 105,
     "metadata": {},
     "output_type": "execute_result"
    }
   ],
   "source": [
    "arr"
   ]
  },
  {
   "cell_type": "code",
   "execution_count": 106,
   "id": "d83b9df2",
   "metadata": {},
   "outputs": [
    {
     "data": {
      "text/plain": [
       "array([[ 0,  1,  2,  3,  4],\n",
       "       [ 5,  6,  7,  8,  9],\n",
       "       [10, 11, 12, 13, 14],\n",
       "       [15, 16, 17, 18, 19],\n",
       "       [20, 21, 22, 23, 24]])"
      ]
     },
     "execution_count": 106,
     "metadata": {},
     "output_type": "execute_result"
    }
   ],
   "source": [
    "arr.reshape(5,5)"
   ]
  },
  {
   "cell_type": "code",
   "execution_count": 107,
   "id": "17a7edaa",
   "metadata": {},
   "outputs": [
    {
     "data": {
      "text/plain": [
       "array([[ 0],\n",
       "       [ 1],\n",
       "       [ 2],\n",
       "       [ 3],\n",
       "       [ 4],\n",
       "       [ 5],\n",
       "       [ 6],\n",
       "       [ 7],\n",
       "       [ 8],\n",
       "       [ 9],\n",
       "       [10],\n",
       "       [11],\n",
       "       [12],\n",
       "       [13],\n",
       "       [14],\n",
       "       [15],\n",
       "       [16],\n",
       "       [17],\n",
       "       [18],\n",
       "       [19],\n",
       "       [20],\n",
       "       [21],\n",
       "       [22],\n",
       "       [23],\n",
       "       [24]])"
      ]
     },
     "execution_count": 107,
     "metadata": {},
     "output_type": "execute_result"
    }
   ],
   "source": [
    "arr.reshape(25,1)"
   ]
  },
  {
   "cell_type": "code",
   "execution_count": 108,
   "id": "fc0e7e69",
   "metadata": {},
   "outputs": [
    {
     "data": {
      "text/plain": [
       "array([[ 0,  1,  2,  3,  4,  5,  6,  7,  8,  9, 10, 11, 12, 13, 14, 15,\n",
       "        16, 17, 18, 19, 20, 21, 22, 23, 24]])"
      ]
     },
     "execution_count": 108,
     "metadata": {},
     "output_type": "execute_result"
    }
   ],
   "source": [
    "arr.reshape(1,25)"
   ]
  },
  {
   "cell_type": "code",
   "execution_count": 111,
   "id": "23bea35d",
   "metadata": {},
   "outputs": [
    {
     "data": {
      "text/plain": [
       "array([[ 5,  6,  7],\n",
       "       [ 8,  9, 10],\n",
       "       [11, 12, 13],\n",
       "       [14, 15, 16],\n",
       "       [17, 18, 19]])"
      ]
     },
     "execution_count": 111,
     "metadata": {},
     "output_type": "execute_result"
    }
   ],
   "source": [
    "np.arange(5,20).reshape(5,3)"
   ]
  },
  {
   "cell_type": "code",
   "execution_count": 113,
   "id": "0f3d10a6",
   "metadata": {},
   "outputs": [
    {
     "data": {
      "text/plain": [
       "array([[1, 2],\n",
       "       [3, 4]])"
      ]
     },
     "execution_count": 113,
     "metadata": {},
     "output_type": "execute_result"
    }
   ],
   "source": [
    "np.arange(1,5).reshape(2,2)"
   ]
  },
  {
   "cell_type": "code",
   "execution_count": 114,
   "id": "7a2b089f",
   "metadata": {},
   "outputs": [
    {
     "data": {
      "text/plain": [
       "array([[ 1,  2,  3,  4],\n",
       "       [ 5,  6,  7,  8],\n",
       "       [ 9, 10, 11, 12],\n",
       "       [13, 14, 15, 16]])"
      ]
     },
     "execution_count": 114,
     "metadata": {},
     "output_type": "execute_result"
    }
   ],
   "source": [
    "np.arange(1,17).reshape(4,4)"
   ]
  },
  {
   "cell_type": "code",
   "execution_count": 1,
   "id": "ce24b5ea",
   "metadata": {},
   "outputs": [],
   "source": [
    "### Indexing Arrays"
   ]
  },
  {
   "cell_type": "code",
   "execution_count": 2,
   "id": "c0fdf0f2",
   "metadata": {},
   "outputs": [],
   "source": [
    "import numpy as np"
   ]
  },
  {
   "cell_type": "code",
   "execution_count": 3,
   "id": "c49ab89d",
   "metadata": {},
   "outputs": [],
   "source": [
    "arr1=np.arange(5,15)"
   ]
  },
  {
   "cell_type": "code",
   "execution_count": 4,
   "id": "5b3cc606",
   "metadata": {},
   "outputs": [
    {
     "data": {
      "text/plain": [
       "array([ 5,  6,  7,  8,  9, 10, 11, 12, 13, 14])"
      ]
     },
     "execution_count": 4,
     "metadata": {},
     "output_type": "execute_result"
    }
   ],
   "source": [
    "arr1"
   ]
  },
  {
   "cell_type": "code",
   "execution_count": 5,
   "id": "fbdebe21",
   "metadata": {},
   "outputs": [
    {
     "data": {
      "text/plain": [
       "12"
      ]
     },
     "execution_count": 5,
     "metadata": {},
     "output_type": "execute_result"
    }
   ],
   "source": [
    "arr1[7]"
   ]
  },
  {
   "cell_type": "code",
   "execution_count": 6,
   "id": "f0c0e87b",
   "metadata": {},
   "outputs": [
    {
     "data": {
      "text/plain": [
       "array([14, 13, 12, 11, 10,  9,  8,  7,  6,  5])"
      ]
     },
     "execution_count": 6,
     "metadata": {},
     "output_type": "execute_result"
    }
   ],
   "source": [
    "arr1[::-1]"
   ]
  },
  {
   "cell_type": "code",
   "execution_count": 7,
   "id": "39743b6a",
   "metadata": {},
   "outputs": [
    {
     "data": {
      "text/plain": [
       "array([ 9, 10, 11, 12])"
      ]
     },
     "execution_count": 7,
     "metadata": {},
     "output_type": "execute_result"
    }
   ],
   "source": [
    "arr1[4:8]"
   ]
  },
  {
   "cell_type": "code",
   "execution_count": 8,
   "id": "f76a08f9",
   "metadata": {},
   "outputs": [],
   "source": [
    "## Broadcasting"
   ]
  },
  {
   "cell_type": "code",
   "execution_count": 9,
   "id": "8ad9cc5e",
   "metadata": {},
   "outputs": [
    {
     "data": {
      "text/plain": [
       "array([ 5,  6,  7,  8,  9, 10, 11, 12, 13, 14])"
      ]
     },
     "execution_count": 9,
     "metadata": {},
     "output_type": "execute_result"
    }
   ],
   "source": [
    "arr1"
   ]
  },
  {
   "cell_type": "code",
   "execution_count": 10,
   "id": "3724a618",
   "metadata": {},
   "outputs": [
    {
     "data": {
      "text/plain": [
       "array([ 8,  9, 10, 11])"
      ]
     },
     "execution_count": 10,
     "metadata": {},
     "output_type": "execute_result"
    }
   ],
   "source": [
    "arr1[3:7]"
   ]
  },
  {
   "cell_type": "code",
   "execution_count": 11,
   "id": "e7818581",
   "metadata": {},
   "outputs": [],
   "source": [
    "arr2=arr1[3:7]"
   ]
  },
  {
   "cell_type": "code",
   "execution_count": 12,
   "id": "fc20c680",
   "metadata": {},
   "outputs": [
    {
     "data": {
      "text/plain": [
       "array([ 8,  9, 10, 11])"
      ]
     },
     "execution_count": 12,
     "metadata": {},
     "output_type": "execute_result"
    }
   ],
   "source": [
    "arr2"
   ]
  },
  {
   "cell_type": "code",
   "execution_count": 13,
   "id": "d98ca8a3",
   "metadata": {},
   "outputs": [
    {
     "data": {
      "text/plain": [
       "array([ 9, 10])"
      ]
     },
     "execution_count": 13,
     "metadata": {},
     "output_type": "execute_result"
    }
   ],
   "source": [
    "arr2[1:3]"
   ]
  },
  {
   "cell_type": "code",
   "execution_count": 14,
   "id": "8dfc4a44",
   "metadata": {},
   "outputs": [],
   "source": [
    "arr2[1:3]=67"
   ]
  },
  {
   "cell_type": "code",
   "execution_count": 15,
   "id": "e7b029cc",
   "metadata": {},
   "outputs": [
    {
     "data": {
      "text/plain": [
       "array([ 8, 67, 67, 11])"
      ]
     },
     "execution_count": 15,
     "metadata": {},
     "output_type": "execute_result"
    }
   ],
   "source": [
    "arr2"
   ]
  },
  {
   "cell_type": "code",
   "execution_count": 16,
   "id": "ce83598c",
   "metadata": {},
   "outputs": [
    {
     "data": {
      "text/plain": [
       "array([ 5,  6,  7,  8, 67, 67, 11, 12, 13, 14])"
      ]
     },
     "execution_count": 16,
     "metadata": {},
     "output_type": "execute_result"
    }
   ],
   "source": [
    "arr1"
   ]
  },
  {
   "cell_type": "code",
   "execution_count": 17,
   "id": "18ae373d",
   "metadata": {},
   "outputs": [],
   "source": [
    "### Indexing 2D arrays"
   ]
  },
  {
   "cell_type": "code",
   "execution_count": 18,
   "id": "dde59fb0",
   "metadata": {},
   "outputs": [],
   "source": [
    "arr3=np.arange(1,26).reshape(5,5)"
   ]
  },
  {
   "cell_type": "code",
   "execution_count": 19,
   "id": "0fe9ed1d",
   "metadata": {},
   "outputs": [
    {
     "data": {
      "text/plain": [
       "array([[ 1,  2,  3,  4,  5],\n",
       "       [ 6,  7,  8,  9, 10],\n",
       "       [11, 12, 13, 14, 15],\n",
       "       [16, 17, 18, 19, 20],\n",
       "       [21, 22, 23, 24, 25]])"
      ]
     },
     "execution_count": 19,
     "metadata": {},
     "output_type": "execute_result"
    }
   ],
   "source": [
    "arr3"
   ]
  },
  {
   "cell_type": "code",
   "execution_count": 20,
   "id": "c3c9f70b",
   "metadata": {},
   "outputs": [
    {
     "data": {
      "text/plain": [
       "19"
      ]
     },
     "execution_count": 20,
     "metadata": {},
     "output_type": "execute_result"
    }
   ],
   "source": [
    "arr3[3,3]"
   ]
  },
  {
   "cell_type": "code",
   "execution_count": 21,
   "id": "fbcd3c3b",
   "metadata": {},
   "outputs": [
    {
     "data": {
      "text/plain": [
       "15"
      ]
     },
     "execution_count": 21,
     "metadata": {},
     "output_type": "execute_result"
    }
   ],
   "source": [
    "arr3[2,4]"
   ]
  },
  {
   "cell_type": "code",
   "execution_count": 22,
   "id": "42b29b98",
   "metadata": {},
   "outputs": [
    {
     "data": {
      "text/plain": [
       "array([ 7, 12])"
      ]
     },
     "execution_count": 22,
     "metadata": {},
     "output_type": "execute_result"
    }
   ],
   "source": [
    "arr3[1:3,1]"
   ]
  },
  {
   "cell_type": "code",
   "execution_count": 23,
   "id": "051be92f",
   "metadata": {},
   "outputs": [
    {
     "data": {
      "text/plain": [
       "array([14, 19])"
      ]
     },
     "execution_count": 23,
     "metadata": {},
     "output_type": "execute_result"
    }
   ],
   "source": [
    "arr3[2:4,3]"
   ]
  },
  {
   "cell_type": "code",
   "execution_count": 25,
   "id": "edd9c656",
   "metadata": {},
   "outputs": [
    {
     "data": {
      "text/plain": [
       "array([[ 1,  2,  3,  4,  5],\n",
       "       [ 6,  7,  8,  9, 10],\n",
       "       [11, 12, 13, 14, 15],\n",
       "       [16, 17, 18, 19, 20],\n",
       "       [21, 22, 23, 24, 25]])"
      ]
     },
     "execution_count": 25,
     "metadata": {},
     "output_type": "execute_result"
    }
   ],
   "source": [
    "arr3"
   ]
  },
  {
   "cell_type": "code",
   "execution_count": 26,
   "id": "6006dfe7",
   "metadata": {},
   "outputs": [
    {
     "data": {
      "text/plain": [
       "array([ 8, 13])"
      ]
     },
     "execution_count": 26,
     "metadata": {},
     "output_type": "execute_result"
    }
   ],
   "source": [
    "arr3[1:3,2]"
   ]
  },
  {
   "cell_type": "code",
   "execution_count": 27,
   "id": "53acb859",
   "metadata": {},
   "outputs": [
    {
     "data": {
      "text/plain": [
       "array([[ 1,  2,  3,  4,  5],\n",
       "       [ 6,  7,  8,  9, 10],\n",
       "       [11, 12, 13, 14, 15],\n",
       "       [16, 17, 18, 19, 20],\n",
       "       [21, 22, 23, 24, 25]])"
      ]
     },
     "execution_count": 27,
     "metadata": {},
     "output_type": "execute_result"
    }
   ],
   "source": [
    "arr3"
   ]
  },
  {
   "cell_type": "code",
   "execution_count": 28,
   "id": "472006e9",
   "metadata": {},
   "outputs": [
    {
     "data": {
      "text/plain": [
       "array([15, 20])"
      ]
     },
     "execution_count": 28,
     "metadata": {},
     "output_type": "execute_result"
    }
   ],
   "source": [
    "arr3[2:4,4]"
   ]
  },
  {
   "cell_type": "code",
   "execution_count": 29,
   "id": "426c9b14",
   "metadata": {},
   "outputs": [
    {
     "data": {
      "text/plain": [
       "array([[15],\n",
       "       [20]])"
      ]
     },
     "execution_count": 29,
     "metadata": {},
     "output_type": "execute_result"
    }
   ],
   "source": [
    "arr3[2:4,4:5]"
   ]
  },
  {
   "cell_type": "code",
   "execution_count": 30,
   "id": "f57d0fb8",
   "metadata": {},
   "outputs": [
    {
     "data": {
      "text/plain": [
       "array([[ 1,  2,  3,  4,  5],\n",
       "       [ 6,  7,  8,  9, 10],\n",
       "       [11, 12, 13, 14, 15],\n",
       "       [16, 17, 18, 19, 20],\n",
       "       [21, 22, 23, 24, 25]])"
      ]
     },
     "execution_count": 30,
     "metadata": {},
     "output_type": "execute_result"
    }
   ],
   "source": [
    "arr3"
   ]
  },
  {
   "cell_type": "code",
   "execution_count": 31,
   "id": "7cd0c5ca",
   "metadata": {},
   "outputs": [
    {
     "data": {
      "text/plain": [
       "array([[13, 14]])"
      ]
     },
     "execution_count": 31,
     "metadata": {},
     "output_type": "execute_result"
    }
   ],
   "source": [
    "arr3[2:3,2:4]"
   ]
  },
  {
   "cell_type": "code",
   "execution_count": 33,
   "id": "8b6b786d",
   "metadata": {},
   "outputs": [
    {
     "data": {
      "text/plain": [
       "array([[11, 12, 13, 14, 15],\n",
       "       [16, 17, 18, 19, 20]])"
      ]
     },
     "execution_count": 33,
     "metadata": {},
     "output_type": "execute_result"
    }
   ],
   "source": [
    "arr3[2:4,0:]"
   ]
  },
  {
   "cell_type": "code",
   "execution_count": 34,
   "id": "8d7a5f11",
   "metadata": {},
   "outputs": [
    {
     "data": {
      "text/plain": [
       "array([[11, 12, 13, 14, 15],\n",
       "       [16, 17, 18, 19, 20]])"
      ]
     },
     "execution_count": 34,
     "metadata": {},
     "output_type": "execute_result"
    }
   ],
   "source": [
    "arr3[2:4]"
   ]
  },
  {
   "cell_type": "code",
   "execution_count": 35,
   "id": "1b5bdce5",
   "metadata": {},
   "outputs": [
    {
     "data": {
      "text/plain": [
       "array([[ 1,  2,  3,  4,  5],\n",
       "       [ 6,  7,  8,  9, 10],\n",
       "       [11, 12, 13, 14, 15],\n",
       "       [16, 17, 18, 19, 20],\n",
       "       [21, 22, 23, 24, 25]])"
      ]
     },
     "execution_count": 35,
     "metadata": {},
     "output_type": "execute_result"
    }
   ],
   "source": [
    "arr3"
   ]
  },
  {
   "cell_type": "code",
   "execution_count": 36,
   "id": "459564ad",
   "metadata": {},
   "outputs": [
    {
     "data": {
      "text/plain": [
       "array([[ 2],\n",
       "       [ 7],\n",
       "       [12]])"
      ]
     },
     "execution_count": 36,
     "metadata": {},
     "output_type": "execute_result"
    }
   ],
   "source": [
    "arr3[:3,1:2]"
   ]
  },
  {
   "cell_type": "code",
   "execution_count": 37,
   "id": "c623cb9c",
   "metadata": {},
   "outputs": [
    {
     "data": {
      "text/plain": [
       "array([[ 2],\n",
       "       [ 7],\n",
       "       [12]])"
      ]
     },
     "execution_count": 37,
     "metadata": {},
     "output_type": "execute_result"
    }
   ],
   "source": [
    "arr3[0:3,1:2]"
   ]
  },
  {
   "cell_type": "code",
   "execution_count": 38,
   "id": "9c8b886c",
   "metadata": {},
   "outputs": [
    {
     "data": {
      "text/plain": [
       "array([[ 1,  2,  3,  4,  5],\n",
       "       [ 6,  7,  8,  9, 10],\n",
       "       [11, 12, 13, 14, 15],\n",
       "       [16, 17, 18, 19, 20],\n",
       "       [21, 22, 23, 24, 25]])"
      ]
     },
     "execution_count": 38,
     "metadata": {},
     "output_type": "execute_result"
    }
   ],
   "source": [
    "arr3"
   ]
  },
  {
   "cell_type": "code",
   "execution_count": 39,
   "id": "68f1b304",
   "metadata": {},
   "outputs": [
    {
     "data": {
      "text/plain": [
       "array([ 7, 19])"
      ]
     },
     "execution_count": 39,
     "metadata": {},
     "output_type": "execute_result"
    }
   ],
   "source": [
    "arr3[[1,3],[1,3]]"
   ]
  },
  {
   "cell_type": "code",
   "execution_count": 40,
   "id": "dac31567",
   "metadata": {},
   "outputs": [
    {
     "data": {
      "text/plain": [
       "array([ 6, 20])"
      ]
     },
     "execution_count": 40,
     "metadata": {},
     "output_type": "execute_result"
    }
   ],
   "source": [
    "arr3[[1,3],[0,4]]"
   ]
  },
  {
   "cell_type": "code",
   "execution_count": 41,
   "id": "3e0ef8cd",
   "metadata": {},
   "outputs": [
    {
     "data": {
      "text/plain": [
       "array([[ 1,  2,  3,  4,  5],\n",
       "       [ 6,  7,  8,  9, 10],\n",
       "       [11, 12, 13, 14, 15],\n",
       "       [16, 17, 18, 19, 20],\n",
       "       [21, 22, 23, 24, 25]])"
      ]
     },
     "execution_count": 41,
     "metadata": {},
     "output_type": "execute_result"
    }
   ],
   "source": [
    "arr3"
   ]
  },
  {
   "cell_type": "code",
   "execution_count": 43,
   "id": "b0518d52",
   "metadata": {},
   "outputs": [
    {
     "data": {
      "text/plain": [
       "array([[16, 17, 18, 19, 20],\n",
       "       [21, 22, 23, 24, 25]])"
      ]
     },
     "execution_count": 43,
     "metadata": {},
     "output_type": "execute_result"
    }
   ],
   "source": [
    "arr3[3:,]"
   ]
  },
  {
   "cell_type": "code",
   "execution_count": 44,
   "id": "5b0a4a87",
   "metadata": {},
   "outputs": [],
   "source": [
    "arr5=np.arange(1,15)"
   ]
  },
  {
   "cell_type": "code",
   "execution_count": 45,
   "id": "f293fcb5",
   "metadata": {},
   "outputs": [
    {
     "data": {
      "text/plain": [
       "array([ 1,  2,  3,  4,  5,  6,  7,  8,  9, 10, 11, 12, 13, 14])"
      ]
     },
     "execution_count": 45,
     "metadata": {},
     "output_type": "execute_result"
    }
   ],
   "source": [
    "arr5"
   ]
  },
  {
   "cell_type": "code",
   "execution_count": 46,
   "id": "ac6bf471",
   "metadata": {},
   "outputs": [
    {
     "data": {
      "text/plain": [
       "array([False, False, False, False,  True,  True,  True,  True,  True,\n",
       "        True,  True,  True,  True,  True])"
      ]
     },
     "execution_count": 46,
     "metadata": {},
     "output_type": "execute_result"
    }
   ],
   "source": [
    "arr5>4"
   ]
  },
  {
   "cell_type": "code",
   "execution_count": 47,
   "id": "4edb6846",
   "metadata": {},
   "outputs": [
    {
     "data": {
      "text/plain": [
       "array([ 5,  6,  7,  8,  9, 10, 11, 12, 13, 14])"
      ]
     },
     "execution_count": 47,
     "metadata": {},
     "output_type": "execute_result"
    }
   ],
   "source": [
    "arr5[arr5>4]"
   ]
  },
  {
   "cell_type": "code",
   "execution_count": 49,
   "id": "13799810",
   "metadata": {},
   "outputs": [
    {
     "data": {
      "text/plain": [
       "array([1, 2, 3, 4])"
      ]
     },
     "execution_count": 49,
     "metadata": {},
     "output_type": "execute_result"
    }
   ],
   "source": [
    "arr5[arr5<=4]"
   ]
  },
  {
   "cell_type": "code",
   "execution_count": 50,
   "id": "ee37f137",
   "metadata": {},
   "outputs": [],
   "source": [
    "### numpy Operations"
   ]
  },
  {
   "cell_type": "code",
   "execution_count": 51,
   "id": "f95f2a5b",
   "metadata": {},
   "outputs": [],
   "source": [
    "arr6=np.arange(0,10)"
   ]
  },
  {
   "cell_type": "code",
   "execution_count": 52,
   "id": "c5f9132c",
   "metadata": {},
   "outputs": [
    {
     "data": {
      "text/plain": [
       "array([0, 1, 2, 3, 4, 5, 6, 7, 8, 9])"
      ]
     },
     "execution_count": 52,
     "metadata": {},
     "output_type": "execute_result"
    }
   ],
   "source": [
    "arr6"
   ]
  },
  {
   "cell_type": "code",
   "execution_count": 53,
   "id": "48e21236",
   "metadata": {},
   "outputs": [
    {
     "data": {
      "text/plain": [
       "array([ 0,  2,  4,  6,  8, 10, 12, 14, 16, 18])"
      ]
     },
     "execution_count": 53,
     "metadata": {},
     "output_type": "execute_result"
    }
   ],
   "source": [
    "arr6+arr6"
   ]
  },
  {
   "cell_type": "code",
   "execution_count": 54,
   "id": "d922f99f",
   "metadata": {},
   "outputs": [
    {
     "data": {
      "text/plain": [
       "array([0, 0, 0, 0, 0, 0, 0, 0, 0, 0])"
      ]
     },
     "execution_count": 54,
     "metadata": {},
     "output_type": "execute_result"
    }
   ],
   "source": [
    "arr6-arr6"
   ]
  },
  {
   "cell_type": "code",
   "execution_count": 55,
   "id": "c38bae07",
   "metadata": {},
   "outputs": [
    {
     "data": {
      "text/plain": [
       "array([ 0,  1,  4,  9, 16, 25, 36, 49, 64, 81])"
      ]
     },
     "execution_count": 55,
     "metadata": {},
     "output_type": "execute_result"
    }
   ],
   "source": [
    "arr6*arr6"
   ]
  },
  {
   "cell_type": "code",
   "execution_count": 56,
   "id": "57fd5472",
   "metadata": {},
   "outputs": [
    {
     "data": {
      "text/plain": [
       "array([  0,   1,   8,  27,  64, 125, 216, 343, 512, 729], dtype=int32)"
      ]
     },
     "execution_count": 56,
     "metadata": {},
     "output_type": "execute_result"
    }
   ],
   "source": [
    "arr6**3"
   ]
  },
  {
   "cell_type": "code",
   "execution_count": 57,
   "id": "393565e6",
   "metadata": {},
   "outputs": [
    {
     "data": {
      "text/plain": [
       "array([0, 1, 2, 3, 4, 5, 6, 7, 8, 9])"
      ]
     },
     "execution_count": 57,
     "metadata": {},
     "output_type": "execute_result"
    }
   ],
   "source": [
    "arr6"
   ]
  },
  {
   "cell_type": "code",
   "execution_count": 58,
   "id": "ab32c97c",
   "metadata": {},
   "outputs": [
    {
     "name": "stderr",
     "output_type": "stream",
     "text": [
      "C:\\Users\\Admin\\AppData\\Local\\Temp/ipykernel_764/61916801.py:1: RuntimeWarning: invalid value encountered in true_divide\n",
      "  arr6/arr6\n"
     ]
    },
    {
     "data": {
      "text/plain": [
       "array([nan,  1.,  1.,  1.,  1.,  1.,  1.,  1.,  1.,  1.])"
      ]
     },
     "execution_count": 58,
     "metadata": {},
     "output_type": "execute_result"
    }
   ],
   "source": [
    "arr6/arr6"
   ]
  },
  {
   "cell_type": "code",
   "execution_count": 59,
   "id": "3e17435e",
   "metadata": {},
   "outputs": [
    {
     "name": "stderr",
     "output_type": "stream",
     "text": [
      "C:\\Users\\Admin\\AppData\\Local\\Temp/ipykernel_764/3180675830.py:1: RuntimeWarning: divide by zero encountered in true_divide\n",
      "  1/arr6\n"
     ]
    },
    {
     "data": {
      "text/plain": [
       "array([       inf, 1.        , 0.5       , 0.33333333, 0.25      ,\n",
       "       0.2       , 0.16666667, 0.14285714, 0.125     , 0.11111111])"
      ]
     },
     "execution_count": 59,
     "metadata": {},
     "output_type": "execute_result"
    }
   ],
   "source": [
    "1/arr6"
   ]
  },
  {
   "cell_type": "code",
   "execution_count": 60,
   "id": "f76568bd",
   "metadata": {},
   "outputs": [
    {
     "data": {
      "text/plain": [
       "array([0, 1, 2, 3, 4, 5, 6, 7, 8, 9])"
      ]
     },
     "execution_count": 60,
     "metadata": {},
     "output_type": "execute_result"
    }
   ],
   "source": [
    "arr6"
   ]
  },
  {
   "cell_type": "code",
   "execution_count": 61,
   "id": "d12afa01",
   "metadata": {},
   "outputs": [
    {
     "data": {
      "text/plain": [
       "array([0.        , 1.        , 1.41421356, 1.73205081, 2.        ,\n",
       "       2.23606798, 2.44948974, 2.64575131, 2.82842712, 3.        ])"
      ]
     },
     "execution_count": 61,
     "metadata": {},
     "output_type": "execute_result"
    }
   ],
   "source": [
    "np.sqrt(arr6)"
   ]
  },
  {
   "cell_type": "code",
   "execution_count": 62,
   "id": "87dd327e",
   "metadata": {},
   "outputs": [
    {
     "data": {
      "text/plain": [
       "array([ 0.        ,  0.84147098,  0.90929743,  0.14112001, -0.7568025 ,\n",
       "       -0.95892427, -0.2794155 ,  0.6569866 ,  0.98935825,  0.41211849])"
      ]
     },
     "execution_count": 62,
     "metadata": {},
     "output_type": "execute_result"
    }
   ],
   "source": [
    "np.sin(arr6)"
   ]
  },
  {
   "cell_type": "code",
   "execution_count": 63,
   "id": "93250feb",
   "metadata": {},
   "outputs": [
    {
     "name": "stderr",
     "output_type": "stream",
     "text": [
      "C:\\Users\\Admin\\AppData\\Local\\Temp/ipykernel_764/3307335837.py:1: RuntimeWarning: divide by zero encountered in log\n",
      "  np.log(arr6)\n"
     ]
    },
    {
     "data": {
      "text/plain": [
       "array([      -inf, 0.        , 0.69314718, 1.09861229, 1.38629436,\n",
       "       1.60943791, 1.79175947, 1.94591015, 2.07944154, 2.19722458])"
      ]
     },
     "execution_count": 63,
     "metadata": {},
     "output_type": "execute_result"
    }
   ],
   "source": [
    "np.log(arr6)"
   ]
  },
  {
   "cell_type": "code",
   "execution_count": 64,
   "id": "125ef124",
   "metadata": {},
   "outputs": [
    {
     "data": {
      "text/plain": [
       "array([ 1,  2,  3,  4,  5,  6,  7,  8,  9, 10, 11, 12, 13, 14])"
      ]
     },
     "execution_count": 64,
     "metadata": {},
     "output_type": "execute_result"
    }
   ],
   "source": [
    "arr5"
   ]
  },
  {
   "cell_type": "code",
   "execution_count": 65,
   "id": "5e2ac1ec",
   "metadata": {},
   "outputs": [
    {
     "data": {
      "text/plain": [
       "array([[ 1,  2,  3,  4,  5],\n",
       "       [ 6,  7,  8,  9, 10],\n",
       "       [11, 12, 13, 14, 15],\n",
       "       [16, 17, 18, 19, 20],\n",
       "       [21, 22, 23, 24, 25]])"
      ]
     },
     "execution_count": 65,
     "metadata": {},
     "output_type": "execute_result"
    }
   ],
   "source": [
    "arr3"
   ]
  },
  {
   "cell_type": "code",
   "execution_count": 66,
   "id": "5665bb61",
   "metadata": {},
   "outputs": [
    {
     "data": {
      "text/plain": [
       "325"
      ]
     },
     "execution_count": 66,
     "metadata": {},
     "output_type": "execute_result"
    }
   ],
   "source": [
    "arr3.sum()"
   ]
  },
  {
   "cell_type": "code",
   "execution_count": 67,
   "id": "d4a09475",
   "metadata": {},
   "outputs": [
    {
     "data": {
      "text/plain": [
       "325"
      ]
     },
     "execution_count": 67,
     "metadata": {},
     "output_type": "execute_result"
    }
   ],
   "source": [
    "np.sum(arr3)"
   ]
  },
  {
   "cell_type": "code",
   "execution_count": 69,
   "id": "b31c292e",
   "metadata": {},
   "outputs": [
    {
     "data": {
      "text/plain": [
       "7.211102550927978"
      ]
     },
     "execution_count": 69,
     "metadata": {},
     "output_type": "execute_result"
    }
   ],
   "source": [
    "np.std(arr3)"
   ]
  },
  {
   "cell_type": "code",
   "execution_count": 70,
   "id": "50a26c9f",
   "metadata": {},
   "outputs": [
    {
     "data": {
      "text/plain": [
       "array([[ 1,  2,  3,  4,  5],\n",
       "       [ 6,  7,  8,  9, 10],\n",
       "       [11, 12, 13, 14, 15],\n",
       "       [16, 17, 18, 19, 20],\n",
       "       [21, 22, 23, 24, 25]])"
      ]
     },
     "execution_count": 70,
     "metadata": {},
     "output_type": "execute_result"
    }
   ],
   "source": [
    "arr3"
   ]
  },
  {
   "cell_type": "code",
   "execution_count": 71,
   "id": "10f50894",
   "metadata": {},
   "outputs": [
    {
     "data": {
      "text/plain": [
       "array([ 15,  40,  65,  90, 115])"
      ]
     },
     "execution_count": 71,
     "metadata": {},
     "output_type": "execute_result"
    }
   ],
   "source": [
    "arr3.sum(axis=1)"
   ]
  },
  {
   "cell_type": "code",
   "execution_count": 72,
   "id": "ed7ce179",
   "metadata": {},
   "outputs": [
    {
     "data": {
      "text/plain": [
       "array([55, 60, 65, 70, 75])"
      ]
     },
     "execution_count": 72,
     "metadata": {},
     "output_type": "execute_result"
    }
   ],
   "source": [
    "arr3.sum(axis=0)"
   ]
  },
  {
   "cell_type": "code",
   "execution_count": 73,
   "id": "0c55fcd5",
   "metadata": {},
   "outputs": [],
   "source": [
    "## fancy Indexing"
   ]
  },
  {
   "cell_type": "code",
   "execution_count": 75,
   "id": "fead150b",
   "metadata": {},
   "outputs": [],
   "source": [
    "arr7=np.zeros((10,10))"
   ]
  },
  {
   "cell_type": "code",
   "execution_count": 76,
   "id": "42da5d9f",
   "metadata": {},
   "outputs": [
    {
     "data": {
      "text/plain": [
       "array([[0., 0., 0., 0., 0., 0., 0., 0., 0., 0.],\n",
       "       [0., 0., 0., 0., 0., 0., 0., 0., 0., 0.],\n",
       "       [0., 0., 0., 0., 0., 0., 0., 0., 0., 0.],\n",
       "       [0., 0., 0., 0., 0., 0., 0., 0., 0., 0.],\n",
       "       [0., 0., 0., 0., 0., 0., 0., 0., 0., 0.],\n",
       "       [0., 0., 0., 0., 0., 0., 0., 0., 0., 0.],\n",
       "       [0., 0., 0., 0., 0., 0., 0., 0., 0., 0.],\n",
       "       [0., 0., 0., 0., 0., 0., 0., 0., 0., 0.],\n",
       "       [0., 0., 0., 0., 0., 0., 0., 0., 0., 0.],\n",
       "       [0., 0., 0., 0., 0., 0., 0., 0., 0., 0.]])"
      ]
     },
     "execution_count": 76,
     "metadata": {},
     "output_type": "execute_result"
    }
   ],
   "source": [
    "arr7"
   ]
  },
  {
   "cell_type": "code",
   "execution_count": 78,
   "id": "e38fe473",
   "metadata": {},
   "outputs": [],
   "source": [
    "for v in range(10):\n",
    "    arr7[v]=v"
   ]
  },
  {
   "cell_type": "code",
   "execution_count": 79,
   "id": "74225db9",
   "metadata": {},
   "outputs": [
    {
     "data": {
      "text/plain": [
       "array([[0., 0., 0., 0., 0., 0., 0., 0., 0., 0.],\n",
       "       [1., 1., 1., 1., 1., 1., 1., 1., 1., 1.],\n",
       "       [2., 2., 2., 2., 2., 2., 2., 2., 2., 2.],\n",
       "       [3., 3., 3., 3., 3., 3., 3., 3., 3., 3.],\n",
       "       [4., 4., 4., 4., 4., 4., 4., 4., 4., 4.],\n",
       "       [5., 5., 5., 5., 5., 5., 5., 5., 5., 5.],\n",
       "       [6., 6., 6., 6., 6., 6., 6., 6., 6., 6.],\n",
       "       [7., 7., 7., 7., 7., 7., 7., 7., 7., 7.],\n",
       "       [8., 8., 8., 8., 8., 8., 8., 8., 8., 8.],\n",
       "       [9., 9., 9., 9., 9., 9., 9., 9., 9., 9.]])"
      ]
     },
     "execution_count": 79,
     "metadata": {},
     "output_type": "execute_result"
    }
   ],
   "source": [
    "arr7"
   ]
  },
  {
   "cell_type": "code",
   "execution_count": 80,
   "id": "4ffe91c2",
   "metadata": {},
   "outputs": [
    {
     "data": {
      "text/plain": [
       "array([[2., 2., 2., 2., 2., 2., 2., 2., 2., 2.],\n",
       "       [8., 8., 8., 8., 8., 8., 8., 8., 8., 8.],\n",
       "       [4., 4., 4., 4., 4., 4., 4., 4., 4., 4.],\n",
       "       [5., 5., 5., 5., 5., 5., 5., 5., 5., 5.]])"
      ]
     },
     "execution_count": 80,
     "metadata": {},
     "output_type": "execute_result"
    }
   ],
   "source": [
    "arr7[[2,8,4,5]]"
   ]
  },
  {
   "cell_type": "code",
   "execution_count": 81,
   "id": "ce76b1b7",
   "metadata": {},
   "outputs": [
    {
     "data": {
      "text/plain": [
       "array([[5., 5., 5., 5., 5., 5., 5., 5., 5., 5.],\n",
       "       [1., 1., 1., 1., 1., 1., 1., 1., 1., 1.],\n",
       "       [8., 8., 8., 8., 8., 8., 8., 8., 8., 8.],\n",
       "       [3., 3., 3., 3., 3., 3., 3., 3., 3., 3.]])"
      ]
     },
     "execution_count": 81,
     "metadata": {},
     "output_type": "execute_result"
    }
   ],
   "source": [
    "arr7[[5,1,8,3]]"
   ]
  },
  {
   "cell_type": "code",
   "execution_count": 82,
   "id": "dd8e5dcf",
   "metadata": {},
   "outputs": [
    {
     "data": {
      "text/plain": [
       "'C:\\\\Users\\\\Admin'"
      ]
     },
     "execution_count": 82,
     "metadata": {},
     "output_type": "execute_result"
    }
   ],
   "source": [
    "pwd"
   ]
  },
  {
   "cell_type": "code",
   "execution_count": null,
   "id": "b6055ebf",
   "metadata": {},
   "outputs": [],
   "source": []
  }
 ],
 "metadata": {
  "kernelspec": {
   "display_name": "Python 3 (ipykernel)",
   "language": "python",
   "name": "python3"
  },
  "language_info": {
   "codemirror_mode": {
    "name": "ipython",
    "version": 3
   },
   "file_extension": ".py",
   "mimetype": "text/x-python",
   "name": "python",
   "nbconvert_exporter": "python",
   "pygments_lexer": "ipython3",
   "version": "3.9.7"
  }
 },
 "nbformat": 4,
 "nbformat_minor": 5
}
